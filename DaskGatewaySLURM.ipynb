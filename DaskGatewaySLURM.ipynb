{
 "cells": [
  {
   "cell_type": "code",
   "execution_count": 1,
   "id": "275494e4-3a0f-4d26-aafe-8abd771df5b4",
   "metadata": {},
   "outputs": [],
   "source": [
    "import os\n",
    "from dask_gateway import Gateway\n",
    "gateway = Gateway(\n",
    "    \"http://dask-gateway-k8s.geddes.rcac.purdue.edu/\",\n",
    "    proxy_address=\"traefik-dask-gateway-k8s.cms.geddes.rcac.purdue.edu:8786\",\n",
    ")"
   ]
  },
  {
   "cell_type": "code",
   "execution_count": 3,
   "id": "c1a51702-2fab-4bd6-a4f0-22cf289d5948",
   "metadata": {
    "editable": true,
    "scrolled": true,
    "slideshow": {
     "slide_type": ""
    },
    "tags": []
   },
   "outputs": [
    {
     "name": "stderr",
     "output_type": "stream",
     "text": [
      "/depot/cms/kernels/python3/lib/python3.10/site-packages/dask_gateway/client.py:702: GatewayWarning: Adapt with `maximum=300, minimum=3` workers would exceed resource limit of 89 workers. Using `maximum=89, minimum=3` instead.\n",
      "  warnings.warn(GatewayWarning(msg[\"msg\"]))\n"
     ]
    },
    {
     "data": {
      "application/vnd.jupyter.widget-view+json": {
       "model_id": "3f8c8c71e8d044bd86d11ce8a27a27fc",
       "version_major": 2,
       "version_minor": 0
      },
      "text/plain": [
       "VBox(children=(HTML(value='<h2>GatewayCluster</h2>'), HBox(children=(HTML(value='\\n<div>\\n<style scoped>\\n    …"
      ]
     },
     "metadata": {},
     "output_type": "display_data"
    }
   ],
   "source": [
    "os.environ[\"X509_USER_PROXY\"] = \"/work/users/yun79/x509up_u383571\"\n",
    "os.environ[\"PYTHONPATH\"] = \"/work/users/yun79/dmitry/another_fork/copperhead_fork2\"+ os.environ[\"PYTHONPATH\"]\n",
    "# os.environ[\"PYTHONPATH\"] = \":/work/users/yun79/dmitry/recreate_valerie/copperhead_fork\"\n",
    "os.environ['PWD'] = \"/work/users/yun79/dmitry/another_fork/copperhead_fork2\"\n",
    "os.environ[\"WORKDIR\"] = \"/work/users/yun79/dmitry/another_fork/copperhead_fork2\"\n",
    "os.environ['XRD_REQUESTTIMEOUT'] = \"2400\"\n",
    "\n",
    "cluster = gateway.new_cluster(\n",
    "    conda_env = \"/depot/cms/kernels/python3\",\n",
    "    worker_cores = 1,#1\n",
    "    worker_memory = 9,#4 # 6 #9\n",
    "    env = dict(os.environ),\n",
    "\n",
    ")\n",
    "\n",
    "# cluster.scale(20) \n",
    "# cluster.scale(5) \n",
    "cluster.adapt(minimum=3, maximum=300)\n",
    "cluster"
   ]
  },
  {
   "cell_type": "code",
   "execution_count": 8,
   "id": "1b14730c-1af4-466b-bfdc-01b1009fd739",
   "metadata": {},
   "outputs": [
    {
     "data": {
      "text/plain": [
       "'/work/users/yun79/dmitry/copperhead_fork2:/work/users/yun79/dmitry/copperhead_fork2:/depot/cms/purdue-af/lhapdf/lib/python3.10/site-packages:/opt/root/lib/:/opt/root/bin/'"
      ]
     },
     "execution_count": 8,
     "metadata": {},
     "output_type": "execute_result"
    }
   ],
   "source": [
    "os.environ['PYTHONPATH'] "
   ]
  },
  {
   "cell_type": "code",
   "execution_count": 21,
   "id": "261e24ba-b69f-4b00-a410-c95b48e9299c",
   "metadata": {},
   "outputs": [],
   "source": [
    "import awkward as ak\n",
    "\n",
    "output = ak.from_parquet(\"/depot/cms/users/yun79/hmm/copperheadV1clean/rereco_yun_JecDefaultZptOnJecUncOn_Nov20/stage1_output/2018/vbf_powheg_dipole/b829fb315670efd73aa2844e07ea605c.parquet\")\n",
    "\n",
    "output_test = ak.from_parquet(\"/depot/cms/users/yun79/hmm/copperheadV1clean/test/stage1_output/2018/vbf_powheg_dipole/8cb74eb195e73f5080d84dd2750d72b9.parquet\")\n",
    "\n"
   ]
  },
  {
   "cell_type": "code",
   "execution_count": 22,
   "id": "729d6f42-68da-4d0e-b28c-d6bf9ed48878",
   "metadata": {},
   "outputs": [
    {
     "data": {
      "text/plain": [
       "True"
      ]
     },
     "execution_count": 22,
     "metadata": {},
     "output_type": "execute_result"
    }
   ],
   "source": [
    "np.all(np.isclose(output_test.wgt_nominal,output.wgt_nominal))"
   ]
  },
  {
   "cell_type": "code",
   "execution_count": 13,
   "id": "ef7c1c8d-d729-4766-bf26-7854863f5cca",
   "metadata": {},
   "outputs": [
    {
     "name": "stdout",
     "output_type": "stream",
     "text": [
      "wgt_genwgt\n",
      "wgt_lumi\n",
      "wgt_muID\n",
      "wgt_muIso\n",
      "wgt_muTrig\n",
      "wgt_nnlops\n",
      "wgt_pu_wgt\n"
     ]
    }
   ],
   "source": [
    "wgt = ak.ones_like(output.dimuon_mass)\n",
    "for field in output.fields:\n",
    "    if (\"wgt_\" in field) and (field != \"wgt_nominal\"):\n",
    "        \n",
    "        if (\"_down\" not in field) and (\"_up\" not in field):\n",
    "            print(field)\n",
    "            wgt = wgt* output[field]"
   ]
  },
  {
   "cell_type": "code",
   "execution_count": 18,
   "id": "52cc6054-8d3a-4ed6-aea1-67509c811bf0",
   "metadata": {},
   "outputs": [
    {
     "name": "stdout",
     "output_type": "stream",
     "text": [
      "[3.74e-05, 9.46e-06, 6.15e-07, 2.71e-05, ... 1.99e-05, 1.97e-05, 2.07e-05, 7.2e-06]\n",
      "[3.74e-05, 9.46e-06, 6.15e-07, 2.71e-05, ... 1.99e-05, 1.97e-05, 2.07e-05, 7.2e-06]\n"
     ]
    },
    {
     "data": {
      "text/plain": [
       "True"
      ]
     },
     "execution_count": 18,
     "metadata": {},
     "output_type": "execute_result"
    }
   ],
   "source": [
    "import numpy as np\n",
    "print(wgt)\n",
    "print(output.wgt_nominal)\n",
    "np.all(np.isclose(wgt,output.wgt_nominal))"
   ]
  },
  {
   "cell_type": "code",
   "execution_count": 20,
   "id": "4785bb27-8fc0-4b51-8fa0-d1c07dbabbb5",
   "metadata": {},
   "outputs": [
    {
     "name": "stdout",
     "output_type": "stream",
     "text": [
      "8cb74eb195e73f5080d84dd2750d72b9.parquet\n"
     ]
    }
   ],
   "source": [
    "# ! ls /depot/cms/users/yun79/hmm/copperheadV1clean/rereco_yun_JecDefaultZptOnJecUncOn_Nov20/stage1_output/2018/vbf_powheg_dipole\n",
    "! ls /depot/cms/users/yun79/hmm/copperheadV1clean/test/stage1_output/2018/vbf_powheg_dipole"
   ]
  },
  {
   "cell_type": "code",
   "execution_count": 2,
   "id": "7509afd5-e613-4dad-99f0-ebcda0453090",
   "metadata": {},
   "outputs": [],
   "source": [
    "\"\"\"\n",
    "To shutdown the cluster, run this cell\"\n",
    "Equivalently, you can also do \"squeue -u <username>\" \n",
    "if this is the only slurm job you're doing\n",
    "\"\"\"\n",
    "\n",
    "for cluster_info in gateway.list_clusters():\n",
    "    gateway.connect(cluster_info.name).shutdown()"
   ]
  },
  {
   "cell_type": "code",
   "execution_count": 14,
   "id": "61b1a67a-53d2-4837-b5c4-2fd124dd128f",
   "metadata": {},
   "outputs": [],
   "source": [
    "options = gateway.cluster_options()  "
   ]
  },
  {
   "cell_type": "code",
   "execution_count": null,
   "id": "add5c117-7590-4546-8fe6-239cab13dd36",
   "metadata": {},
   "outputs": [],
   "source": [
    "# options.worker_cores\n",
    "options.fields"
   ]
  },
  {
   "cell_type": "code",
   "execution_count": 9,
   "id": "e627d976-e8ae-4d2f-974a-757ea14acf87",
   "metadata": {},
   "outputs": [],
   "source": [
    "! squeue -u yun79"
   ]
  },
  {
   "cell_type": "code",
   "execution_count": 7,
   "id": "3d015374-9431-4718-9eb3-a37a00bb367f",
   "metadata": {},
   "outputs": [
    {
     "data": {
      "text/plain": [
       "':/depot/cms/purdue-af/lhapdf/lib/python3.10/site-packages'"
      ]
     },
     "execution_count": 7,
     "metadata": {},
     "output_type": "execute_result"
    }
   ],
   "source": []
  },
  {
   "cell_type": "code",
   "execution_count": null,
   "id": "76abef91-6015-4535-b4b0-f02e8a926f6b",
   "metadata": {},
   "outputs": [],
   "source": []
  }
 ],
 "metadata": {
  "kernelspec": {
   "display_name": "Python3 kernel (default)",
   "language": "python",
   "name": "python3"
  },
  "language_info": {
   "codemirror_mode": {
    "name": "ipython",
    "version": 3
   },
   "file_extension": ".py",
   "mimetype": "text/x-python",
   "name": "python",
   "nbconvert_exporter": "python",
   "pygments_lexer": "ipython3",
   "version": "3.10.10"
  }
 },
 "nbformat": 4,
 "nbformat_minor": 5
}
