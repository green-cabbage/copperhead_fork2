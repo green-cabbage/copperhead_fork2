{
 "cells": [
  {
   "cell_type": "code",
   "execution_count": 1,
   "id": "db9d9fca-72f7-4a0d-95e8-5a39fe8e8532",
   "metadata": {},
   "outputs": [],
   "source": [
    "# def categorize_dnn_output(df, score_name, channel, region, year):\n",
    "def categorize_dnn_output(df, score_name, region, year=\"2018\"):\n",
    "    \"\"\"\n",
    "    we only need VBF sample in h-peak region for this. No ggh, no sidebands\n",
    "    \"\"\"\n",
    "    channel=\"vbf\"\n",
    "    # Run 2 (VBF yields)\n",
    "    target_yields = {\n",
    "        \"2016\": [\n",
    "            0.35455259,\n",
    "            0.50239086,\n",
    "            0.51152889,\n",
    "            0.52135985,\n",
    "            0.5282209,\n",
    "            0.54285134,\n",
    "            0.54923751,\n",
    "            0.56504687,\n",
    "            0.57204477,\n",
    "            0.58273066,\n",
    "            0.5862248,\n",
    "            0.59568793,\n",
    "            0.60871905,\n",
    "        ],\n",
    "        \"2017\": [\n",
    "            0.44194544,\n",
    "            0.55885064,\n",
    "            0.57796123,\n",
    "            0.58007343,\n",
    "            0.58141001,\n",
    "            0.58144682,\n",
    "            0.57858609,\n",
    "            0.59887533,\n",
    "            0.59511901,\n",
    "            0.59644831,\n",
    "            0.59825915,\n",
    "            0.59283309,\n",
    "            0.57329743,\n",
    "        ],\n",
    "        \"2018\": [\n",
    "            0.22036263,\n",
    "            1.31808978,\n",
    "            1.25396849,\n",
    "            1.183724,\n",
    "            1.12620194,\n",
    "            1.06041376,\n",
    "            0.99941623,\n",
    "            0.93224412,\n",
    "            0.87074753,\n",
    "            0.80599462,\n",
    "            0.73469265,\n",
    "            0.668018,\n",
    "            0.60991945,\n",
    "        ],\n",
    "    }\n",
    "\n",
    "    bins = [df[score_name].max()]\n",
    "\n",
    "    # slicer = (\n",
    "    #     (df.channel_nominal == channel) & (df.region == region) & (df.year == int(year))\n",
    "    # )\n",
    "    slicer = (\n",
    "        (df.region == region)\n",
    "    )\n",
    "    df_sorted = (\n",
    "        df.loc[slicer, :]\n",
    "        .sort_values(by=score_name, ascending=False)\n",
    "        .reset_index(drop=True)\n",
    "    )\n",
    "    df_sorted[\"wgt_cumsum\"] = df_sorted.wgt_nominal.cumsum()\n",
    "\n",
    "    tot_yield = 0\n",
    "    last_yield = 0\n",
    "    for yi in reversed(target_yields[year]):\n",
    "        tot_yield += yi\n",
    "        print(f\"yi: {yi}\")\n",
    "        for i in range(df_sorted.shape[0] - 1):\n",
    "            value = df_sorted.loc[i, \"wgt_cumsum\"]\n",
    "            value1 = df_sorted.loc[i + 1, \"wgt_cumsum\"]\n",
    "            if (value < tot_yield) & (value1 > tot_yield):\n",
    "                if abs(last_yield - tot_yield) < 1e-06:\n",
    "                    continue\n",
    "                if abs(tot_yield - sum(target_yields[year])) < 1e-06:\n",
    "                    continue\n",
    "                bins.append(df_sorted.loc[i, score_name])\n",
    "                last_yield = tot_yield\n",
    "    bins.append(0.0)\n",
    "    bins = sorted(bins)\n",
    "    print(bins)"
   ]
  },
  {
   "cell_type": "code",
   "execution_count": 2,
   "id": "9da5aded-fbc3-415b-9ef2-c2a09774b155",
   "metadata": {},
   "outputs": [],
   "source": [
    "import awkward as ak\n",
    "import dask_awkward as dak\n",
    "import pandas as pd"
   ]
  },
  {
   "cell_type": "code",
   "execution_count": 3,
   "id": "23387108-6f45-4cec-8a2e-6e49771791ec",
   "metadata": {},
   "outputs": [],
   "source": [
    "global_path = \"/depot/cms/users/yun79/hmm/copperheadV1clean/\"\n",
    "label = \"DmitryMaster_JECoff_GeofitFixed_Nov01\"\n",
    "\n",
    "label = \"rereco_yun_Nov04\"\n",
    "year=\"2018\"\n",
    "# full_load_path = f\"{global_path}/{label}/stage2_unbinned/vbf_2018/vbf_powheg_dipole*.parquet\"\n",
    "full_load_path = f\"{global_path}/{label}/stage2_unbinned/vbf_{year}/vbf_powheg_dipole*.parquet\"\n",
    "events = dak.from_parquet(full_load_path)"
   ]
  },
  {
   "cell_type": "code",
   "execution_count": 9,
   "id": "677fad65-25a5-4208-a052-ff84d07aa9d1",
   "metadata": {},
   "outputs": [
    {
     "data": {
      "text/plain": [
       "'rereco_yun_Nov04'"
      ]
     },
     "execution_count": 9,
     "metadata": {},
     "output_type": "execute_result"
    }
   ],
   "source": [
    "label"
   ]
  },
  {
   "cell_type": "code",
   "execution_count": 4,
   "id": "a81b86dd-4caf-483d-b83c-fefc57ca9254",
   "metadata": {
    "scrolled": true
   },
   "outputs": [],
   "source": [
    "# ! ls /depot/cms/users/yun79/hmm/copperheadV1clean/DmitryMaster_JECoff_GeofitFixed_Nov01/stage2_unbinned/vbf_2018"
   ]
  },
  {
   "cell_type": "code",
   "execution_count": 5,
   "id": "5d01f7a6-8a83-4b68-bce8-9b089f9a7cf8",
   "metadata": {},
   "outputs": [
    {
     "data": {
      "text/plain": [
       "['dimuon_mass',\n",
       " 'event',\n",
       " 'wgt_nominal',\n",
       " 'mu1_pt',\n",
       " 'score_pytorch_jun27_nominal',\n",
       " 'region',\n",
       " 'year',\n",
       " 'entry']"
      ]
     },
     "execution_count": 5,
     "metadata": {},
     "output_type": "execute_result"
    }
   ],
   "source": [
    "events.fields"
   ]
  },
  {
   "cell_type": "code",
   "execution_count": 6,
   "id": "f4d9bf7a-2a36-411d-8ad3-b7d1d041ee60",
   "metadata": {},
   "outputs": [],
   "source": [
    "df  = ak.to_dataframe(ak.zip({\n",
    "    \"score_pytorch_jun27_nominal\":events.score_pytorch_jun27_nominal,\n",
    "    \"region\" :events.region,\n",
    "    \"wgt_nominal\": events.wgt_nominal,\n",
    "})).compute()"
   ]
  },
  {
   "cell_type": "code",
   "execution_count": 7,
   "id": "5a1d7dae-8f9d-498e-87d2-4f18a0afdb48",
   "metadata": {},
   "outputs": [],
   "source": [
    "# df"
   ]
  },
  {
   "cell_type": "code",
   "execution_count": 8,
   "id": "3fd742a5-3946-48a9-bdef-28c16372dbc0",
   "metadata": {},
   "outputs": [
    {
     "name": "stdout",
     "output_type": "stream",
     "text": [
      "yi: 0.60991945\n",
      "yi: 0.668018\n",
      "yi: 0.73469265\n",
      "yi: 0.80599462\n",
      "yi: 0.87074753\n",
      "yi: 0.93224412\n",
      "yi: 0.99941623\n",
      "yi: 1.06041376\n",
      "yi: 1.12620194\n",
      "yi: 1.183724\n",
      "yi: 1.25396849\n",
      "yi: 1.31808978\n",
      "yi: 0.22036263\n",
      "[0.0, 0.07355153560638428, 0.48736143112182617, 0.7758049964904785, 0.996168315410614, 1.1832327842712402, 1.3480875492095947, 1.4972871541976929, 1.6352977752685547, 1.762912392616272, 1.8872747421264648, 2.005509614944458, 2.1303319931030273, 2.474616050720215]\n"
     ]
    }
   ],
   "source": [
    "\n",
    "categorize_dnn_output(df, \"score_pytorch_jun27_nominal\", \"h-peak\", year=year)"
   ]
  },
  {
   "cell_type": "code",
   "execution_count": null,
   "id": "153d9c67-67fe-4ce2-b2d7-5b96ad3d2cb1",
   "metadata": {},
   "outputs": [],
   "source": []
  }
 ],
 "metadata": {
  "kernelspec": {
   "display_name": "Python [conda env:root632]",
   "language": "python",
   "name": "conda-env-root632-py"
  },
  "language_info": {
   "codemirror_mode": {
    "name": "ipython",
    "version": 3
   },
   "file_extension": ".py",
   "mimetype": "text/x-python",
   "name": "python",
   "nbconvert_exporter": "python",
   "pygments_lexer": "ipython3",
   "version": "3.12.5"
  }
 },
 "nbformat": 4,
 "nbformat_minor": 5
}
