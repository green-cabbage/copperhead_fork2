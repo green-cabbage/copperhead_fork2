{
 "cells": [
  {
   "cell_type": "code",
   "execution_count": 1,
   "id": "660534a0-db38-436b-930f-15429e2c404d",
   "metadata": {},
   "outputs": [
    {
     "name": "stdout",
     "output_type": "stream",
     "text": [
      "Welcome to JupyROOT 6.28/00\n"
     ]
    }
   ],
   "source": [
    "import ROOT as rt"
   ]
  },
  {
   "cell_type": "code",
   "execution_count": 2,
   "id": "3ab50b81-4b43-4fc8-8b1c-69adfec7acb3",
   "metadata": {},
   "outputs": [],
   "source": [
    "load_path = \"workspace/workspace_ggh_All_Zfit_no_e_cut_UL_calib_cat5.root\""
   ]
  },
  {
   "cell_type": "code",
   "execution_count": 3,
   "id": "bc3da023-e6f6-436c-9546-f9b7903c0d44",
   "metadata": {},
   "outputs": [],
   "source": [
    "file = rt.TFile.Open(load_path)"
   ]
  },
  {
   "cell_type": "code",
   "execution_count": 4,
   "id": "9d88e673-f2b1-40fa-bed6-1bbd1d95848b",
   "metadata": {},
   "outputs": [],
   "source": [
    "canvas = rt.TCanvas()\n",
    "canvas.cd()\n",
    "mass =  rt.RooRealVar(\"mh_ggh\",\"mass (GeV)\",100,85,99)\n",
    "frame = mass.frame()"
   ]
  },
  {
   "cell_type": "code",
   "execution_count": 5,
   "id": "dbcb5682-d860-46c5-9bf7-da4aa6646603",
   "metadata": {},
   "outputs": [
    {
     "name": "stdout",
     "output_type": "stream",
     "text": [
      "[#1] INFO:Caching -- Changing internal binning of variable 'mh_ggh' in FFT 'BWxDCB' from 100 to 930 to improve the precision of the numerical FFT. This can be done manually by setting an additional binning named 'cache'.\n"
     ]
    }
   ],
   "source": [
    "bwWidth = rt.RooRealVar(\"bwz_Width\" , \"widthZ\", 2.5, 0, 30)\n",
    "bwmZ = rt.RooRealVar(\"bwz_mZ\" , \"mZ\", 91.2, 90, 92)\n",
    "sigma = rt.RooRealVar(\"sigma\" , \"sigma\", 2, 0.0, 5.0)\n",
    "\n",
    "bwWidth.setConstant(True)\n",
    "bwmZ.setConstant(True) # set bwmZ \n",
    "\n",
    "model1_1 = rt.RooBreitWigner(\"bwz\", \"BWZ\",mass, bwmZ, bwWidth)\n",
    "\n",
    "\"\"\"\n",
    "Note from Jan: sometimes freeze n values in DCB to be frozen (ie 1, but could be other values)\n",
    "This is because alpha and n are highly correlated, so roofit can be really confused.\n",
    "Also, given that we care about the resolution, not the actual parameter values alpha and n, we can \n",
    "put whatevere restrictions we want.\n",
    "\"\"\"\n",
    "mean = rt.RooRealVar(\"mean\" , \"mean\", 0, -10,10) # mean is mean relative to BW\n",
    "sigma = rt.RooRealVar(\"sigma\" , \"sigma\", 2, .1, 4.0)\n",
    "alpha1 = rt.RooRealVar(\"alpha1\" , \"alpha1\", 2, 0.01, 65)\n",
    "n1 = rt.RooRealVar(\"n1\" , \"n1\", 10, 0.01, 185)\n",
    "alpha2 = rt.RooRealVar(\"alpha2\" , \"alpha2\", 2.0, 0.01, 65)\n",
    "n2 = rt.RooRealVar(\"n2\" , \"n2\", 25, 0.01, 385)\n",
    "n1.setConstant(True)\n",
    "n2.setConstant(True)\n",
    "model1_2 = rt.RooCrystalBall(\"dcb\",\"dcb\",mass, mean, sigma, alpha1, n1, alpha2, n2)\n",
    "\n",
    "model1 = rt.RooFFTConvPdf(\"BWxDCB\", \"BWxDCB\", mass, model1_1, model1_2)\n",
    "\n",
    "mass.setBins(10000,\"cache\") # cache is repre of the varibale only used in FFT\n",
    "mass.setBins(200) # bin to 100 bins otherwise, fitting with FFT conv is gonna take forever\n",
    "mass.setMin(\"cache\",50.5) \n",
    "mass.setMax(\"cache\",130.5)\n",
    "\n",
    "coeff = rt.RooRealVar(\"coeff\", \"coeff\", -0.01, -1, -0.00000001)\n",
    "# shift = rt.RooRealVar(\"shift\" , \"shift\", 92, -10, 1000)\n",
    "# coeff = rt.RooRealVar(\"coeff\", \"Slope\", 0.0001, -1.5, 0)\n",
    "shift = rt.RooRealVar(\"shift\", \"Offset\", 85, 75, 105)\n",
    "shifted_mass = rt.RooFormulaVar(\"shifted_mass\", \"@0-@1\", rt.RooArgList(mass, shift))\n",
    "model2 = rt.RooExponential(\"Exponential\", \"Exponential\", shifted_mass, coeff)\n",
    "\n",
    "sigfrac = rt.RooRealVar(\"sigfrac\", \"sigfrac\", 0.98, 0, 1.0)\n",
    "model3 = rt.RooAddPdf(\"model3\", \"model3\", rt.RooArgList(model1, model2),sigfrac)"
   ]
  },
  {
   "cell_type": "code",
   "execution_count": 6,
   "id": "fc9d7cec-1a97-4cff-9903-5fb84f27d608",
   "metadata": {
    "scrolled": true
   },
   "outputs": [
    {
     "name": "stdout",
     "output_type": "stream",
     "text": [
      "fitting elapsed time: 3.9896349906921387\n",
      "[#1] INFO:Eval -- RooRealVar::setRange(mh_ggh) new range named 'refrange_fft_BWxDCB' created with bounds [50.5,130.5]\n",
      "[#1] INFO:Caching -- RooAbsCachedPdf::getCache(BWxDCB) creating new cache 0x564c25965ed0 with pdf bwz_CONV_dcb_CACHE_Obs[mh_ggh]_NORM_mh_ggh for nset (mh_ggh) with code 0\n",
      "[#1] INFO:NumericIntegration -- RooRealIntegral::init(bwz_CONV_dcb_CACHE_Obs[mh_ggh]_NORM_mh_ggh_Int[mh_ggh]) using numeric integrator RooIntegrator1D to calculate Int(mh_ggh)\n",
      "[#1] INFO:NumericIntegration -- RooRealIntegral::init(Exponential_Int[mh_ggh]) using numeric integrator RooIntegrator1D to calculate Int(mh_ggh)\n",
      "[#1] INFO:Minimization -- RooAbsMinimizerFcn::setOptimizeConst: activating const optimization\n",
      "[#1] INFO:Caching -- RooAbsCachedPdf::getCache(BWxDCB) creating new cache 0x564c25c22670 with pdf bwz_CONV_dcb_CACHE_Obs[mh_ggh]_NORM_mh_ggh for nset (mh_ggh) with code 0 from preexisting content.\n",
      "[#1] INFO:NumericIntegration -- RooRealIntegral::init(bwz_CONV_dcb_CACHE_Obs[mh_ggh]_NORM_mh_ggh_Int[mh_ggh]) using numeric integrator RooIntegrator1D to calculate Int(mh_ggh)\n",
      "[#1] INFO:NumericIntegration -- RooRealIntegral::init(Exponential_Int[mh_ggh]) using numeric integrator RooIntegrator1D to calculate Int(mh_ggh)\n",
      "[#1] INFO:Minimization --  The following expressions have been identified as constant and will be precalculated and cached: (bwz)\n",
      "[#1] INFO:Minimization --  The following expressions will be evaluated in cache-and-track mode: (BWxDCB,Exponential)\n",
      " **********\n",
      " **    1 **SET PRINT           1\n",
      " **********\n",
      " **********\n",
      " **    2 **SET NOGRAD\n",
      " **********\n",
      " PARAMETER DEFINITIONS:\n",
      "    NO.   NAME         VALUE      STEP SIZE      LIMITS\n",
      "     1 alpha1       2.00000e+00  9.95000e-01    1.00000e-02  6.50000e+01\n",
      "     2 alpha2       2.00000e+00  9.95000e-01    1.00000e-02  6.50000e+01\n",
      "     3 coeff       -1.00000e-02  5.00000e-03   -1.00000e+00 -1.00000e-08\n",
      "     4 mean         0.00000e+00  2.00000e+00   -1.00000e+01  1.00000e+01\n",
      "     5 shift        8.50000e+01  3.00000e+00    7.50000e+01  1.05000e+02\n",
      "     6 sigfrac      9.80000e-01  1.00000e-02    0.00000e+00  1.00000e+00\n",
      "     7 sigma        2.00000e+00  3.90000e-01    1.00000e-01  4.00000e+00\n",
      " **********\n",
      " **    3 **SET ERR         0.5\n",
      " **********\n",
      " **********\n",
      " **    4 **SET PRINT           1\n",
      " **********\n",
      " **********\n",
      " **    5 **SET STR           1\n",
      " **********\n",
      " NOW USING STRATEGY  1: TRY TO BALANCE SPEED AGAINST RELIABILITY\n",
      " **********\n",
      " **    6 **MIGRAD        3500           1\n",
      " **********\n",
      " FIRST CALL TO USER FUNCTION AT NEW START POINT, WITH IFLAG=4.\n",
      " START MIGRAD MINIMIZATION.  STRATEGY  1.  CONVERGENCE WHEN EDM .LT. 1.00e-03\n",
      " FCN=130639 FROM MIGRAD    STATUS=INITIATE      360 CALLS         361 TOTAL\n",
      "                     EDM= unknown      STRATEGY= 1      NO ERROR MATRIX       \n",
      "  EXT PARAMETER               CURRENT GUESS       STEP         FIRST   \n",
      "  NO.   NAME      VALUE            ERROR          SIZE      DERIVATIVE \n",
      "   1  alpha1       1.99308e-01   9.95000e-01   0.00000e+00  -8.14004e+03\n",
      "   2  alpha2       2.00000e+00   9.95000e-01   0.00000e+00  -2.15934e+02\n",
      "   3  coeff       -9.20940e-02   5.00000e-03   0.00000e+00   1.04863e+01\n",
      "   4  mean         0.00000e+00   2.00000e+00   0.00000e+00   2.16126e+04\n",
      "   5  shift        8.50000e+01   3.00000e+00   0.00000e+00   0.00000e+00\n",
      "   6  sigfrac      9.80000e-01   1.00000e-02   0.00000e+00  -2.00618e+02\n",
      "   7  sigma        2.00000e+00   3.90000e-01   0.00000e+00   3.18111e+03\n",
      "                               ERR DEF= 0.5\n",
      " MINUIT WARNING IN MIGRAD  \n",
      " ============== Negative diagonal element 7 in Error Matrix\n",
      " MINUIT WARNING IN MIGRAD  \n",
      " ============== 40.3007 added to diagonal of error matrix\n",
      " MIGRAD FAILS TO FIND IMPROVEMENT\n",
      " MINUIT WARNING IN HESSE\n",
      " ============== Second derivative enters zero, param 5\n",
      " MINUIT WARNING IN HESSE\n",
      " ============== Second derivative zero for parameter5\n",
      "  MNHESS FAILS AND WILL RETURN DIAGONAL MATRIX. \n",
      " FCN=125807 FROM HESSE     STATUS=FAILED         13 CALLS         415 TOTAL\n",
      "                     EDM=1.18272e+06    STRATEGY= 1  ERROR MATRIX UNCERTAINTY 100.0 per cent\n",
      "  EXT PARAMETER                APPROXIMATE        STEP         FIRST   \n",
      "  NO.   NAME      VALUE            ERROR          SIZE      DERIVATIVE \n",
      "   1  alpha1       1.84931e-01   1.87766e-03   1.36579e-04  -3.11757e+04\n",
      "   2  alpha2       2.07713e+00   2.10871e-01   4.53105e-03  -8.02130e+01\n",
      "   3  coeff       -9.57161e-02   2.47562e-01   1.38564e-02  -2.59237e+01\n",
      "   4  mean        -1.36672e+00   1.39604e-02   3.44769e-04   1.42513e+04\n",
      "   5  shift        8.50000e+01   4.17929e+00  -0.00000e+00   0.00000e+00\n",
      "   6  sigfrac      9.90228e-01   2.25357e-01  -0.00000e+00   7.67973e+02\n",
      "   7  sigma        3.63071e-01   4.24466e-03  -0.00000e+00   3.24055e+03\n",
      "                               ERR DEF= 0.5\n",
      " MINUIT WARNING IN MIGRAD  \n",
      " ============== Negative diagonal element 2 in Error Matrix\n",
      " MINUIT WARNING IN MIGRAD  \n",
      " ============== 1.00014 added to diagonal of error matrix\n",
      " MIGRAD FAILS TO FIND IMPROVEMENT\n",
      " MACHINE ACCURACY LIMITS FURTHER IMPROVEMENT.\n",
      " MIGRAD MINIMIZATION HAS CONVERGED.\n",
      " MIGRAD WILL VERIFY CONVERGENCE AND ERROR MATRIX.\n",
      " MINUIT WARNING IN HESSE\n",
      " ============== Second derivative enters zero, param 5\n",
      " MINUIT WARNING IN HESSE\n",
      " ============== Second derivative zero for parameter5\n",
      "  MNHESS FAILS AND WILL RETURN DIAGONAL MATRIX. \n",
      " MIGRAD TERMINATED WITHOUT CONVERGENCE.\n",
      " FCN=124161 FROM MIGRAD    STATUS=FAILED       1405 CALLS        1406 TOTAL\n",
      "                     EDM=0.00161627    STRATEGY= 1  ERROR MATRIX UNCERTAINTY 100.0 per cent\n",
      "  EXT PARAMETER                APPROXIMATE        STEP         FIRST   \n",
      "  NO.   NAME      VALUE            ERROR          SIZE      DERIVATIVE \n",
      "   1  alpha1       4.70324e+00   4.32348e+00   5.43095e-02   4.10140e-01\n",
      "   2  alpha2       7.87193e+00   5.42127e-01   4.89459e-01  -3.73911e+02\n",
      "   3  coeff       -5.21495e-02   2.77335e-03   3.03585e-03  -1.00321e+00\n",
      "   4  mean        -2.86702e+00   1.36234e-02   3.46024e-04  -1.85108e+01\n",
      "   5  shift        8.50000e+01   5.73984e+00  -0.00000e+00   0.00000e+00\n",
      "   6  sigfrac      7.23612e-01   4.56885e-03  -0.00000e+00  -3.25895e-01\n",
      "   7  sigma        1.00548e+00   1.79234e-02   0.00000e+00  -2.45453e+00\n",
      "                               ERR DEF= 0.5\n",
      " EXTERNAL ERROR MATRIX.    NDIM=  25    NPAR=  7    ERR DEF=0.5\n",
      "  1.912e+01  0.000e+00  0.000e+00  0.000e+00  0.000e+00  0.000e+00  0.000e+00 \n",
      "  0.000e+00  2.940e-01  0.000e+00  0.000e+00  0.000e+00  0.000e+00  0.000e+00 \n",
      "  0.000e+00  0.000e+00  7.692e-06  0.000e+00  0.000e+00  0.000e+00  0.000e+00 \n",
      "  0.000e+00  0.000e+00  0.000e+00  1.856e-04  0.000e+00  0.000e+00  0.000e+00 \n",
      "  0.000e+00  0.000e+00  0.000e+00  0.000e+00  3.493e+01  0.000e+00  0.000e+00 \n",
      "  0.000e+00  0.000e+00  0.000e+00  0.000e+00  0.000e+00  2.088e-05  0.000e+00 \n",
      "  0.000e+00  0.000e+00  0.000e+00  0.000e+00  0.000e+00  0.000e+00  3.213e-04 \n",
      "ERR MATRIX APPROXIMATE\n",
      " PARAMETER  CORRELATION COEFFICIENTS  \n",
      "       NO.  GLOBAL      1      2      3      4      5      6      7\n",
      "        1  0.00000   1.000  0.000  0.000  0.000  0.000  0.000  0.000\n",
      "        2  0.00000   0.000  1.000  0.000  0.000  0.000  0.000  0.000\n",
      "        3  0.00000   0.000  0.000  1.000  0.000  0.000  0.000  0.000\n",
      "        4  0.00000   0.000  0.000  0.000  1.000  0.000  0.000  0.000\n",
      "        5  0.00000   0.000  0.000  0.000  0.000  1.000  0.000  0.000\n",
      "        6  0.00000   0.000  0.000  0.000  0.000  0.000  1.000  0.000\n",
      "        7  0.00000   0.000  0.000  0.000  0.000  0.000  0.000  1.000\n",
      " ERR MATRIX APPROXIMATE\n",
      " **********\n",
      " **    7 **SET ERR         0.5\n",
      " **********\n",
      " **********\n",
      " **    8 **SET PRINT           1\n",
      " **********\n",
      " **********\n",
      " **    9 **HESSE        3500\n",
      " **********\n",
      " MINUIT WARNING IN HESSE\n",
      " ============== Second derivative zero for parameter5\n",
      "  MNHESS FAILS AND WILL RETURN DIAGONAL MATRIX. \n",
      " FCN=124161 FROM HESSE     STATUS=FAILED         11 CALLS        1417 TOTAL\n",
      "                     EDM=0.00161627    STRATEGY= 1  ERROR MATRIX UNCERTAINTY 100.0 per cent\n",
      "  EXT PARAMETER                APPROXIMATE     INTERNAL      INTERNAL  \n",
      "  NO.   NAME      VALUE            ERROR       STEP SIZE       VALUE   \n",
      "   1  alpha1       4.70324e+00   4.32348e+00   5.43095e-02  -2.11494e+00\n",
      "   2  alpha2       7.87193e+00   5.42127e-01   4.89459e-01  -8.60329e-01\n",
      "   3  coeff       -5.21495e-02   2.77335e-03   3.03585e-03   1.36764e+01\n",
      "   4  mean        -2.86702e+00   1.36234e-02   3.46024e-04  -2.90783e-01\n",
      "   5  shift        7.88320e+01   6.59836e+00  -0.00000e+00  -3.39837e-01\n",
      "   6  sigfrac      7.23612e-01   4.56885e-03  -0.00000e+00  -3.80596e+02\n",
      "   7  sigma        1.00548e+00   1.79234e-02   0.00000e+00  -1.17753e+03\n",
      "                               ERR DEF= 0.5\n",
      " EXTERNAL ERROR MATRIX.    NDIM=  25    NPAR=  7    ERR DEF=0.5\n",
      "  1.912e+01  0.000e+00  0.000e+00  0.000e+00  0.000e+00  0.000e+00  0.000e+00 \n",
      "  0.000e+00  2.940e-01  0.000e+00  0.000e+00  0.000e+00  0.000e+00  0.000e+00 \n",
      "  0.000e+00  0.000e+00  7.692e-06  0.000e+00  0.000e+00  0.000e+00  0.000e+00 \n",
      "  0.000e+00  0.000e+00  0.000e+00  1.856e-04  0.000e+00  0.000e+00  0.000e+00 \n",
      "  0.000e+00  0.000e+00  0.000e+00  0.000e+00  3.493e+01  0.000e+00  0.000e+00 \n",
      "  0.000e+00  0.000e+00  0.000e+00  0.000e+00  0.000e+00  2.088e-05  0.000e+00 \n",
      "  0.000e+00  0.000e+00  0.000e+00  0.000e+00  0.000e+00  0.000e+00  3.213e-04 \n",
      "ERR MATRIX APPROXIMATE\n",
      " PARAMETER  CORRELATION COEFFICIENTS  \n",
      "       NO.  GLOBAL      1      2      3      4      5      6      7\n",
      "        1  0.00000   1.000  0.000  0.000  0.000  0.000  0.000  0.000\n",
      "        2  0.00000   0.000  1.000  0.000  0.000  0.000  0.000  0.000\n",
      "        3  0.00000   0.000  0.000  1.000  0.000  0.000  0.000  0.000\n",
      "        4  0.00000   0.000  0.000  0.000  1.000  0.000  0.000  0.000\n",
      "        5  0.00000   0.000  0.000  0.000  0.000  1.000  0.000  0.000\n",
      "        6  0.00000   0.000  0.000  0.000  0.000  0.000  1.000  0.000\n",
      "        7  0.00000   0.000  0.000  0.000  0.000  0.000  0.000  1.000\n",
      " ERR MATRIX APPROXIMATE\n",
      "[#1] INFO:Minimization -- RooAbsMinimizerFcn::setOptimizeConst: deactivating const optimization\n"
     ]
    }
   ],
   "source": [
    "import time\n",
    "\n",
    "start = time.time()\n",
    "# model3.fitTo(file.w.data(\"data_Zfit_no_e_cut_UL_calib_cat20\"))\n",
    "# rooDataset = file.w.data(\"data_Zfit_no_e_cut_UL_calib_cat12\")\n",
    "# model1.fitTo(rooDataset) # fitting on unbinned data is really slow,\n",
    "#fitting directly to unbinned dataset is slow, so first make a histogram\n",
    "roo_dataset = file.w.data(\"data_Zfit_no_e_cut_UL_calib_cat5\")\n",
    "data_hist = rt.RooDataHist(\"data_hist\",\"binned version of roo_dataset\", rt.RooArgSet(mass), roo_dataset)  # copies binning from mass variable\n",
    "# model1.fitTo(data_hist) \n",
    "# model3.fitTo(data_hist, Minos=True) \n",
    "model3.fitTo(data_hist) \n",
    "\n",
    "end = time.time()\n",
    "print(f\"fitting elapsed time: {end - start}\")"
   ]
  },
  {
   "cell_type": "code",
   "execution_count": 7,
   "id": "0b9a9664-2cea-46eb-9494-a2b95d73618d",
   "metadata": {},
   "outputs": [
    {
     "name": "stdout",
     "output_type": "stream",
     "text": [
      "[#1] INFO:Caching -- RooAbsCachedPdf::getCache(BWxDCB) creating new cache 0x564c25e31ac0 with pdf bwz_CONV_dcb_CACHE_Obs[mh_ggh]_NORM_mh_ggh for nset (mh_ggh) with code 0\n",
      "[#1] INFO:NumericIntegration -- RooRealIntegral::init(bwz_CONV_dcb_CACHE_Obs[mh_ggh]_NORM_mh_ggh_Int[mh_ggh]) using numeric integrator RooIntegrator1D to calculate Int(mh_ggh)\n",
      "[#1] INFO:NumericIntegration -- RooRealIntegral::init(Exponential_Int[mh_ggh]) using numeric integrator RooIntegrator1D to calculate Int(mh_ggh)\n"
     ]
    },
    {
     "data": {
      "image/png": "[encoded data removed]",
      "text/plain": [
       "<IPython.core.display.Image object>"
      ]
     },
     "metadata": {},
     "output_type": "display_data"
    }
   ],
   "source": [
    "# file.w.pdf(\"Voigtian_ggh_All\").plotOn(frame)\n",
    "file.w.data(\"data_Zfit_no_e_cut_UL_calib_cat5\").plotOn(frame)\n",
    "# model3.plotOn(frame, rt.RooFit.LineColor(rt.kGreen))\n",
    "# model1.plotOn(frame, rt.RooFit.LineColor(rt.kRed))\n",
    "# model2.plotOn(frame, rt.RooFit.LineColor(rt.kBlue))\n",
    "# model1_1.plotOn(frame, rt.RooFit.LineColor(rt.kRed))\n",
    "# model1_2.plotOn(frame, rt.RooFit.LineColor(rt.kBlue))\n",
    "model3.plotOn(frame, rt.RooFit.LineColor(rt.kGreen))\n",
    "# model1.plotOn(frame, rt.RooFit.LineColor(rt.kRed))\n",
    "# model2.plotOn(frame, rt.RooFit.LineColor(rt.kBlue))\n",
    "\n",
    "frame.Draw()\n",
    "canvas.Update()\n",
    "canvas.Draw()\n"
   ]
  },
  {
   "cell_type": "code",
   "execution_count": null,
   "id": "95b89fa4-955d-45a7-96d7-7b4771f688f2",
   "metadata": {},
   "outputs": [],
   "source": []
  },
  {
   "cell_type": "code",
   "execution_count": null,
   "id": "f4cfd6e0-f953-4ec6-a15f-8dd99b3e8b89",
   "metadata": {},
   "outputs": [],
   "source": []
  },
  {
   "cell_type": "code",
   "execution_count": null,
   "id": "221c967e-2b7b-4496-a47b-0ceca4b9ff5c",
   "metadata": {},
   "outputs": [],
   "source": []
  }
 ],
 "metadata": {
  "kernelspec": {
   "display_name": "Python3 kernel (default)",
   "language": "python",
   "name": "python3"
  },
  "language_info": {
   "codemirror_mode": {
    "name": "ipython",
    "version": 3
   },
   "file_extension": ".py",
   "mimetype": "text/x-python",
   "name": "python",
   "nbconvert_exporter": "python",
   "pygments_lexer": "ipython3",
   "version": "3.10.10"
  }
 },
 "nbformat": 4,
 "nbformat_minor": 5
}
