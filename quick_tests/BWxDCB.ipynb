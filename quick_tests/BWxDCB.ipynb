{
 "cells": [
  {
   "cell_type": "code",
   "execution_count": 1,
   "id": "660534a0-db38-436b-930f-15429e2c404d",
   "metadata": {},
   "outputs": [
    {
     "name": "stdout",
     "output_type": "stream",
     "text": [
      "Welcome to JupyROOT 6.28/00\n"
     ]
    }
   ],
   "source": [
    "import ROOT as rt"
   ]
  },
  {
   "cell_type": "code",
   "execution_count": 2,
   "id": "3ab50b81-4b43-4fc8-8b1c-69adfec7acb3",
   "metadata": {},
   "outputs": [],
   "source": [
    "load_path = \"quick_tests/workspace/workspace_ggh_All_Zfit_no_e_cut_UL_calib_cat5.root\"\n"
   ]
  },
  {
   "cell_type": "code",
   "execution_count": 3,
   "id": "bc3da023-e6f6-436c-9546-f9b7903c0d44",
   "metadata": {},
   "outputs": [],
   "source": [
    "file = rt.TFile.Open(load_path)"
   ]
  },
  {
   "cell_type": "code",
   "execution_count": 4,
   "id": "9d88e673-f2b1-40fa-bed6-1bbd1d95848b",
   "metadata": {},
   "outputs": [],
   "source": [
    "canvas = rt.TCanvas()\n",
    "canvas.cd()\n",
    "mass =  rt.RooRealVar(\"mh_ggh\",\"mass (GeV)\",100,85,99)\n",
    "frame = mass.frame()"
   ]
  },
  {
   "cell_type": "code",
   "execution_count": 5,
   "id": "dbcb5682-d860-46c5-9bf7-da4aa6646603",
   "metadata": {},
   "outputs": [
    {
     "name": "stdout",
     "output_type": "stream",
     "text": [
      "[#1] INFO:Caching -- Changing internal binning of variable 'mh_ggh' in FFT 'BWxDCB' from 100 to 930 to improve the precision of the numerical FFT. This can be done manually by setting an additional binning named 'cache'.\n"
     ]
    }
   ],
   "source": [
    "bwWidth = rt.RooRealVar(\"bwz_Width\" , \"widthZ\", 2.5, 0, 30)\n",
    "bwmZ = rt.RooRealVar(\"bwz_mZ\" , \"mZ\", 91.2, 90, 92)\n",
    "sigma = rt.RooRealVar(\"sigma\" , \"sigma\", 2, 0.0, 5.0)\n",
    "\n",
    "bwWidth.setConstant(True)\n",
    "bwmZ.setConstant(True)\n",
    "\n",
    "model1_1 = rt.RooBreitWigner(\"bwz\", \"BWZ\",mass, bwmZ, bwWidth)\n",
    "\n",
    "\"\"\"\n",
    "Note from Jan: sometimes freeze n values in DCB to be frozen (ie 1, but could be other values)\n",
    "This is because alpha and n are highly correlated, so roofit can be really confused.\n",
    "Also, given that we care about the resolution, not the actual parameter values alpha and n, we can \n",
    "put whatevere restrictions we want.\n",
    "\"\"\"\n",
    "mean = rt.RooRealVar(\"mean\" , \"mean\", 0, -5,5) # mean is mean relative to BW\n",
    "sigma = rt.RooRealVar(\"sigma\" , \"sigma\", 2, .2, 4.0)\n",
    "alpha1 = rt.RooRealVar(\"alpha1\" , \"alpha1\", 2, 0.01, 45)\n",
    "n1 = rt.RooRealVar(\"n1\" , \"n1\", 10, 0.01, 185)\n",
    "alpha2 = rt.RooRealVar(\"alpha2\" , \"alpha2\", 2.0, 0.01, 65)\n",
    "n2 = rt.RooRealVar(\"n2\" , \"n2\", 25, 0.01, 385)\n",
    "model1_2 = rt.RooCrystalBall(\"dcb\",\"dcb\",mass, mean, sigma, alpha1, n1, alpha2, n2)\n",
    "\n",
    "model1 = rt.RooFFTConvPdf(\"BWxDCB\", \"BWxDCB\", mass, model1_1, model1_2)\n",
    "\n",
    "mass.setBins(10000,\"cache\") # cache is repre of the varibale only used in FFT\n",
    "mass.setBins(100) # bin to 100 bins otherwise, fitting with FFT conv is gonna take forever\n",
    "mass.setMin(\"cache\",50.5) \n",
    "mass.setMax(\"cache\",130.5)\n",
    "\n",
    "c = rt.RooRealVar(\"c\", \"c\", -1.54, -10, -0.1)\n",
    "model2 = rt.RooExponential(\"Exponential\", \"Exponential\", mass,c)\n"
   ]
  },
  {
   "cell_type": "code",
   "execution_count": 6,
   "id": "fc9d7cec-1a97-4cff-9903-5fb84f27d608",
   "metadata": {
    "scrolled": true
   },
   "outputs": [
    {
     "name": "stdout",
     "output_type": "stream",
     "text": [
      "fitting elapsed time: 13.358410120010376\n",
      "[#1] INFO:Eval -- RooRealVar::setRange(mh_ggh) new range named 'refrange_fft_BWxDCB' created with bounds [50.5,130.5]\n",
      "[#1] INFO:Caching -- RooAbsCachedPdf::getCache(BWxDCB) creating new cache 0x5628bf67aae0 with pdf bwz_CONV_dcb_CACHE_Obs[mh_ggh]_NORM_mh_ggh for nset (mh_ggh) with code 0\n",
      "[#1] INFO:NumericIntegration -- RooRealIntegral::init(bwz_CONV_dcb_CACHE_Obs[mh_ggh]_NORM_mh_ggh_Int[mh_ggh]) using numeric integrator RooIntegrator1D to calculate Int(mh_ggh)\n",
      "[#1] INFO:Minimization -- RooAbsMinimizerFcn::setOptimizeConst: activating const optimization\n",
      "[#1] INFO:Minimization --  The following expressions have been identified as constant and will be precalculated and cached: (bwz)\n",
      " **********\n",
      " **    1 **SET PRINT           1\n",
      " **********\n",
      " **********\n",
      " **    2 **SET NOGRAD\n",
      " **********\n",
      " PARAMETER DEFINITIONS:\n",
      "    NO.   NAME         VALUE      STEP SIZE      LIMITS\n",
      "     1 alpha1       2.00000e+00  9.95000e-01    1.00000e-02  4.50000e+01\n",
      "     2 alpha2       2.00000e+00  9.95000e-01    1.00000e-02  6.50000e+01\n",
      "     3 mean         0.00000e+00  1.00000e+00   -5.00000e+00  5.00000e+00\n",
      "     4 n1           1.00000e+01  4.99500e+00    1.00000e-02  1.85000e+02\n",
      "     5 n2           2.50000e+01  1.24950e+01    1.00000e-02  3.85000e+02\n",
      "     6 sigma        2.00000e+00  3.80000e-01    2.00000e-01  4.00000e+00\n",
      " **********\n",
      " **    3 **SET ERR         0.5\n",
      " **********\n",
      " **********\n",
      " **    4 **SET PRINT           1\n",
      " **********\n",
      " **********\n",
      " **    5 **SET STR           1\n",
      " **********\n",
      " NOW USING STRATEGY  1: TRY TO BALANCE SPEED AGAINST RELIABILITY\n",
      " **********\n",
      " **    6 **MIGRAD        3000           1\n",
      " **********\n",
      " FIRST CALL TO USER FUNCTION AT NEW START POINT, WITH IFLAG=4.\n",
      " START MIGRAD MINIMIZATION.  STRATEGY  1.  CONVERGENCE WHEN EDM .LT. 1.00e-03\n",
      " FCN=129290 FROM MIGRAD    STATUS=INITIATE      140 CALLS         141 TOTAL\n",
      "                     EDM= unknown      STRATEGY= 1      NO ERROR MATRIX       \n",
      "  EXT PARAMETER               CURRENT GUESS       STEP         FIRST   \n",
      "  NO.   NAME      VALUE            ERROR          SIZE      DERIVATIVE \n",
      "   1  alpha1       2.18042e-01   9.95000e-01   0.00000e+00  -3.50630e+04\n",
      "   2  alpha2       2.00000e+00   9.95000e-01   0.00000e+00  -2.39246e+03\n",
      "   3  mean         0.00000e+00   1.00000e+00   0.00000e+00   1.67778e+04\n",
      "   4  n1           1.70363e+00   4.99500e+00   0.00000e+00   8.29113e+03\n",
      "   5  n2           9.66914e-01   1.24950e+01   0.00000e+00   6.60155e+01\n",
      "   6  sigma        6.39702e-01   3.80000e-01  -8.23960e-01  -2.81930e+02\n",
      "                               ERR DEF= 0.5\n",
      " MIGRAD MINIMIZATION HAS CONVERGED.\n",
      " MIGRAD WILL VERIFY CONVERGENCE AND ERROR MATRIX.\n",
      " COVARIANCE MATRIX CALCULATED SUCCESSFULLY\n",
      " FCN=124371 FROM MIGRAD    STATUS=CONVERGED     872 CALLS         873 TOTAL\n",
      "                     EDM=1.83066e-05    STRATEGY= 1      ERROR MATRIX ACCURATE \n",
      "  EXT PARAMETER                                   STEP         FIRST   \n",
      "  NO.   NAME      VALUE            ERROR          SIZE      DERIVATIVE \n",
      "   1  alpha1       2.16733e+00   1.23874e-02   2.59617e-04  -6.74772e-01\n",
      "   2  alpha2       2.46287e+00   1.34385e-02   2.40139e-04   3.52139e+00\n",
      "   3  mean        -2.85197e+00   1.48662e-02   8.15170e-04  -8.17114e-02\n",
      "   4  n1           1.00000e-02   5.35338e-04   8.29413e-04** at limit **\n",
      "   5  n2           1.00000e-02   4.28613e-03   1.58301e-03** at limit **\n",
      "   6  sigma        1.11410e+00   2.36299e-02   3.00641e-03  -1.29275e-01\n",
      "                               ERR DEF= 0.5\n",
      " EXTERNAL ERROR MATRIX.    NDIM=  25    NPAR=  6    ERR DEF=0.5\n",
      "  1.534e-04 -3.359e-05  3.710e-05  2.105e-11 -5.712e-10 -1.450e-04 \n",
      " -3.359e-05  1.806e-04  5.086e-05  1.368e-13 -2.620e-08  7.938e-05 \n",
      "  3.710e-05  5.086e-05  2.210e-04  1.383e-12 -1.027e-09  1.312e-05 \n",
      "  2.105e-11  1.368e-13  1.383e-12  4.562e-15  6.064e-18  2.589e-12 \n",
      " -5.712e-10 -2.620e-08 -1.027e-09  6.064e-18  1.365e-10  2.492e-09 \n",
      " -1.450e-04  7.938e-05  1.312e-05  2.589e-12  2.492e-09  5.584e-04 \n",
      " PARAMETER  CORRELATION COEFFICIENTS  \n",
      "       NO.  GLOBAL      1      2      3      4      5      6\n",
      "        1  0.56126   1.000 -0.202  0.201  0.025 -0.004 -0.495\n",
      "        2  0.41879  -0.202  1.000  0.255  0.000 -0.167  0.250\n",
      "        3  0.38039   0.201  0.255  1.000  0.001 -0.006  0.037\n",
      "        4  0.03097   0.025  0.000  0.001  1.000  0.000  0.002\n",
      "        5  0.18151  -0.004 -0.167 -0.006  0.000  1.000  0.009\n",
      "        6  0.52866  -0.495  0.250  0.037  0.002  0.009  1.000\n",
      " **********\n",
      " **    7 **SET ERR         0.5\n",
      " **********\n",
      " **********\n",
      " **    8 **SET PRINT           1\n",
      " **********\n",
      " **********\n",
      " **    9 **HESSE        3000\n",
      " **********\n",
      " COVARIANCE MATRIX CALCULATED SUCCESSFULLY\n",
      " FCN=124371 FROM HESSE     STATUS=OK             42 CALLS         915 TOTAL\n",
      "                     EDM=1.60391e-05    STRATEGY= 1      ERROR MATRIX ACCURATE \n",
      "  EXT PARAMETER                                INTERNAL      INTERNAL  \n",
      "  NO.   NAME      VALUE            ERROR       STEP SIZE       VALUE   \n",
      "   1  alpha1       2.16733e+00   1.22833e-02   5.19235e-05  -2.01233e+00\n",
      "   2  alpha2       2.46287e+00   1.32882e-02   9.60554e-06  -1.17976e+00\n",
      "   3  mean        -2.85197e+00   1.49181e-02   3.26068e-05  -6.06985e-01\n",
      "   4  n1           1.00000e-02   5.35319e-04   1.65883e-04  -1.57080e+00\n",
      "                                 WARNING -   - ABOVE PARAMETER IS AT LIMIT.\n",
      "   5  n2           1.00000e-02   4.29087e-03   6.33205e-05  -1.57081e+00\n",
      "                                 WARNING -   - ABOVE PARAMETER IS AT LIMIT.\n",
      "   6  sigma        1.11410e+00   2.39213e-02   6.01281e-04  -2.59603e+00\n",
      "                               ERR DEF= 0.5\n",
      " EXTERNAL ERROR MATRIX.    NDIM=  25    NPAR=  6    ERR DEF=0.5\n",
      "  1.509e-04 -3.373e-05  3.556e-05  4.149e-12 -1.206e-11 -1.411e-04 \n",
      " -3.373e-05  1.766e-04  5.224e-05  7.696e-14 -7.647e-10  8.475e-05 \n",
      "  3.556e-05  5.224e-05  2.226e-04  3.360e-13 -2.925e-11  2.452e-05 \n",
      "  4.149e-12  7.696e-14  3.360e-13  4.562e-15  8.343e-20  7.567e-13 \n",
      " -1.206e-11 -7.647e-10 -2.925e-11  8.343e-20  1.366e-10  6.121e-11 \n",
      " -1.411e-04  8.475e-05  2.452e-05  7.567e-13  6.121e-11  5.723e-04 \n",
      " PARAMETER  CORRELATION COEFFICIENTS  \n",
      "       NO.  GLOBAL      1      2      3      4      5      6\n",
      "        1  0.55066   1.000 -0.207  0.194  0.005 -0.000 -0.480\n",
      "        2  0.39593  -0.207  1.000  0.264  0.000 -0.005  0.267\n",
      "        3  0.38724   0.194  0.264  1.000  0.000 -0.000  0.069\n",
      "        4  0.00618   0.005  0.000  0.000  1.000  0.000  0.000\n",
      "        5  0.00537  -0.000 -0.005 -0.000  0.000  1.000  0.000\n",
      "        6  0.52296  -0.480  0.267  0.069  0.000  0.000  1.000\n",
      "[#1] INFO:Minimization -- RooAbsMinimizerFcn::setOptimizeConst: deactivating const optimization\n"
     ]
    }
   ],
   "source": [
    "import time\n",
    "\n",
    "start = time.time()\n",
    "\n",
    "\n",
    "\n",
    "# model3.fitTo(file.w.data(\"data_Zfit_no_e_cut_UL_calib_cat20\"))\n",
    "# rooDataset = file.w.data(\"data_Zfit_no_e_cut_UL_calib_cat12\")\n",
    "# model1.fitTo(rooDataset) # fitting on unbinned data is really slow,\n",
    "#fitting directly to unbinned dataset is slow, so first make a histogram\n",
    "roo_dataset = file.w.data(\"data_Zfit_no_e_cut_UL_calib_cat5\")\n",
    "data_hist = rt.RooDataHist(\"data_hist\",\"binned version of roo_dataset\", rt.RooArgSet(mass), roo_dataset)  # copies binning from mass variable\n",
    "model1.fitTo(roo_dataset) # fitting on unbinned data is really slow,\n",
    "end = time.time()\n",
    "print(f\"fitting elapsed time: {end - start}\")"
   ]
  },
  {
   "cell_type": "code",
   "execution_count": 7,
   "id": "0b9a9664-2cea-46eb-9494-a2b95d73618d",
   "metadata": {},
   "outputs": [
    {
     "name": "stdout",
     "output_type": "stream",
     "text": [
      "[#1] INFO:Caching -- RooAbsCachedPdf::getCache(BWxDCB) creating new cache 0x5628bf953050 with pdf bwz_CONV_dcb_CACHE_Obs[mh_ggh]_NORM_mh_ggh for nset (mh_ggh) with code 0\n",
      "[#1] INFO:NumericIntegration -- RooRealIntegral::init(bwz_CONV_dcb_CACHE_Obs[mh_ggh]_NORM_mh_ggh_Int[mh_ggh]) using numeric integrator RooIntegrator1D to calculate Int(mh_ggh)\n"
     ]
    },
    {
     "data": {
      "image/png": "[encoded data removed]",
      "text/plain": [
       "<IPython.core.display.Image object>"
      ]
     },
     "metadata": {},
     "output_type": "display_data"
    }
   ],
   "source": [
    "\n",
    "# file.w.pdf(\"Voigtian_ggh_All\").plotOn(frame)\n",
    "file.w.data(\"data_Zfit_no_e_cut_UL_calib_cat5\").plotOn(frame)\n",
    "# model3.plotOn(frame, rt.RooFit.LineColor(rt.kGreen))\n",
    "# model1.plotOn(frame, rt.RooFit.LineColor(rt.kRed))\n",
    "# model2.plotOn(frame, rt.RooFit.LineColor(rt.kBlue))\n",
    "# model1_1.plotOn(frame, rt.RooFit.LineColor(rt.kRed))\n",
    "# model1_2.plotOn(frame, rt.RooFit.LineColor(rt.kBlue))\n",
    "model1.plotOn(frame, rt.RooFit.LineColor(rt.kBlue))\n",
    "\n",
    "frame.Draw()\n",
    "canvas.Update()\n",
    "canvas.Draw()\n"
   ]
  },
  {
   "cell_type": "code",
   "execution_count": null,
   "id": "641d21d5-9909-484f-b941-5972e1a11990",
   "metadata": {},
   "outputs": [],
   "source": []
  }
 ],
 "metadata": {
  "kernelspec": {
   "display_name": "Python3 kernel (default)",
   "language": "python",
   "name": "python3"
  },
  "language_info": {
   "codemirror_mode": {
    "name": "ipython",
    "version": 3
   },
   "file_extension": ".py",
   "mimetype": "text/x-python",
   "name": "python",
   "nbconvert_exporter": "python",
   "pygments_lexer": "ipython3",
   "version": "3.10.10"
  }
 },
 "nbformat": 4,
 "nbformat_minor": 5
}
