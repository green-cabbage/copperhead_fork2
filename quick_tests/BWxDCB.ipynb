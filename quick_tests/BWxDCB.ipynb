{
 "cells": [
  {
   "cell_type": "code",
   "execution_count": 1,
   "id": "660534a0-db38-436b-930f-15429e2c404d",
   "metadata": {},
   "outputs": [
    {
     "name": "stdout",
     "output_type": "stream",
     "text": [
      "Welcome to JupyROOT 6.28/00\n"
     ]
    }
   ],
   "source": [
    "import ROOT as rt"
   ]
  },
  {
   "cell_type": "code",
   "execution_count": 2,
   "id": "3ab50b81-4b43-4fc8-8b1c-69adfec7acb3",
   "metadata": {},
   "outputs": [],
   "source": [
    "# load_path = \"workspace/workspace_ggh_All_Zfit_no_e_cut_UL_calib_cat5.root\"\n",
    "load_path = \"workspace/workspace_ggh_All_Zfit_no_e_cut_UL_calib_cat5_data_x.root\""
   ]
  },
  {
   "cell_type": "code",
   "execution_count": 3,
   "id": "bc3da023-e6f6-436c-9546-f9b7903c0d44",
   "metadata": {},
   "outputs": [],
   "source": [
    "file = rt.TFile.Open(load_path)"
   ]
  },
  {
   "cell_type": "code",
   "execution_count": 4,
   "id": "9d88e673-f2b1-40fa-bed6-1bbd1d95848b",
   "metadata": {},
   "outputs": [],
   "source": [
    "canvas = rt.TCanvas()\n",
    "canvas.cd()\n",
    "mass =  rt.RooRealVar(\"mh_ggh\",\"mass (GeV)\",100,85,99)\n",
    "mass.setBins(200) # bin to 100 bins otherwise, fitting with FFT conv is gonna take forever\n",
    "# mass.setBins(10000) # stress test\n",
    "frame = mass.frame()"
   ]
  },
  {
   "cell_type": "code",
   "execution_count": 5,
   "id": "dbcb5682-d860-46c5-9bf7-da4aa6646603",
   "metadata": {},
   "outputs": [
    {
     "name": "stdout",
     "output_type": "stream",
     "text": [
      "[#1] INFO:Caching -- Changing internal binning of variable 'mh_ggh' in FFT 'BWxDCB' from 200 to 930 to improve the precision of the numerical FFT. This can be done manually by setting an additional binning named 'cache'.\n"
     ]
    }
   ],
   "source": [
    "bwWidth = rt.RooRealVar(\"bwz_Width\" , \"widthZ\", 2.5, 0, 30)\n",
    "bwmZ = rt.RooRealVar(\"bwz_mZ\" , \"mZ\", 91.2, 90, 92)\n",
    "sigma = rt.RooRealVar(\"sigma\" , \"sigma\", 2, 0.0, 5.0)\n",
    "\n",
    "bwWidth.setConstant(True)\n",
    "bwmZ.setConstant(True) # set bwmZ \n",
    "\n",
    "model1_1 = rt.RooBreitWigner(\"bwz\", \"BWZ\",mass, bwmZ, bwWidth)\n",
    "\n",
    "\"\"\"\n",
    "Note from Jan: sometimes freeze n values in DCB to be frozen (ie 1, but could be other values)\n",
    "This is because alpha and n are highly correlated, so roofit can be really confused.\n",
    "Also, given that we care about the resolution, not the actual parameter values alpha and n, we can \n",
    "put whatevere restrictions we want.\n",
    "\"\"\"\n",
    "mean = rt.RooRealVar(\"mean\" , \"mean\", 0, -10,10) # mean is mean relative to BW\n",
    "sigma = rt.RooRealVar(\"sigma\" , \"sigma\", 2, .1, 4.0)\n",
    "alpha1 = rt.RooRealVar(\"alpha1\" , \"alpha1\", 2, 0.01, 65)\n",
    "n1 = rt.RooRealVar(\"n1\" , \"n1\", 10, 0.01, 185)\n",
    "alpha2 = rt.RooRealVar(\"alpha2\" , \"alpha2\", 2.0, 0.01, 65)\n",
    "n2 = rt.RooRealVar(\"n2\" , \"n2\", 25, 0.01, 385)\n",
    "n1.setConstant(True)\n",
    "n2.setConstant(True)\n",
    "model1_2 = rt.RooCrystalBall(\"dcb\",\"dcb\",mass, mean, sigma, alpha1, n1, alpha2, n2)\n",
    "\n",
    "# merge BW with DCB\n",
    "model1 = rt.RooFFTConvPdf(\"BWxDCB\", \"BWxDCB\", mass, model1_1, model1_2)\n",
    "\n",
    "\n",
    "mass.setBins(10000,\"cache\") # This nbins has nothing to do with actual nbins of mass. cache bins is representation of the variable only used in FFT\n",
    "mass.setMin(\"cache\",50.5) \n",
    "mass.setMax(\"cache\",130.5)\n",
    "\n",
    "coeff = rt.RooRealVar(\"coeff\", \"coeff\", -0.01, -1, -0.00000001)\n",
    "# shift = rt.RooRealVar(\"shift\" , \"shift\", 92, -10, 1000)\n",
    "# coeff = rt.RooRealVar(\"coeff\", \"Slope\", 0.0001, -1.5, 0)\n",
    "shift = rt.RooRealVar(\"shift\", \"Offset\", 85, 75, 105)\n",
    "shifted_mass = rt.RooFormulaVar(\"shifted_mass\", \"@0-@1\", rt.RooArgList(mass, shift))\n",
    "model2 = rt.RooExponential(\"Exponential\", \"Exponential\", shifted_mass, coeff)\n",
    "\n",
    "sigfrac = rt.RooRealVar(\"sigfrac\", \"sigfrac\", 0.98, 0, 1.0)\n",
    "model3 = rt.RooAddPdf(\"model3\", \"model3\", rt.RooArgList(model1, model2),sigfrac)"
   ]
  },
  {
   "cell_type": "code",
   "execution_count": 6,
   "id": "fc9d7cec-1a97-4cff-9903-5fb84f27d608",
   "metadata": {
    "scrolled": true
   },
   "outputs": [
    {
     "name": "stdout",
     "output_type": "stream",
     "text": [
      "fitting elapsed time: 2.1613028049468994\n",
      "[#1] INFO:Eval -- RooRealVar::setRange(mh_ggh) new range named 'refrange_fft_BWxDCB' created with bounds [50.5,130.5]\n",
      "[#1] INFO:Caching -- RooAbsCachedPdf::getCache(BWxDCB) creating new cache 0x564667a9e1f0 with pdf bwz_CONV_dcb_CACHE_Obs[mh_ggh]_NORM_mh_ggh for nset (mh_ggh) with code 0\n",
      "[#1] INFO:Fitting -- RooAbsPdf::fitTo(model3) fixing normalization set for coefficient determination to observables in data\n",
      "[#1] INFO:Fitting -- using CPU computation library compiled with -mavx2\n",
      "[#1] INFO:Fitting -- RooAddition::defaultErrorLevel(nll_model3_data_hist) Summation contains a RooNLLVar, using its error level\n",
      "[#1] INFO:Minimization -- RooAbsMinimizerFcn::setOptimizeConst: activating const optimization\n",
      " **********\n",
      " **    1 **SET PRINT           1\n",
      " **********\n",
      " **********\n",
      " **    2 **SET NOGRAD\n",
      " **********\n",
      " PARAMETER DEFINITIONS:\n",
      "    NO.   NAME         VALUE      STEP SIZE      LIMITS\n",
      "     1 alpha1       2.00000e+00  9.95000e-01    1.00000e-02  6.50000e+01\n",
      "     2 alpha2       2.00000e+00  9.95000e-01    1.00000e-02  6.50000e+01\n",
      "     3 coeff       -1.00000e-02  5.00000e-03   -1.00000e+00 -1.00000e-08\n",
      "     4 mean         0.00000e+00  2.00000e+00   -1.00000e+01  1.00000e+01\n",
      "     5 shift        8.50000e+01  3.00000e+00    7.50000e+01  1.05000e+02\n",
      "     6 sigfrac      9.80000e-01  1.00000e-02    0.00000e+00  1.00000e+00\n",
      "     7 sigma        2.00000e+00  3.90000e-01    1.00000e-01  4.00000e+00\n",
      " **********\n",
      " **    3 **SET ERR         0.5\n",
      " **********\n",
      " **********\n",
      " **    4 **SET PRINT           1\n",
      " **********\n",
      " **********\n",
      " **    5 **SET STR           1\n",
      " **********\n",
      " NOW USING STRATEGY  1: TRY TO BALANCE SPEED AGAINST RELIABILITY\n",
      " **********\n",
      " **    6 **MIGRAD        3500           1\n",
      " **********\n",
      " FIRST CALL TO USER FUNCTION AT NEW START POINT, WITH IFLAG=4.\n",
      "[#1] INFO:NumericIntegration -- RooRealIntegral::init(Exponential_Int[mh_ggh]) using numeric integrator RooIntegrator1D to calculate Int(mh_ggh)\n",
      "[#1] INFO:Caching -- RooAbsCachedPdf::getCache(BWxDCB) creating new cache 0x564667aa62e0 with pdf bwz_CONV_dcb_CACHE_Obs[mh_ggh] for nset () with code 1 from preexisting content.\n",
      "[#1] INFO:NumericIntegration -- RooRealIntegral::init(BWxDCB_Int[mh_ggh]) using numeric integrator RooIntegrator1D to calculate Int(mh_ggh)\n",
      " START MIGRAD MINIMIZATION.  STRATEGY  1.  CONVERGENCE WHEN EDM .LT. 1.00e-03\n",
      " FCN=565517 FROM MIGRAD    STATUS=INITIATE      363 CALLS         364 TOTAL\n",
      "                     EDM= unknown      STRATEGY= 1      NO ERROR MATRIX       \n",
      "  EXT PARAMETER               CURRENT GUESS       STEP         FIRST   \n",
      "  NO.   NAME      VALUE            ERROR          SIZE      DERIVATIVE \n",
      "   1  alpha1       1.75347e-01   9.95000e-01   0.00000e+00  -1.17633e+04\n",
      "   2  alpha2       2.00000e+00   9.95000e-01   0.00000e+00  -8.04951e+02\n",
      "   3  coeff       -7.66265e-02   5.00000e-03   0.00000e+00  -2.60765e-01\n",
      "   4  mean         0.00000e+00   2.00000e+00   0.00000e+00   8.55062e+04\n",
      "   5  shift        8.50000e+01   3.00000e+00   0.00000e+00   0.00000e+00\n",
      "   6  sigfrac      9.80000e-01   1.00000e-02   0.00000e+00  -1.17626e+03\n",
      "   7  sigma        2.00000e+00   3.90000e-01   0.00000e+00   1.42346e+04\n",
      "                               ERR DEF= 0.5\n",
      " MINUIT WARNING IN MIGRAD  \n",
      " ============== Negative diagonal element 7 in Error Matrix\n",
      " MINUIT WARNING IN MIGRAD  \n",
      " ============== 1.41421 added to diagonal of error matrix\n",
      " MIGRAD FAILS TO FIND IMPROVEMENT\n",
      " MINUIT WARNING IN HESSE\n",
      " ============== Second derivative enters zero, param 5\n",
      " MINUIT WARNING IN HESSE\n",
      " ============== Second derivative zero for parameter5\n",
      "  MNHESS FAILS AND WILL RETURN DIAGONAL MATRIX. \n",
      " FCN=546164 FROM HESSE     STATUS=FAILED         11 CALLS         448 TOTAL\n",
      "                     EDM=1.48099e+08    STRATEGY= 1  ERROR MATRIX UNCERTAINTY 100.0 per cent\n",
      "  EXT PARAMETER                APPROXIMATE        STEP         FIRST   \n",
      "  NO.   NAME      VALUE            ERROR          SIZE      DERIVATIVE \n",
      "   1  alpha1       1.72172e-01   1.03472e-03   1.49734e-04  -5.30819e+04\n",
      "   2  alpha2       2.13156e+00   1.39626e+01   3.24920e-03   5.73528e+02\n",
      "   3  coeff       -5.13259e-02   2.06254e-01   2.61854e-02  -3.95417e+02\n",
      "   4  mean        -2.21076e+00   5.57241e-03   2.91221e-04  -5.14423e+04\n",
      "   5  shift        8.50000e+01   4.17929e+00  -0.00000e+00   0.00000e+00\n",
      "   6  sigfrac      9.85980e-01   2.23404e-01  -0.00000e+00   8.57685e+03\n",
      "   7  sigma        1.78073e-01   1.35061e-03   0.00000e+00  -1.21845e+04\n",
      "                               ERR DEF= 0.5\n",
      " MIGRAD FAILS TO FIND IMPROVEMENT\n",
      " MIGRAD TERMINATED WITHOUT CONVERGENCE.\n",
      " FCN=538412 FROM MIGRAD    STATUS=FAILED        592 CALLS         593 TOTAL\n",
      "                     EDM=90.7843    STRATEGY= 1  ERROR MATRIX UNCERTAINTY   6.7 per cent\n",
      "  EXT PARAMETER                APPROXIMATE        STEP         FIRST   \n",
      "  NO.   NAME      VALUE            ERROR          SIZE      DERIVATIVE \n",
      "   1  alpha1       1.71857e-01   9.17422e-04   0.00000e+00   7.31307e+03\n",
      "   2  alpha2       4.97600e+01   2.31555e+01  -0.00000e+00   0.00000e+00\n",
      "   3  coeff       -3.61015e-04   2.35835e-04  -0.00000e+00   1.58187e+02\n",
      "   4  mean        -2.03776e+00   3.91341e-03   0.00000e+00  -2.05846e+04\n",
      "   5  shift        8.50000e+01   4.17929e+00  -0.00000e+00   0.00000e+00\n",
      "   6  sigfrac      7.55456e-01   2.66736e-03  -0.00000e+00   6.84227e+02\n",
      "   7  sigma        1.95016e-01   1.38201e-03   0.00000e+00   1.51192e+03\n",
      "                               ERR DEF= 0.5\n",
      " EXTERNAL ERROR MATRIX.    NDIM=  25    NPAR=  7    ERR DEF=0.5\n",
      "  8.417e-07  8.611e-06  1.513e-08  8.431e-07  0.000e+00 -2.783e-07 -2.755e-07 \n",
      "  8.611e-06  7.567e+02 -2.719e-06 -9.786e-06  0.000e+00 -1.262e-05  1.158e-05 \n",
      "  1.513e-08 -2.719e-06  5.562e-08  6.777e-08  0.000e+00 -8.505e-08  2.325e-08 \n",
      "  8.431e-07 -9.786e-06  6.777e-08  1.531e-05  0.000e+00  3.929e-08  1.409e-06 \n",
      "  0.000e+00  0.000e+00  0.000e+00  0.000e+00  1.800e+01  0.000e+00  0.000e+00 \n",
      " -2.783e-07 -1.262e-05 -8.505e-08  3.929e-08  0.000e+00  7.115e-06 -1.081e-06 \n",
      " -2.755e-07  1.158e-05  2.325e-08  1.409e-06  0.000e+00 -1.081e-06  1.910e-06 \n",
      "ERR MATRIX APPROXIMATE\n",
      " PARAMETER  CORRELATION COEFFICIENTS  \n",
      "       NO.  GLOBAL      1      2      3      4      5      6      7\n",
      "        1  0.43050   1.000  0.000  0.070  0.235  0.000 -0.114 -0.217\n",
      "        2  0.00077   0.000  1.000 -0.000 -0.000  0.000 -0.000  0.000\n",
      "        3  0.16142   0.070 -0.000  1.000  0.073  0.000 -0.135  0.071\n",
      "        4  0.42361   0.235 -0.000  0.073  1.000  0.000  0.004  0.260\n",
      "        5  0.00000   0.000  0.000  0.000  0.000  1.000  0.000  0.000\n",
      "        6  0.38877  -0.114 -0.000 -0.135  0.004  0.000  1.000 -0.293\n",
      "        7  0.50950  -0.217  0.000  0.071  0.260  0.000 -0.293  1.000\n",
      " ERR MATRIX APPROXIMATE\n",
      " **********\n",
      " **    7 **SET ERR         0.5\n",
      " **********\n",
      " **********\n",
      " **    8 **SET PRINT           1\n",
      " **********\n",
      " **********\n",
      " **    9 **HESSE        3500\n",
      " **********\n",
      " MINUIT WARNING IN HESSE\n",
      " ============== Second derivative enters zero, param 2\n",
      " MINUIT WARNING IN HESSE\n",
      " ============== Second derivative zero for parameter2\n",
      "  MNHESS FAILS AND WILL RETURN DIAGONAL MATRIX. \n",
      " FCN=538412 FROM HESSE     STATUS=FAILED          5 CALLS         598 TOTAL\n",
      "                     EDM=90.7843    STRATEGY= 1  ERROR MATRIX UNCERTAINTY 100.0 per cent\n",
      "  EXT PARAMETER                APPROXIMATE     INTERNAL      INTERNAL  \n",
      "  NO.   NAME      VALUE            ERROR       STEP SIZE       VALUE   \n",
      "   1  alpha1       1.71857e-01   1.15429e-03   1.75117e-04  -1.67065e+00\n",
      "   2  alpha2       6.08488e+01   3.43132e+01  -0.00000e+00  -5.75471e+02\n",
      "   3  coeff       -3.61015e-04   2.29683e-01  -0.00000e+00   4.16223e+02\n",
      "   4  mean        -2.03776e+00   7.59667e-04   0.00000e+00  -2.05213e-01\n",
      "   5  shift        8.50000e+01   1.19002e+01  -0.00000e+00  -3.39837e-01\n",
      "   6  sigfrac      7.55456e-01   2.25496e-03  -0.00000e+00  -8.59908e+03\n",
      "   7  sigma        1.95016e-01   1.59778e-03   0.00000e+00  -2.87267e+03\n",
      "                               ERR DEF= 0.5\n",
      " EXTERNAL ERROR MATRIX.    NDIM=  25    NPAR=  7    ERR DEF=0.5\n",
      "  1.332e-06  0.000e+00  0.000e+00  0.000e+00  0.000e+00  0.000e+00  0.000e+00 \n",
      "  0.000e+00  1.072e+03  0.000e+00  0.000e+00  0.000e+00  0.000e+00  0.000e+00 \n",
      "  0.000e+00  0.000e+00  3.609e-04  0.000e+00  0.000e+00  0.000e+00  0.000e+00 \n",
      "  0.000e+00  0.000e+00  0.000e+00  5.771e-07  0.000e+00  0.000e+00  0.000e+00 \n",
      "  0.000e+00  0.000e+00  0.000e+00  0.000e+00  2.000e+02  0.000e+00  0.000e+00 \n",
      "  0.000e+00  0.000e+00  0.000e+00  0.000e+00  0.000e+00  5.085e-06  0.000e+00 \n",
      "  0.000e+00  0.000e+00  0.000e+00  0.000e+00  0.000e+00  0.000e+00  2.553e-06 \n",
      "ERR MATRIX APPROXIMATE\n",
      " PARAMETER  CORRELATION COEFFICIENTS  \n",
      "       NO.  GLOBAL      1      2      3      4      5      6      7\n",
      "        1  0.00000   1.000  0.000  0.000  0.000  0.000  0.000  0.000\n",
      "        2  0.00000   0.000  1.000  0.000  0.000  0.000  0.000  0.000\n",
      "        3  0.00000   0.000  0.000  1.000  0.000  0.000  0.000  0.000\n",
      "        4  0.00000   0.000  0.000  0.000  1.000  0.000  0.000  0.000\n",
      "        5  0.00000   0.000  0.000  0.000  0.000  1.000  0.000  0.000\n",
      "        6  0.00000   0.000  0.000  0.000  0.000  0.000  1.000  0.000\n",
      "        7  0.00000   0.000  0.000  0.000  0.000  0.000  0.000  1.000\n",
      " ERR MATRIX APPROXIMATE\n",
      "[#1] INFO:Minimization -- RooAbsMinimizerFcn::setOptimizeConst: deactivating const optimization\n"
     ]
    },
    {
     "name": "stderr",
     "output_type": "stream",
     "text": [
      "Warning in <RTaskArenaWrapper>: CPU Bandwith Control Active. Proceeding with 64 threads accordingly\n"
     ]
    }
   ],
   "source": [
    "import time\n",
    "\n",
    "start = time.time()\n",
    "\n",
    "#fitting directly to unbinned dataset is slow, so first make a histogram\n",
    "roo_dataset = file.w.data(\"data_Zfit_no_e_cut_UL_calib_cat5\")\n",
    "roo_hist = rt.RooDataHist(\"data_hist\",\"binned version of roo_dataset\", rt.RooArgSet(mass), roo_dataset)  # copies binning from mass variable\n",
    "\n",
    "rt.EnableImplicitMT()\n",
    "model3.fitTo(roo_hist, rt.RooFit.BatchMode(\"cpu\"))\n",
    "\n",
    "\n",
    "end = time.time()\n",
    "print(f\"fitting elapsed time: {end - start}\")"
   ]
  },
  {
   "cell_type": "code",
   "execution_count": 8,
   "id": "0b9a9664-2cea-46eb-9494-a2b95d73618d",
   "metadata": {},
   "outputs": [
    {
     "name": "stdout",
     "output_type": "stream",
     "text": [
      "[#1] INFO:Caching -- RooAbsCachedPdf::getCache(BWxDCB) creating new cache 0x56466a32e5f0 with pdf bwz_CONV_dcb_CACHE_Obs[mh_ggh]_NORM_mh_ggh for nset (mh_ggh) with code 0 from preexisting content.\n",
      "[#1] INFO:NumericIntegration -- RooRealIntegral::init(bwz_CONV_dcb_CACHE_Obs[mh_ggh]_NORM_mh_ggh_Int[mh_ggh]) using numeric integrator RooIntegrator1D to calculate Int(mh_ggh)\n",
      "[#1] INFO:NumericIntegration -- RooRealIntegral::init(Exponential_Int[mh_ggh]) using numeric integrator RooIntegrator1D to calculate Int(mh_ggh)\n",
      "[#1] INFO:Caching -- RooAbsCachedPdf::getCache(BWxDCB) creating new cache 0x56466a32e410 with pdf bwz_CONV_dcb_CACHE_Obs[mh_ggh]_NORM_mh_ggh for nset (mh_ggh) with code 0 from preexisting content.\n",
      "[#1] INFO:NumericIntegration -- RooRealIntegral::init(bwz_CONV_dcb_CACHE_Obs[mh_ggh]_NORM_mh_ggh_Int[mh_ggh]) using numeric integrator RooIntegrator1D to calculate Int(mh_ggh)\n",
      "[#1] INFO:NumericIntegration -- RooRealIntegral::init(Exponential_Int[mh_ggh]) using numeric integrator RooIntegrator1D to calculate Int(mh_ggh)\n"
     ]
    },
    {
     "data": {
      "image/png": "[encoded data removed]",
      "text/plain": [
       "<IPython.core.display.Image object>"
      ]
     },
     "metadata": {},
     "output_type": "display_data"
    }
   ],
   "source": [
    "file.w.data(\"data_Zfit_no_e_cut_UL_calib_cat5\").plotOn(frame)\n",
    "\n",
    "model1.plotOn(frame, rt.RooFit.LineColor(rt.kRed))\n",
    "model2.plotOn(frame, rt.RooFit.LineColor(rt.kBlue))\n",
    "model3.plotOn(frame, rt.RooFit.LineColor(rt.kGreen))\n",
    "\n",
    "\n",
    "frame.Draw()\n",
    "canvas.Update()\n",
    "canvas.Draw()\n"
   ]
  },
  {
   "cell_type": "code",
   "execution_count": null,
   "id": "95b89fa4-955d-45a7-96d7-7b4771f688f2",
   "metadata": {},
   "outputs": [],
   "source": []
  }
 ],
 "metadata": {
  "kernelspec": {
   "display_name": "Python3 kernel (default)",
   "language": "python",
   "name": "python3"
  },
  "language_info": {
   "codemirror_mode": {
    "name": "ipython",
    "version": 3
   },
   "file_extension": ".py",
   "mimetype": "text/x-python",
   "name": "python",
   "nbconvert_exporter": "python",
   "pygments_lexer": "ipython3",
   "version": "3.10.10"
  }
 },
 "nbformat": 4,
 "nbformat_minor": 5
}
