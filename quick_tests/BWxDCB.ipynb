{
 "cells": [
  {
   "cell_type": "code",
   "execution_count": 1,
   "id": "660534a0-db38-436b-930f-15429e2c404d",
   "metadata": {},
   "outputs": [
    {
     "name": "stdout",
     "output_type": "stream",
     "text": [
      "Welcome to JupyROOT 6.28/00\n"
     ]
    }
   ],
   "source": [
    "import ROOT as rt"
   ]
  },
  {
   "cell_type": "code",
   "execution_count": 2,
   "id": "3ab50b81-4b43-4fc8-8b1c-69adfec7acb3",
   "metadata": {},
   "outputs": [],
   "source": [
    "load_path = \"./fits/calib_fits/Voigtian/workspace_ggh_All_Zfit_no_e_cut_UL_calib_cat12.root\""
   ]
  },
  {
   "cell_type": "code",
   "execution_count": 3,
   "id": "bc3da023-e6f6-436c-9546-f9b7903c0d44",
   "metadata": {},
   "outputs": [],
   "source": [
    "file = rt.TFile.Open(load_path)"
   ]
  },
  {
   "cell_type": "code",
   "execution_count": 4,
   "id": "9d88e673-f2b1-40fa-bed6-1bbd1d95848b",
   "metadata": {},
   "outputs": [],
   "source": [
    "canvas = rt.TCanvas()\n",
    "canvas.cd()\n",
    "mass =  rt.RooRealVar(\"mh_ggh\",\"mass (GeV)\",100,85,99)\n",
    "frame = mass.frame()"
   ]
  },
  {
   "cell_type": "code",
   "execution_count": 14,
   "id": "dbcb5682-d860-46c5-9bf7-da4aa6646603",
   "metadata": {},
   "outputs": [],
   "source": [
    "bwWidth = rt.RooRealVar(\"bwz_Width\" , \"widthZ\", 2.5, 0, 30)\n",
    "bwmZ = rt.RooRealVar(\"bwz_mZ\" , \"mZ\", 91.2, 90, 92)\n",
    "sigma = rt.RooRealVar(\"sigma\" , \"sigma\", 2, 0.0, 5.0)\n",
    "\n",
    "bwWidth.setConstant(True)\n",
    "bwmZ.setConstant(True)\n",
    "\n",
    "model1_1 = rt.RooBreitWigner(\"bwz\", \"BWZ\",mass, bwmZ, bwWidth)\n",
    "\n",
    "\"\"\"\n",
    "Note from Jan: sometimes freeze n values in DCB to be frozen (ie 1, but could be other values)\n",
    "This is because alpha and n are highly correlated, so roofit can be really confused.\n",
    "Also, given that we care about the resolution, not the actual parameter values alpha and n, we can \n",
    "put whatevere restrictions we want.\n",
    "\"\"\"\n",
    "mean = rt.RooRealVar(\"mean\" , \"mean\", 0, -5,5) # mean is mean relative to BW\n",
    "sigma = rt.RooRealVar(\"sigma\" , \"sigma\", 2, .2, 4.0)\n",
    "alpha1 = rt.RooRealVar(\"alpha1\" , \"alpha1\", 2, 0.01, 45)\n",
    "n1 = rt.RooRealVar(\"n1\" , \"n1\", 10, 0.01, 185)\n",
    "alpha2 = rt.RooRealVar(\"alpha2\" , \"alpha2\", 2.0, 0.01, 65)\n",
    "n2 = rt.RooRealVar(\"n2\" , \"n2\", 25, 0.01, 385)\n",
    "model1_2 = rt.RooCrystalBall(\"dcb\",\"dcb\",mass, mean, sigma, alpha1, n1, alpha2, n2)\n",
    "\n",
    "model1 = rt.RooFFTConvPdf(\"BWxDCB\", \"BWxDCB\", mass, model1_1, model1_2)\n",
    "\n",
    "mass.setBins(10000,\"cache\") # cache is repre of the varibale only used in FFT\n",
    "mass.setBins(100) # bin to 100 bins otherwise, fitting with FFT conv is gonna take forever\n",
    "mass.setMin(\"cache\",50.5) \n",
    "mass.setMax(\"cache\",130.5)\n",
    "\n",
    "c = rt.RooRealVar(\"c\", \"c\", -1.54, -10, -0.1)\n",
    "model2 = rt.RooExponential(\"Exponential\", \"Exponential\", mass,c)\n"
   ]
  },
  {
   "cell_type": "code",
   "execution_count": 10,
   "id": "feff1272-83a2-44df-aac5-2d98d4b76b72",
   "metadata": {},
   "outputs": [
    {
     "name": "stdout",
     "output_type": "stream",
     "text": [
      "RooFFTConvPdf::BWxDCB[ bwz(mh_ggh) (*) dcb(mh_ggh) ] = [#1] INFO:Caching -- RooAbsCachedPdf::getCache(BWxDCB) creating new cache 0x55cd5230db50 with pdf bwz_CONV_dcb_CACHE_Obs[mh_ggh] for nset () with code 0\n",
      "[#1] INFO:Caching -- RooAbsCachedPdf::getCache(BWxDCB) creating new cache 0x55cd532aac60 with pdf bwz_CONV_dcb_CACHE_Obs[mh_ggh]_NORM_mh_ggh for nset (mh_ggh) with code 1 from preexisting content.\n",
      "0.0761858\n"
     ]
    }
   ],
   "source": [
    "model1.Print()"
   ]
  },
  {
   "cell_type": "code",
   "execution_count": 17,
   "id": "fc9d7cec-1a97-4cff-9903-5fb84f27d608",
   "metadata": {
    "scrolled": true
   },
   "outputs": [
    {
     "data": {
      "text/plain": [
       "<cppyy.gbl.RooFitResult object at 0x(nil)>"
      ]
     },
     "execution_count": 17,
     "metadata": {},
     "output_type": "execute_result"
    },
    {
     "name": "stdout",
     "output_type": "stream",
     "text": [
      "[#1] INFO:Caching -- RooAbsCachedPdf::getCache(BWxDCB) creating new cache 0x55ca751b8be0 with pdf bwz_CONV_dcb_CACHE_Obs[mh_ggh]_NORM_mh_ggh for nset (mh_ggh) with code 0\n",
      "[#1] INFO:NumericIntegration -- RooRealIntegral::init(bwz_CONV_dcb_CACHE_Obs[mh_ggh]_NORM_mh_ggh_Int[mh_ggh]) using numeric integrator RooIntegrator1D to calculate Int(mh_ggh)\n",
      "[#1] INFO:Minimization -- RooAbsMinimizerFcn::setOptimizeConst: activating const optimization\n",
      "[#1] INFO:Minimization --  The following expressions have been identified as constant and will be precalculated and cached: (bwz)\n",
      " **********\n",
      " **   10 **SET PRINT           1\n",
      " **********\n",
      " **********\n",
      " **   11 **SET NOGRAD\n",
      " **********\n",
      " PARAMETER DEFINITIONS:\n",
      "    NO.   NAME         VALUE      STEP SIZE      LIMITS\n",
      "     1 alpha1       2.00000e+00  9.95000e-01    1.00000e-02  4.50000e+01\n",
      "     2 alpha2       2.00000e+00  9.95000e-01    1.00000e-02  6.50000e+01\n",
      "     3 mean         0.00000e+00  1.00000e+00   -5.00000e+00  5.00000e+00\n",
      "     4 n1           1.00000e+01  4.99500e+00    1.00000e-02  1.85000e+02\n",
      "     5 n2           2.50000e+01  1.24950e+01    1.00000e-02  3.85000e+02\n",
      "     6 sigma        2.00000e+00  3.80000e-01    2.00000e-01  4.00000e+00\n",
      " **********\n",
      " **   12 **SET ERR         0.5\n",
      " **********\n",
      " **********\n",
      " **   13 **SET PRINT           1\n",
      " **********\n",
      " **********\n",
      " **   14 **SET STR           1\n",
      " **********\n",
      " NOW USING STRATEGY  1: TRY TO BALANCE SPEED AGAINST RELIABILITY\n",
      " **********\n",
      " **   15 **MIGRAD        3000           1\n",
      " **********\n",
      " FIRST CALL TO USER FUNCTION AT NEW START POINT, WITH IFLAG=4.\n",
      " START MIGRAD MINIMIZATION.  STRATEGY  1.  CONVERGENCE WHEN EDM .LT. 1.00e-03\n",
      " FCN=829464 FROM MIGRAD    STATUS=INITIATE       28 CALLS          29 TOTAL\n",
      "                     EDM= unknown      STRATEGY= 1      NO ERROR MATRIX       \n",
      "  EXT PARAMETER               CURRENT GUESS       STEP         FIRST   \n",
      "  NO.   NAME      VALUE            ERROR          SIZE      DERIVATIVE \n",
      "   1  alpha1       2.00000e+00   9.95000e-01   1.11250e-01  -4.35555e+03\n",
      "   2  alpha2       2.00000e+00   9.95000e-01   9.19369e-02  -3.99950e+03\n",
      "   3  mean         0.00000e+00   1.00000e+00   2.01358e-01  -1.03066e+04\n",
      "   4  n1           1.00000e+01   4.99500e+00   1.23533e-01  -6.41038e+01\n",
      "   5  n2           2.50000e+01   1.24950e+01   1.36192e-01  -3.52881e+01\n",
      "   6  sigma        2.00000e+00   3.80000e-01   2.01653e-01   3.70821e+04\n",
      "                               ERR DEF= 0.5\n",
      " EIGENVALUES OF SECOND-DERIVATIVE MATRIX:\n",
      "        -5.8610e-02  8.0404e-01  1.0105e+00  1.0404e+00  1.1490e+00  2.0546e+00\n",
      " MINUIT WARNING IN MIGRAD  \n",
      " ============== MATRIX FORCED POS-DEF BY ADDING 0.060665 TO DIAGONAL.\n",
      " MIGRAD MINIMIZATION HAS CONVERGED.\n",
      " MIGRAD WILL VERIFY CONVERGENCE AND ERROR MATRIX.\n",
      " COVARIANCE MATRIX CALCULATED SUCCESSFULLY\n",
      " FCN=815483 FROM MIGRAD    STATUS=CONVERGED     501 CALLS         502 TOTAL\n",
      "                     EDM=0.000106844    STRATEGY= 1      ERROR MATRIX ACCURATE \n",
      "  EXT PARAMETER                                   STEP         FIRST   \n",
      "  NO.   NAME      VALUE            ERROR          SIZE      DERIVATIVE \n",
      "   1  alpha1       2.78164e+00   7.38263e-03   3.92036e-04   1.32753e+01\n",
      "   2  alpha2       2.27334e+00   3.18758e-02   3.83433e-04   4.83866e+00\n",
      "   3  mean         3.30597e-02   4.70399e-03   4.88158e-04   3.49852e+00\n",
      "   4  n1           1.00000e-02   9.55085e-04   2.79685e-03** at limit **\n",
      "   5  n2           5.12310e-01   3.43973e-02   3.72212e-04   6.92476e+00\n",
      "   6  sigma        7.71316e-01   8.14902e-03   3.44928e-03  -5.42144e-02\n",
      "                               ERR DEF= 0.5\n",
      " EXTERNAL ERROR MATRIX.    NDIM=  25    NPAR=  6    ERR DEF=0.5\n",
      "  5.450e-05 -1.246e-05 -1.019e-05 -1.832e-09  1.161e-05 -1.094e-05 \n",
      " -1.246e-05  1.016e-03  6.076e-05 -6.412e-11 -1.060e-03  8.481e-05 \n",
      " -1.019e-05  6.076e-05  2.213e-05  1.745e-11 -5.254e-05  6.804e-06 \n",
      " -1.832e-09 -6.412e-11  1.745e-11  2.251e-12  4.265e-11 -7.637e-11 \n",
      "  1.161e-05 -1.060e-03 -5.254e-05  4.265e-11  1.183e-03 -7.973e-05 \n",
      " -1.094e-05  8.481e-05  6.804e-06 -7.637e-11 -7.973e-05  6.641e-05 \n",
      " PARAMETER  CORRELATION COEFFICIENTS  \n",
      "       NO.  GLOBAL      1      2      3      4      5      6\n",
      "        1  0.38905   1.000 -0.053 -0.293 -0.165  0.046 -0.182\n",
      "        2  0.97323  -0.053  1.000  0.405 -0.001 -0.967  0.326\n",
      "        3  0.55467  -0.293  0.405  1.000  0.002 -0.325  0.177\n",
      "        4  0.17678  -0.165 -0.001  0.002  1.000  0.001 -0.006\n",
      "        5  0.97048   0.046 -0.967 -0.325  0.001  1.000 -0.284\n",
      "        6  0.38796  -0.182  0.326  0.177 -0.006 -0.284  1.000\n",
      " **********\n",
      " **   16 **SET ERR         0.5\n",
      " **********\n",
      " **********\n",
      " **   17 **SET PRINT           1\n",
      " **********\n",
      " **********\n",
      " **   18 **HESSE        3000\n",
      " **********\n",
      " COVARIANCE MATRIX CALCULATED SUCCESSFULLY\n",
      " FCN=815483 FROM HESSE     STATUS=OK             42 CALLS         544 TOTAL\n",
      "                     EDM=0.000141846    STRATEGY= 1      ERROR MATRIX ACCURATE \n",
      "  EXT PARAMETER                                INTERNAL      INTERNAL  \n",
      "  NO.   NAME      VALUE            ERROR       STEP SIZE       VALUE   \n",
      "   1  alpha1       2.78164e+00   7.32506e-03   1.56814e-05  -1.06914e+00\n",
      "   2  alpha2       2.27334e+00   6.14035e-02   1.53373e-05  -1.19536e+00\n",
      "   3  mean         3.30597e-02   5.52172e-03   9.76317e-05   6.61199e-03\n",
      "   4  n1           1.00000e-02   9.55582e-04   1.11874e-04  -1.57079e+00\n",
      "                                 WARNING -   - ABOVE PARAMETER IS AT LIMIT.\n",
      "   5  n2           5.12310e-01   6.62291e-02   1.48885e-05  -1.49854e+00\n",
      "   6  sigma        7.71316e-01   9.28522e-03   1.37971e-04  -7.74428e-01\n",
      "                               ERR DEF= 0.5\n",
      " EXTERNAL ERROR MATRIX.    NDIM=  25    NPAR=  6    ERR DEF=0.5\n",
      "  5.366e-05 -4.838e-05 -1.218e-05 -7.928e-11  5.036e-05 -1.445e-05 \n",
      " -4.838e-05  3.770e-03  2.125e-04 -7.432e-12 -4.031e-03  3.155e-04 \n",
      " -1.218e-05  2.125e-04  3.049e-05  7.632e-13 -2.164e-04  1.946e-05 \n",
      " -7.928e-11 -7.432e-12  7.632e-13  2.253e-12  6.970e-12 -3.237e-12 \n",
      "  5.036e-05 -4.031e-03 -2.164e-04  6.970e-12  4.386e-03 -3.289e-04 \n",
      " -1.445e-05  3.155e-04  1.946e-05 -3.237e-12 -3.289e-04  8.622e-05 \n",
      " PARAMETER  CORRELATION COEFFICIENTS  \n",
      "       NO.  GLOBAL      1      2      3      4      5      6\n",
      "        1  0.37125   1.000 -0.108 -0.301 -0.007  0.104 -0.212\n",
      "        2  0.99286  -0.108  1.000  0.627 -0.000 -0.991  0.553\n",
      "        3  0.70533  -0.301  0.627  1.000  0.000 -0.592  0.380\n",
      "        4  0.00776  -0.007 -0.000  0.000  1.000  0.000 -0.000\n",
      "        5  0.99212   0.104 -0.991 -0.592  0.000  1.000 -0.535\n",
      "        6  0.58431  -0.212  0.553  0.380 -0.000 -0.535  1.000\n",
      "[#1] INFO:Minimization -- RooAbsMinimizerFcn::setOptimizeConst: deactivating const optimization\n"
     ]
    }
   ],
   "source": [
    "# minim = rt.RooMinimizer (model1)\n",
    "# minim.minimize(\"Minuit2\",\"migrad\");  \n",
    "# model3.fitTo(file.w.data(\"data_Zfit_no_e_cut_UL_calib_cat20\"))\n",
    "# rooDataset = file.w.data(\"data_Zfit_no_e_cut_UL_calib_cat12\")\n",
    "# model1.fitTo(rooDataset) # fitting on unbinned data is really slow,\n",
    "#fitting directly to unbinned dataset is slow, so first make a histogram\n",
    "roo_dataset = file.w.data(\"data_Zfit_no_e_cut_UL_calib_cat12\")\n",
    "data_hist = rt.RooDataHist(\"data_hist\",\"binned version of roo_dataset\", rt.RooArgSet(mass), roo_dataset)  # copies binning from mass variable\n",
    "model1.fitTo(roo_dataset) # fitting on unbinned data is really slow,"
   ]
  },
  {
   "cell_type": "code",
   "execution_count": 16,
   "id": "6b9cb0f0-d4c7-49c0-aab2-79dbb688ce81",
   "metadata": {},
   "outputs": [
    {
     "name": "stdout",
     "output_type": "stream",
     "text": [
      "RooDataHist::data_hist[mh_ggh] = 100 bins (355350 weights)\n"
     ]
    }
   ],
   "source": [
    "data_hist.Print()"
   ]
  },
  {
   "cell_type": "code",
   "execution_count": 19,
   "id": "0b9a9664-2cea-46eb-9494-a2b95d73618d",
   "metadata": {},
   "outputs": [
    {
     "name": "stdout",
     "output_type": "stream",
     "text": [
      "[#1] INFO:Caching -- RooAbsCachedPdf::getCache(BWxDCB) creating new cache 0x55ca75145aa0 with pdf bwz_CONV_dcb_CACHE_Obs[mh_ggh]_NORM_mh_ggh for nset (mh_ggh) with code 0 from preexisting content.\n",
      "[#1] INFO:NumericIntegration -- RooRealIntegral::init(bwz_CONV_dcb_CACHE_Obs[mh_ggh]_NORM_mh_ggh_Int[mh_ggh]) using numeric integrator RooIntegrator1D to calculate Int(mh_ggh)\n"
     ]
    },
    {
     "data": {
      "image/png": "[encoded data removed]",
      "text/plain": [
       "<IPython.core.display.Image object>"
      ]
     },
     "metadata": {},
     "output_type": "display_data"
    }
   ],
   "source": [
    "\n",
    "# file.w.pdf(\"Voigtian_ggh_All\").plotOn(frame)\n",
    "file.w.data(\"data_Zfit_no_e_cut_UL_calib_cat12\").plotOn(frame)\n",
    "# model3.plotOn(frame, rt.RooFit.LineColor(rt.kGreen))\n",
    "# model1.plotOn(frame, rt.RooFit.LineColor(rt.kRed))\n",
    "# model2.plotOn(frame, rt.RooFit.LineColor(rt.kBlue))\n",
    "# model1_1.plotOn(frame, rt.RooFit.LineColor(rt.kRed))\n",
    "# model1_2.plotOn(frame, rt.RooFit.LineColor(rt.kBlue))\n",
    "model1.plotOn(frame, rt.RooFit.LineColor(rt.kBlue))\n",
    "\n",
    "frame.Draw()\n",
    "canvas.Update()\n",
    "canvas.Draw()\n"
   ]
  },
  {
   "cell_type": "code",
   "execution_count": null,
   "id": "641d21d5-9909-484f-b941-5972e1a11990",
   "metadata": {},
   "outputs": [],
   "source": []
  }
 ],
 "metadata": {
  "kernelspec": {
   "display_name": "Python3 kernel (default)",
   "language": "python",
   "name": "python3"
  },
  "language_info": {
   "codemirror_mode": {
    "name": "ipython",
    "version": 3
   },
   "file_extension": ".py",
   "mimetype": "text/x-python",
   "name": "python",
   "nbconvert_exporter": "python",
   "pygments_lexer": "ipython3",
   "version": "3.10.10"
  }
 },
 "nbformat": 4,
 "nbformat_minor": 5
}
