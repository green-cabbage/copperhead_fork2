{
 "cells": [
  {
   "cell_type": "code",
   "execution_count": 1,
   "id": "660534a0-db38-436b-930f-15429e2c404d",
   "metadata": {},
   "outputs": [
    {
     "name": "stdout",
     "output_type": "stream",
     "text": [
      "Welcome to JupyROOT 6.30/04\n"
     ]
    }
   ],
   "source": [
    "import ROOT as rt"
   ]
  },
  {
   "cell_type": "code",
   "execution_count": 2,
   "id": "de86b9ab-b4f5-4940-9eb0-649a21c5b010",
   "metadata": {},
   "outputs": [
    {
     "data": {
      "text/plain": [
       "<class cppyy.gbl.RooFit.EvalBackend at 0x556ffe2cd5c0>"
      ]
     },
     "execution_count": 2,
     "metadata": {},
     "output_type": "execute_result"
    }
   ],
   "source": [
    "# rt.RooFit.BatchMode\n",
    "rt.RooFit.EvalBackend"
   ]
  },
  {
   "cell_type": "code",
   "execution_count": 3,
   "id": "3ab50b81-4b43-4fc8-8b1c-69adfec7acb3",
   "metadata": {},
   "outputs": [],
   "source": [
    "# load_path = \"workspace/workspace_ggh_All_Zfit_no_e_cut_UL_calib_cat5.root\"\n",
    "load_path = \"workspace/workspace_ggh_All_Zfit_no_e_cut_UL_calib_cat5_data_x.root\""
   ]
  },
  {
   "cell_type": "code",
   "execution_count": 4,
   "id": "bc3da023-e6f6-436c-9546-f9b7903c0d44",
   "metadata": {},
   "outputs": [],
   "source": [
    "file = rt.TFile.Open(load_path)"
   ]
  },
  {
   "cell_type": "code",
   "execution_count": 5,
   "id": "9d88e673-f2b1-40fa-bed6-1bbd1d95848b",
   "metadata": {},
   "outputs": [],
   "source": [
    "canvas = rt.TCanvas()\n",
    "canvas.cd()\n",
    "mass =  rt.RooRealVar(\"mh_ggh\",\"mass (GeV)\",100,85,99)\n",
    "mass.setBins(200) # bin to 100 bins otherwise, fitting with FFT conv is gonna take forever\n",
    "# mass.setBins(10000) # stress test\n",
    "frame = mass.frame()"
   ]
  },
  {
   "cell_type": "code",
   "execution_count": 6,
   "id": "dbcb5682-d860-46c5-9bf7-da4aa6646603",
   "metadata": {},
   "outputs": [
    {
     "name": "stdout",
     "output_type": "stream",
     "text": [
      "[#1] INFO:Caching -- Changing internal binning of variable 'mh_ggh' in FFT 'BWxDCB' from 200 to 930 to improve the precision of the numerical FFT. This can be done manually by setting an additional binning named 'cache'.\n"
     ]
    }
   ],
   "source": [
    "bwWidth = rt.RooRealVar(\"bwz_Width\" , \"widthZ\", 2.5, 0, 30)\n",
    "bwmZ = rt.RooRealVar(\"bwz_mZ\" , \"mZ\", 91.2, 90, 92)\n",
    "sigma = rt.RooRealVar(\"sigma\" , \"sigma\", 2, 0.0, 5.0)\n",
    "\n",
    "bwWidth.setConstant(True)\n",
    "bwmZ.setConstant(True) # set bwmZ \n",
    "\n",
    "model1_1 = rt.RooBreitWigner(\"bwz\", \"BWZ\",mass, bwmZ, bwWidth)\n",
    "\n",
    "\"\"\"\n",
    "Note from Jan: sometimes freeze n values in DCB to be frozen (ie 1, but could be other values)\n",
    "This is because alpha and n are highly correlated, so roofit can be really confused.\n",
    "Also, given that we care about the resolution, not the actual parameter values alpha and n, we can \n",
    "put whatevere restrictions we want.\n",
    "\"\"\"\n",
    "mean = rt.RooRealVar(\"mean\" , \"mean\", 0, -10,10) # mean is mean relative to BW\n",
    "sigma = rt.RooRealVar(\"sigma\" , \"sigma\", 2, .1, 4.0)\n",
    "alpha1 = rt.RooRealVar(\"alpha1\" , \"alpha1\", 2, 0.01, 65)\n",
    "n1 = rt.RooRealVar(\"n1\" , \"n1\", 10, 0.01, 185)\n",
    "alpha2 = rt.RooRealVar(\"alpha2\" , \"alpha2\", 2.0, 0.01, 65)\n",
    "n2 = rt.RooRealVar(\"n2\" , \"n2\", 25, 0.01, 385)\n",
    "n1.setConstant(True)\n",
    "n2.setConstant(True)\n",
    "model1_2 = rt.RooCrystalBall(\"dcb\",\"dcb\",mass, mean, sigma, alpha1, n1, alpha2, n2)\n",
    "\n",
    "# merge BW with DCB\n",
    "model1 = rt.RooFFTConvPdf(\"BWxDCB\", \"BWxDCB\", mass, model1_1, model1_2)\n",
    "\n",
    "\n",
    "mass.setBins(10000,\"cache\") # This nbins has nothing to do with actual nbins of mass. cache bins is representation of the variable only used in FFT\n",
    "mass.setMin(\"cache\",50.5) \n",
    "mass.setMax(\"cache\",130.5)\n",
    "\n",
    "coeff = rt.RooRealVar(\"coeff\", \"coeff\", 0.01, 0.00000001, 1)\n",
    "# shift = rt.RooRealVar(\"shift\" , \"shift\", 92, -10, 1000)\n",
    "# coeff = rt.RooRealVar(\"coeff\", \"Slope\", 0.0001, -1.5, 0)\n",
    "shift = rt.RooRealVar(\"shift\", \"Offset\", 85, 75, 105)\n",
    "shifted_mass = rt.RooFormulaVar(\"shifted_mass\", \"@0-@1\", rt.RooArgList(mass, shift))\n",
    "model2 = rt.RooExponential(\"Exponential\", \"Exponential\", shifted_mass, coeff)\n",
    "\n",
    "sigfrac = rt.RooRealVar(\"sigfrac\", \"sigfrac\", 0.98, 0, 1.0)\n",
    "model3 = rt.RooAddPdf(\"model3\", \"model3\", rt.RooArgList(model1, model2),sigfrac)"
   ]
  },
  {
   "cell_type": "code",
   "execution_count": 8,
   "id": "fc9d7cec-1a97-4cff-9903-5fb84f27d608",
   "metadata": {
    "scrolled": true
   },
   "outputs": [
    {
     "name": "stdout",
     "output_type": "stream",
     "text": [
      "fitting elapsed time: 1.666719913482666\n",
      "[#1] INFO:Caching -- RooAbsCachedPdf::getCache(BWxDCB) creating new cache 0x556fff9f7ff0 with pdf bwz_CONV_dcb_CACHE_Obs[mh_ggh]_NORM_mh_ggh for nset (mh_ggh) with code 0\n",
      "[#1] INFO:Fitting -- RooAbsPdf::fitTo(model3) fixing normalization set for coefficient determination to observables in data\n",
      "[#1] INFO:Fitting -- RooAddition::defaultErrorLevel(nll_model3_data_hist) Summation contains a RooNLLVar, using its error level\n",
      "[#1] INFO:Minimization -- RooAbsMinimizerFcn::setOptimizeConst: activating const optimization\n",
      "Minuit2Minimizer: Minimize with max-calls 3500 convergence for edm < 1 strategy 1\n",
      "[#1] INFO:NumericIntegration -- RooRealIntegral::init(Exponential_Int[mh_ggh]) using numeric integrator RooRombergIntegrator to calculate Int(mh_ggh)\n",
      "[#1] INFO:Caching -- RooAbsCachedPdf::getCache(BWxDCB) creating new cache 0x557000cbe350 with pdf bwz_CONV_dcb_CACHE_Obs[mh_ggh] for nset () with code 1 from preexisting content.\n",
      "[#1] INFO:NumericIntegration -- RooRealIntegral::init(BWxDCB_Int[mh_ggh]) using numeric integrator RooRombergIntegrator to calculate Int(mh_ggh)\n",
      "Minuit2Minimizer : Valid minimum - status = 0\n",
      "FVAL  = 538240.39813581109\n",
      "Edm   = 0.000968336841134195478\n",
      "Nfcn  = 631\n",
      "alpha1\t  = 0.115437\t +/-  0.0262329\t(limited)\n",
      "alpha2\t  = 0.204253\t +/-  0.0474791\t(limited)\n",
      "coeff\t  = 1\t +/-  0.00071058\t(limited)\n",
      "mean\t  = -2.43209\t +/-  0.0155757\t(limited)\n",
      "shift\t  = 78.832\t +/-  8.42629\t(limited)\n",
      "sigfrac\t  = 0.971203\t +/-  0.000530792\t(limited)\n",
      "sigma\t  = 0.194501\t +/-  0.0440391\t(limited)\n",
      "[#1] INFO:Minimization -- RooAbsMinimizerFcn::setOptimizeConst: deactivating const optimization\n"
     ]
    },
    {
     "name": "stderr",
     "output_type": "stream",
     "text": [
      "Info in <Minuit2>: MnSeedGenerator Computing seed using NumericalGradient calculator\n",
      "Info in <Minuit2>: MnSeedGenerator Initial state: FCN =       538554.6444 Edm =       258.1573923 NCalls =     35\n",
      "Info in <Minuit2>: NegativeG2LineSearch Doing a NegativeG2LineSearch since one of the G2 component is negative\n",
      "Info in <Minuit2>: MnSeedGenerator Negative G2 found - new state: \n",
      "  Minimum value : 538554.6444\n",
      "  Edm           : 237.2812856\n",
      "  Internal parameters:\t[     -1.346101594     -1.243590154      1.507045511    -0.2691413307    -0.8398369095      1.217157325    -0.4254211392]\t\n",
      "  Internal gradient  :\t[      22012.14275     -204.3049487      -19.7121042      15455.84518                0      -703.159958      20661.83176]\t\n",
      "  Internal covariance matrix:\n",
      "[[  1.4244354e-06              0              0              0              0              0              0]\n",
      " [              0  3.0341857e-05              0              0              0              0              0]\n",
      " [              0              0    0.006451526              0              0              0              0]\n",
      " [              0              0              0  8.6709719e-07              0              0              0]\n",
      " [              0              0              0              0              2              0              0]\n",
      " [              0              0              0              0              0  1.6670332e-05              0]\n",
      " [              0              0              0              0              0              0  9.3196294e-08]]]\n",
      "Info in <Minuit2>: MnSeedGenerator Initial state  \n",
      "  Minimum value : 538554.6444\n",
      "  Edm           : 237.2812856\n",
      "  Internal parameters:\t[     -1.346101594     -1.243590154      1.507045511    -0.2691413307    -0.8398369095      1.217157325    -0.4254211392]\t\n",
      "  Internal gradient  :\t[      22012.14275     -204.3049487      -19.7121042      15455.84518                0      -703.159958      20661.83176]\t\n",
      "  Internal covariance matrix:\n",
      "[[  1.4244354e-06              0              0              0              0              0              0]\n",
      " [              0  3.0341857e-05              0              0              0              0              0]\n",
      " [              0              0    0.006451526              0              0              0              0]\n",
      " [              0              0              0  8.6709719e-07              0              0              0]\n",
      " [              0              0              0              0              2              0              0]\n",
      " [              0              0              0              0              0  1.6670332e-05              0]\n",
      " [              0              0              0              0              0              0  9.3196294e-08]]]\n",
      "Info in <Minuit2>: VariableMetricBuilder Start iterating until Edm is < 0.001 with call limit = 3500\n",
      "Info in <Minuit2>: VariableMetricBuilder    0 - FCN =       538554.6444 Edm =       237.2812856 NCalls =     63\n",
      "Info in <Minuit2>: VariableMetricBuilder    1 - FCN =       538425.7522 Edm =        25.7841151 NCalls =     83\n",
      "Info in <Minuit2>: VariableMetricBuilder    2 - FCN =       538392.7021 Edm =       1.969131518 NCalls =    102\n",
      "Info in <Minuit2>: VariableMetricBuilder    3 - FCN =       538390.1545 Edm =      0.2815677635 NCalls =    118\n",
      "Info in <Minuit2>: VariableMetricBuilder    4 - FCN =       538389.8488 Edm =      0.1799810031 NCalls =    134\n",
      "Info in <Minuit2>: VariableMetricBuilder    5 - FCN =       538389.3714 Edm =     0.07158410381 NCalls =    150\n",
      "Info in <Minuit2>: VariableMetricBuilder    6 - FCN =       538389.2527 Edm =     0.05233054182 NCalls =    166\n",
      "Info in <Minuit2>: VariableMetricBuilder    7 - FCN =       538385.2698 Edm =       4.222730515 NCalls =    186\n",
      "Info in <Minuit2>: VariableMetricBuilder    8 - FCN =        538385.134 Edm =      0.1365409558 NCalls =    203\n",
      "Info in <Minuit2>: VariableMetricBuilder    9 - FCN =       538380.1218 Edm =       4.799198849 NCalls =    223\n",
      "Info in <Minuit2>: VariableMetricBuilder   10 - FCN =       538297.8603 Edm =       22.89587131 NCalls =    244\n",
      "Info in <Minuit2>: VariableMetricBuilder   11 - FCN =       538282.2635 Edm =        19.0627862 NCalls =    260\n",
      "Info in <Minuit2>: VariableMetricBuilder   12 - FCN =       538272.2804 Edm =       7.401547892 NCalls =    276\n",
      "Info in <Minuit2>: VariableMetricBuilder   13 - FCN =       538261.9895 Edm =       5.818216594 NCalls =    293\n",
      "Info in <Minuit2>: VariableMetricBuilder   14 - FCN =        538253.148 Edm =       4.705983905 NCalls =    309\n",
      "Info in <Minuit2>: VariableMetricBuilder   15 - FCN =       538248.6742 Edm =       2.843765825 NCalls =    326\n",
      "Info in <Minuit2>: VariableMetricBuilder   16 - FCN =       538245.7497 Edm =       1.969923708 NCalls =    342\n",
      "Info in <Minuit2>: VariableMetricBuilder   17 - FCN =         538243.55 Edm =      0.8116154076 NCalls =    359\n",
      "Info in <Minuit2>: VariableMetricBuilder   18 - FCN =       538242.4676 Edm =      0.7751768449 NCalls =    375\n",
      "Info in <Minuit2>: VariableMetricBuilder   19 - FCN =       538241.5893 Edm =      0.2531898356 NCalls =    394\n",
      "Info in <Minuit2>: VariableMetricBuilder   20 - FCN =       538241.2511 Edm =      0.2672936995 NCalls =    411\n",
      "Info in <Minuit2>: VariableMetricBuilder   21 - FCN =       538240.8647 Edm =      0.1265480417 NCalls =    428\n",
      "Info in <Minuit2>: VariableMetricBuilder   22 - FCN =        538240.786 Edm =      0.1089909919 NCalls =    444\n",
      "Info in <Minuit2>: VariableMetricBuilder   23 - FCN =        538240.654 Edm =     0.02609990416 NCalls =    463\n",
      "Info in <Minuit2>: VariableMetricBuilder   24 - FCN =        538240.526 Edm =     0.06371252606 NCalls =    480\n",
      "Info in <Minuit2>: VariableMetricBuilder   25 - FCN =       538240.5093 Edm =     0.03709368935 NCalls =    496\n",
      "Info in <Minuit2>: VariableMetricBuilder   26 - FCN =       538240.4777 Edm =     0.01426415688 NCalls =    513\n",
      "Info in <Minuit2>: VariableMetricBuilder   27 - FCN =       538240.4524 Edm =     0.01121208155 NCalls =    532\n",
      "Info in <Minuit2>: VariableMetricBuilder   28 - FCN =       538240.4478 Edm =    0.003765366326 NCalls =    547\n",
      "Info in <Minuit2>: VariableMetricBuilder   29 - FCN =       538240.4289 Edm =     0.01436875934 NCalls =    563\n",
      "Info in <Minuit2>: VariableMetricBuilder   30 - FCN =       538240.4169 Edm =    0.003137770821 NCalls =    580\n",
      "Info in <Minuit2>: VariableMetricBuilder   31 - FCN =       538240.4093 Edm =    0.002580071195 NCalls =    596\n",
      "Info in <Minuit2>: VariableMetricBuilder   32 - FCN =       538240.3989 Edm =     0.01295465585 NCalls =    615\n",
      "Info in <Minuit2>: VariableMetricBuilder   33 - FCN =       538240.3981 Edm =   0.0009683368411 NCalls =    631\n",
      "Info in <Minuit2>: Minuit2Minimizer::Hesse Using max-calls 3500\n",
      "Warning in <Minuit2>: MnHesse 2nd derivative zero for parameter shift ; MnHesse fails and will return diagonal matrix\n",
      "Warning in <Minuit2>: Minuit2Minimizer::Hesse Hesse failed - matrix is full but not positive defined\n",
      "Warning in <Minuit2>: Minuit2Minimizer::Hesse 3\n",
      "Warning in <ROOT::Math::Fitter::CalculateHessErrors>: Error when calculating Hessian\n"
     ]
    }
   ],
   "source": [
    "import time\n",
    "\n",
    "start = time.time()\n",
    "\n",
    "#fitting directly to unbinned dataset is slow, so first make a histogram\n",
    "roo_dataset = file.w.data(\"data_Zfit_no_e_cut_UL_calib_cat5\")\n",
    "roo_hist = rt.RooDataHist(\"data_hist\",\"binned version of roo_dataset\", rt.RooArgSet(mass), roo_dataset)  # copies binning from mass variable\n",
    "\n",
    "rt.EnableImplicitMT()\n",
    "# model3.fitTo(roo_hist, rt.RooFit.BatchMode(\"cpu\"))\n",
    "model3.fitTo(roo_hist, EvalBackend=\"cpu\")\n",
    "\n",
    "\n",
    "end = time.time()\n",
    "print(f\"fitting elapsed time: {end - start}\")"
   ]
  },
  {
   "cell_type": "code",
   "execution_count": 9,
   "id": "0b9a9664-2cea-46eb-9494-a2b95d73618d",
   "metadata": {},
   "outputs": [
    {
     "name": "stdout",
     "output_type": "stream",
     "text": [
      "[#1] INFO:Caching -- RooAbsCachedPdf::getCache(BWxDCB) creating new cache 0x557000fe01b0 with pdf bwz_CONV_dcb_CACHE_Obs[mh_ggh]_NORM_mh_ggh for nset (mh_ggh) with code 0\n",
      "[#1] INFO:NumericIntegration -- RooRealIntegral::init(bwz_CONV_dcb_CACHE_Obs[mh_ggh]_NORM_mh_ggh_Int[mh_ggh]) using numeric integrator RooRombergIntegrator to calculate Int(mh_ggh)\n",
      "[#1] INFO:Caching -- RooAbsCachedPdf::getCache(BWxDCB) creating new cache 0x557000fe01b0 with pdf bwz_CONV_dcb_CACHE_Obs[mh_ggh]_NORM_mh_ggh for nset (mh_ggh) with code 0 from preexisting content.\n",
      "[#1] INFO:NumericIntegration -- RooRealIntegral::init(bwz_CONV_dcb_CACHE_Obs[mh_ggh]_NORM_mh_ggh_Int[mh_ggh]) using numeric integrator RooRombergIntegrator to calculate Int(mh_ggh)\n",
      "[#1] INFO:NumericIntegration -- RooRealIntegral::init(Exponential_Int[mh_ggh]) using numeric integrator RooRombergIntegrator to calculate Int(mh_ggh)\n"
     ]
    },
    {
     "data": {
      "image/png": "[encoded data removed]",
      "text/plain": [
       "<IPython.core.display.Image object>"
      ]
     },
     "metadata": {},
     "output_type": "display_data"
    }
   ],
   "source": [
    "file.w.data(\"data_Zfit_no_e_cut_UL_calib_cat5\").plotOn(frame)\n",
    "\n",
    "model1.plotOn(frame, rt.RooFit.LineColor(rt.kRed))\n",
    "# model2.plotOn(frame, rt.RooFit.LineColor(rt.kBlue))\n",
    "model3.plotOn(frame, rt.RooFit.LineColor(rt.kGreen))\n",
    "\n",
    "\n",
    "frame.Draw()\n",
    "canvas.Update()\n",
    "canvas.Draw()\n"
   ]
  },
  {
   "cell_type": "code",
   "execution_count": null,
   "id": "95b89fa4-955d-45a7-96d7-7b4771f688f2",
   "metadata": {},
   "outputs": [],
   "source": []
  }
 ],
 "metadata": {
  "kernelspec": {
   "display_name": "Python [conda env:ROOT_test]",
   "language": "python",
   "name": "conda-env-ROOT_test-py"
  },
  "language_info": {
   "codemirror_mode": {
    "name": "ipython",
    "version": 3
   },
   "file_extension": ".py",
   "mimetype": "text/x-python",
   "name": "python",
   "nbconvert_exporter": "python",
   "pygments_lexer": "ipython3",
   "version": "3.10.14"
  }
 },
 "nbformat": 4,
 "nbformat_minor": 5
}
