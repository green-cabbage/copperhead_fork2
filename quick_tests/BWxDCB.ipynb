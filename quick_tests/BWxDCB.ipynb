{
 "cells": [
  {
   "cell_type": "code",
   "execution_count": 1,
   "id": "660534a0-db38-436b-930f-15429e2c404d",
   "metadata": {},
   "outputs": [
    {
     "name": "stdout",
     "output_type": "stream",
     "text": [
      "Welcome to JupyROOT 6.28/00\n"
     ]
    }
   ],
   "source": [
    "import ROOT as rt"
   ]
  },
  {
   "cell_type": "code",
   "execution_count": 2,
   "id": "3ab50b81-4b43-4fc8-8b1c-69adfec7acb3",
   "metadata": {},
   "outputs": [],
   "source": [
    "load_path = \"workspace/workspace_ggh_All_Zfit_no_e_cut_UL_calib_cat5.root\"\n",
    "# load_path = \"workspace/workspace_ggh_All_Zfit_no_e_cut_UL_calib_cat5_data_x.root\""
   ]
  },
  {
   "cell_type": "code",
   "execution_count": 3,
   "id": "bc3da023-e6f6-436c-9546-f9b7903c0d44",
   "metadata": {},
   "outputs": [],
   "source": [
    "file = rt.TFile.Open(load_path)"
   ]
  },
  {
   "cell_type": "code",
   "execution_count": 4,
   "id": "9d88e673-f2b1-40fa-bed6-1bbd1d95848b",
   "metadata": {},
   "outputs": [],
   "source": [
    "canvas = rt.TCanvas()\n",
    "canvas.cd()\n",
    "mass =  rt.RooRealVar(\"mh_ggh\",\"mass (GeV)\",100,85,99)\n",
    "frame = mass.frame()"
   ]
  },
  {
   "cell_type": "code",
   "execution_count": 5,
   "id": "dbcb5682-d860-46c5-9bf7-da4aa6646603",
   "metadata": {},
   "outputs": [
    {
     "name": "stdout",
     "output_type": "stream",
     "text": [
      "[#1] INFO:Caching -- Changing internal binning of variable 'mh_ggh' in FFT 'BWxDCB' from 100 to 930 to improve the precision of the numerical FFT. This can be done manually by setting an additional binning named 'cache'.\n"
     ]
    }
   ],
   "source": [
    "bwWidth = rt.RooRealVar(\"bwz_Width\" , \"widthZ\", 2.5, 0, 30)\n",
    "bwmZ = rt.RooRealVar(\"bwz_mZ\" , \"mZ\", 91.2, 90, 92)\n",
    "sigma = rt.RooRealVar(\"sigma\" , \"sigma\", 2, 0.0, 5.0)\n",
    "\n",
    "bwWidth.setConstant(True)\n",
    "bwmZ.setConstant(True) # set bwmZ \n",
    "\n",
    "model1_1 = rt.RooBreitWigner(\"bwz\", \"BWZ\",mass, bwmZ, bwWidth)\n",
    "\n",
    "\"\"\"\n",
    "Note from Jan: sometimes freeze n values in DCB to be frozen (ie 1, but could be other values)\n",
    "This is because alpha and n are highly correlated, so roofit can be really confused.\n",
    "Also, given that we care about the resolution, not the actual parameter values alpha and n, we can \n",
    "put whatevere restrictions we want.\n",
    "\"\"\"\n",
    "mean = rt.RooRealVar(\"mean\" , \"mean\", 0, -10,10) # mean is mean relative to BW\n",
    "sigma = rt.RooRealVar(\"sigma\" , \"sigma\", 2, .1, 4.0)\n",
    "alpha1 = rt.RooRealVar(\"alpha1\" , \"alpha1\", 2, 0.01, 65)\n",
    "n1 = rt.RooRealVar(\"n1\" , \"n1\", 10, 0.01, 185)\n",
    "alpha2 = rt.RooRealVar(\"alpha2\" , \"alpha2\", 2.0, 0.01, 65)\n",
    "n2 = rt.RooRealVar(\"n2\" , \"n2\", 25, 0.01, 385)\n",
    "n1.setConstant(True)\n",
    "n2.setConstant(True)\n",
    "model1_2 = rt.RooCrystalBall(\"dcb\",\"dcb\",mass, mean, sigma, alpha1, n1, alpha2, n2)\n",
    "\n",
    "model1 = rt.RooFFTConvPdf(\"BWxDCB\", \"BWxDCB\", mass, model1_1, model1_2)\n",
    "\n",
    "mass.setBins(10000,\"cache\") # cache is repre of the varibale only used in FFT\n",
    "mass.setBins(200) # bin to 100 bins otherwise, fitting with FFT conv is gonna take forever\n",
    "mass.setMin(\"cache\",50.5) \n",
    "mass.setMax(\"cache\",130.5)\n",
    "\n",
    "coeff = rt.RooRealVar(\"coeff\", \"coeff\", -0.01, -1, -0.00000001)\n",
    "# shift = rt.RooRealVar(\"shift\" , \"shift\", 92, -10, 1000)\n",
    "# coeff = rt.RooRealVar(\"coeff\", \"Slope\", 0.0001, -1.5, 0)\n",
    "shift = rt.RooRealVar(\"shift\", \"Offset\", 85, 75, 105)\n",
    "shifted_mass = rt.RooFormulaVar(\"shifted_mass\", \"@0-@1\", rt.RooArgList(mass, shift))\n",
    "model2 = rt.RooExponential(\"Exponential\", \"Exponential\", shifted_mass, coeff)\n",
    "\n",
    "sigfrac = rt.RooRealVar(\"sigfrac\", \"sigfrac\", 0.98, 0, 1.0)\n",
    "model3 = rt.RooAddPdf(\"model3\", \"model3\", rt.RooArgList(model1, model2),sigfrac)"
   ]
  },
  {
   "cell_type": "code",
   "execution_count": 6,
   "id": "fc9d7cec-1a97-4cff-9903-5fb84f27d608",
   "metadata": {
    "scrolled": true
   },
   "outputs": [
    {
     "ename": "TypeError",
     "evalue": "Template method resolution failed:\n  RooFitResult* RooAbsPdf::fitTo(RooAbsData& data, const RooLinkedList& cmdList = {}) =>\n    runtime_error: In: logArchitectureInfo(), /home/conda/feedstock_root/build_artifacts/root_base_1679383268638/work/root-source/roofit/roofitcore/src/BatchModeHelpers.cxx:248: Cuda implementation of the computing library is not available\n\n  Failed to instantiate \"fitTo(RooDataHist&,RooLinkedList&)\"\n  Failed to instantiate \"fitTo(RooDataHist*,RooLinkedList*)\"\n  Failed to instantiate \"fitTo(RooDataHist,RooLinkedList)\"",
     "output_type": "error",
     "traceback": [
      "\u001b[0;31m---------------------------------------------------------------------------\u001b[0m",
      "\u001b[0;31mTypeError\u001b[0m                                 Traceback (most recent call last)",
      "Cell \u001b[0;32mIn[6], line 15\u001b[0m\n\u001b[1;32m     13\u001b[0m rt\u001b[38;5;241m.\u001b[39mEnableImplicitMT()\n\u001b[1;32m     14\u001b[0m \u001b[38;5;66;03m# model3.fitTo(data_hist, rt.RooFit.BatchMode(\"cuda\"))\u001b[39;00m\n\u001b[0;32m---> 15\u001b[0m \u001b[43mmodel1_1\u001b[49m\u001b[38;5;241;43m.\u001b[39;49m\u001b[43mfitTo\u001b[49m\u001b[43m(\u001b[49m\u001b[43mdata_hist\u001b[49m\u001b[43m,\u001b[49m\u001b[43m \u001b[49m\u001b[43mrt\u001b[49m\u001b[38;5;241;43m.\u001b[39;49m\u001b[43mRooFit\u001b[49m\u001b[38;5;241;43m.\u001b[39;49m\u001b[43mBatchMode\u001b[49m\u001b[43m(\u001b[49m\u001b[38;5;124;43m\"\u001b[39;49m\u001b[38;5;124;43mcuda\u001b[39;49m\u001b[38;5;124;43m\"\u001b[39;49m\u001b[43m)\u001b[49m\u001b[43m)\u001b[49m\n\u001b[1;32m     18\u001b[0m end \u001b[38;5;241m=\u001b[39m time\u001b[38;5;241m.\u001b[39mtime()\n\u001b[1;32m     19\u001b[0m \u001b[38;5;28mprint\u001b[39m(\u001b[38;5;124mf\u001b[39m\u001b[38;5;124m\"\u001b[39m\u001b[38;5;124mfitting elapsed time: \u001b[39m\u001b[38;5;132;01m{\u001b[39;00mend\u001b[38;5;250m \u001b[39m\u001b[38;5;241m-\u001b[39m\u001b[38;5;250m \u001b[39mstart\u001b[38;5;132;01m}\u001b[39;00m\u001b[38;5;124m\"\u001b[39m)\n",
      "File \u001b[0;32m/depot/cms/kernels/python3/lib/python3.10/site-packages/ROOT/_pythonization/_roofit/_rooabspdf.py:62\u001b[0m, in \u001b[0;36mRooAbsPdf.fitTo\u001b[0;34m(self, *args, **kwargs)\u001b[0m\n\u001b[1;32m     58\u001b[0m \u001b[38;5;250m\u001b[39m\u001b[38;5;124mr\u001b[39m\u001b[38;5;124;03m\"\"\"The RooAbsPdf::fitTo() function is pythonized with the command argument pythonization.\u001b[39;00m\n\u001b[1;32m     59\u001b[0m \u001b[38;5;124;03mThe keywords must correspond to the CmdArgs of the function.\u001b[39;00m\n\u001b[1;32m     60\u001b[0m \u001b[38;5;124;03m\"\"\"\u001b[39;00m\n\u001b[1;32m     61\u001b[0m \u001b[38;5;66;03m# Redefinition of `RooAbsPdf.fitTo` for keyword arguments.\u001b[39;00m\n\u001b[0;32m---> 62\u001b[0m \u001b[38;5;28;01mreturn\u001b[39;00m \u001b[38;5;28;43mself\u001b[39;49m\u001b[38;5;241;43m.\u001b[39;49m\u001b[43m_fitTo\u001b[49m\u001b[43m(\u001b[49m\u001b[43margs\u001b[49m\u001b[43m[\u001b[49m\u001b[38;5;241;43m0\u001b[39;49m\u001b[43m]\u001b[49m\u001b[43m,\u001b[49m\u001b[43m \u001b[49m\u001b[43m_pack_cmd_args\u001b[49m\u001b[43m(\u001b[49m\u001b[38;5;241;43m*\u001b[39;49m\u001b[43margs\u001b[49m\u001b[43m[\u001b[49m\u001b[38;5;241;43m1\u001b[39;49m\u001b[43m:\u001b[49m\u001b[43m]\u001b[49m\u001b[43m,\u001b[49m\u001b[43m \u001b[49m\u001b[38;5;241;43m*\u001b[39;49m\u001b[38;5;241;43m*\u001b[39;49m\u001b[43mkwargs\u001b[49m\u001b[43m)\u001b[49m\u001b[43m)\u001b[49m\n",
      "\u001b[0;31mTypeError\u001b[0m: Template method resolution failed:\n  RooFitResult* RooAbsPdf::fitTo(RooAbsData& data, const RooLinkedList& cmdList = {}) =>\n    runtime_error: In: logArchitectureInfo(), /home/conda/feedstock_root/build_artifacts/root_base_1679383268638/work/root-source/roofit/roofitcore/src/BatchModeHelpers.cxx:248: Cuda implementation of the computing library is not available\n\n  Failed to instantiate \"fitTo(RooDataHist&,RooLinkedList&)\"\n  Failed to instantiate \"fitTo(RooDataHist*,RooLinkedList*)\"\n  Failed to instantiate \"fitTo(RooDataHist,RooLinkedList)\""
     ]
    },
    {
     "name": "stdout",
     "output_type": "stream",
     "text": [
      "[#1] INFO:Fitting -- RooAbsPdf::fitTo(bwz_over_bwz_Int[mh_ggh]) fixing normalization set for coefficient determination to observables in data\n"
     ]
    },
    {
     "name": "stderr",
     "output_type": "stream",
     "text": [
      "Warning in <RTaskArenaWrapper>: CPU Bandwith Control Active. Proceeding with 4 threads accordingly\n"
     ]
    }
   ],
   "source": [
    "import time\n",
    "\n",
    "start = time.time()\n",
    "\n",
    "#fitting directly to unbinned dataset is slow, so first make a histogram\n",
    "roo_dataset = file.w.data(\"data_Zfit_no_e_cut_UL_calib_cat5\")\n",
    "data_hist = rt.RooDataHist(\"data_hist\",\"binned version of roo_dataset\", rt.RooArgSet(mass), roo_dataset)  # copies binning from mass variable\n",
    "# model1.fitTo(data_hist) \n",
    "# model3.fitTo(data_hist, Minos=True) \n",
    "# model3.fitTo(data_hist) \n",
    "\n",
    "# cuda tetsing\n",
    "rt.EnableImplicitMT()\n",
    "# model3.fitTo(data_hist, rt.RooFit.BatchMode(\"cuda\"))\n",
    "model1_1.fitTo(data_hist, rt.RooFit.BatchMode(\"cuda\"))\n",
    "\n",
    "\n",
    "end = time.time()\n",
    "print(f\"fitting elapsed time: {end - start}\")"
   ]
  },
  {
   "cell_type": "code",
   "execution_count": null,
   "id": "0b9a9664-2cea-46eb-9494-a2b95d73618d",
   "metadata": {},
   "outputs": [],
   "source": [
    "# file.w.pdf(\"Voigtian_ggh_All\").plotOn(frame)\n",
    "file.w.data(\"data_Zfit_no_e_cut_UL_calib_cat5\").plotOn(frame)\n",
    "# model3.plotOn(frame, rt.RooFit.LineColor(rt.kGreen))\n",
    "# model1.plotOn(frame, rt.RooFit.LineColor(rt.kRed))\n",
    "# model2.plotOn(frame, rt.RooFit.LineColor(rt.kBlue))\n",
    "# model1_1.plotOn(frame, rt.RooFit.LineColor(rt.kRed))\n",
    "# model1_2.plotOn(frame, rt.RooFit.LineColor(rt.kBlue))\n",
    "model3.plotOn(frame, rt.RooFit.LineColor(rt.kGreen))\n",
    "# model1.plotOn(frame, rt.RooFit.LineColor(rt.kRed))\n",
    "# model2.plotOn(frame, rt.RooFit.LineColor(rt.kBlue))\n",
    "\n",
    "frame.Draw()\n",
    "canvas.Update()\n",
    "canvas.Draw()\n"
   ]
  },
  {
   "cell_type": "code",
   "execution_count": null,
   "id": "95b89fa4-955d-45a7-96d7-7b4771f688f2",
   "metadata": {},
   "outputs": [],
   "source": []
  },
  {
   "cell_type": "code",
   "execution_count": null,
   "id": "f4cfd6e0-f953-4ec6-a15f-8dd99b3e8b89",
   "metadata": {},
   "outputs": [],
   "source": []
  },
  {
   "cell_type": "code",
   "execution_count": null,
   "id": "221c967e-2b7b-4496-a47b-0ceca4b9ff5c",
   "metadata": {},
   "outputs": [],
   "source": []
  }
 ],
 "metadata": {
  "kernelspec": {
   "display_name": "Python3 kernel (default)",
   "language": "python",
   "name": "python3"
  },
  "language_info": {
   "codemirror_mode": {
    "name": "ipython",
    "version": 3
   },
   "file_extension": ".py",
   "mimetype": "text/x-python",
   "name": "python",
   "nbconvert_exporter": "python",
   "pygments_lexer": "ipython3",
   "version": "3.10.10"
  }
 },
 "nbformat": 4,
 "nbformat_minor": 5
}
