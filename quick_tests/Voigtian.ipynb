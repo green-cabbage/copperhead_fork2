{
 "cells": [
  {
   "cell_type": "code",
   "execution_count": 1,
   "id": "660534a0-db38-436b-930f-15429e2c404d",
   "metadata": {},
   "outputs": [
    {
     "name": "stdout",
     "output_type": "stream",
     "text": [
      "Welcome to JupyROOT 6.30/04\n"
     ]
    }
   ],
   "source": [
    "import ROOT as rt"
   ]
  },
  {
   "cell_type": "code",
   "execution_count": 2,
   "id": "3ab50b81-4b43-4fc8-8b1c-69adfec7acb3",
   "metadata": {},
   "outputs": [],
   "source": [
    "load_path = \"workspace/workspace_ggh_All_Zfit_no_e_cut_UL_calib_cat20.root\""
   ]
  },
  {
   "cell_type": "code",
   "execution_count": 3,
   "id": "bc3da023-e6f6-436c-9546-f9b7903c0d44",
   "metadata": {},
   "outputs": [],
   "source": [
    "file = rt.TFile.Open(load_path)"
   ]
  },
  {
   "cell_type": "code",
   "execution_count": 4,
   "id": "9d88e673-f2b1-40fa-bed6-1bbd1d95848b",
   "metadata": {},
   "outputs": [],
   "source": [
    "canvas = rt.TCanvas()\n",
    "canvas.cd()\n",
    "mass =  rt.RooRealVar(\"mh_ggh\",\"mass (GeV)\",100,81,101)\n",
    "mass.setBins(100) # set bins to make fitting quicker \n",
    "frame = mass.frame()"
   ]
  },
  {
   "cell_type": "code",
   "execution_count": 5,
   "id": "dbcb5682-d860-46c5-9bf7-da4aa6646603",
   "metadata": {},
   "outputs": [],
   "source": [
    "\n",
    "bwWidth = rt.RooRealVar(\"bwz_Width\" , \"widthZ\", 2.5, 0, 30)\n",
    "bwmZ = rt.RooRealVar(\"bwz_mZ\" , \"mZ\", 91.2, 90, 92)\n",
    "sigma = rt.RooRealVar(\"sigma\" , \"sigma\", 2, 0.0, 5.0)\n",
    "\n",
    "bwWidth.setConstant(True)\n",
    "bwmZ.setConstant(True)\n",
    "# sigma.setConstant(True)\n",
    "#bwmZ.setConstant(True)\n",
    "\n",
    "model1 = rt.RooVoigtian(\"Voigtian\" , \"Voigtian\",mass, bwmZ, bwWidth, sigma)\n",
    "\n",
    "exp_coeff = rt.RooRealVar(\"exp_coeff\", \"exp_coeff\", 0.01, 0.00000001, 1) # positve coeff to get the peak shape we want \n",
    "# exp_coeff = rt.RooRealVar(\"exp_coeff\", \"exp_coeff\", -0.1, -1, -0.00000001) # negative coeff to get the peak shape we want \n",
    "shift = rt.RooRealVar(\"shift\", \"Offset\", 85, 75, 105)\n",
    "shifted_mass = rt.RooFormulaVar(\"shifted_mass\", \"@0-@1\", rt.RooArgList(mass, shift))\n",
    "model2_1 = rt.RooExponential(\"Exponential\", \"Exponential\", shifted_mass,exp_coeff)\n",
    "\n",
    "erfc_ccenter = rt.RooRealVar(\"erfc_ccenter\" , \"erfc_ccenter\", 91.2, 75, 105)\n",
    "erfc_coeff = rt.RooRealVar(\"erfc_coeff\" , \"erfc_coeff\", 0.1, 0, 1.5)\n",
    "erfc_in = rt.RooFormulaVar(\"erfc_in\", \"(@0 - @2) * @1\", rt.RooArgList(mass, erfc_coeff, erfc_ccenter)) \n",
    "# both bindPdf and RooGenericPdf work, but one may have better cuda integration over other, so leaving both options\n",
    "# model2_2 = rt.RooFit.bindPdf(\"erfc\", rt.TMath.Erfc, erfc_in)\n",
    "model2_2 = rt.RooGenericPdf(\"erfc\", \"TMath::Erfc(@0)\", erfc_in)\n",
    "\n",
    "\n",
    "# model2_2 = rt.RooGenericPdf(\"erfc\", \"TMath::Erf(@0)+1\", erfc_in)\n",
    "# model2_2 = rt.RooFit.bindFunction(\"erfc\", rt.TMath.Erf, erfc_in)\n",
    "\n",
    "\n",
    "\n",
    "\n",
    "model2 = rt.RooProdPdf(\"erfc_exp\", \"erfc_exp\", rt.RooArgList(model2_1, model2_2))\n",
    "sigfrac = rt.RooRealVar(\"sigfrac\", \"sigfrac\", 0.9, 0, 1.0)\n",
    "model3 = rt.RooAddPdf(\"model3\", \"model3\", rt.RooArgList(model1, model2),rt.RooArgList(sigfrac))\n",
    "\n",
    "# For Val: ignore this dummy_bkg_var. This is just so I could plot bkg plot proportional to its fraction, which doesn't work\n",
    "# bkgfrac = rt.RooFormulaVar(\"bkgfrac\", \"(1 - @0)\", rt.RooArgList(sigfrac)) \n",
    "# dummy_bkg_var = rt.RooProdPdf(\"dummy_bkg_var\", \"dummy_bkg_var\", rt.RooArgList(bkgfrac, model2))  # pdf model just for plotting bkg on the plot with bkgfrac\n",
    "dummy_bkg_var = rt.RooGenericPdf(\"dummy_bkg_var\", \"dummy_bkg_var\", \"(1 - @0) * @1\", rt.RooArgList(sigfrac,model2))"
   ]
  },
  {
   "cell_type": "code",
   "execution_count": 6,
   "id": "29ea5811-622f-4c29-b3c9-2c31420eba7a",
   "metadata": {},
   "outputs": [
    {
     "name": "stdout",
     "output_type": "stream",
     "text": [
      "RooRealVar::erfc_coeff = 0.1  L(0 - 1.5) \n"
     ]
    }
   ],
   "source": [
    "erfc_coeff.Print()"
   ]
  },
  {
   "cell_type": "code",
   "execution_count": 7,
   "id": "fc9d7cec-1a97-4cff-9903-5fb84f27d608",
   "metadata": {
    "scrolled": true
   },
   "outputs": [
    {
     "name": "stdout",
     "output_type": "stream",
     "text": [
      "fitting elapsed time: 1.036264419555664\n",
      "[#1] INFO:Fitting -- RooAbsPdf::fitTo(model3) fixing normalization set for coefficient determination to observables in data\n",
      "[#1] INFO:Fitting -- using CPU computation library compiled with -mavx2\n",
      "[#1] INFO:Fitting -- RooAddition::defaultErrorLevel(nll_model3_data_hist) Summation contains a RooNLLVar, using its error level\n",
      "[#1] INFO:Minimization -- RooAbsMinimizerFcn::setOptimizeConst: activating const optimization\n",
      "Minuit2Minimizer: Minimize with max-calls 3000 convergence for edm < 1 strategy 1\n",
      "[#1] INFO:NumericIntegration -- RooRealIntegral::init(erfc_Int[mh_ggh]) using numeric integrator RooRombergIntegrator to calculate Int(mh_ggh)\n",
      "[#1] INFO:NumericIntegration -- RooRealIntegral::init(Exponential_Int[mh_ggh]) using numeric integrator RooRombergIntegrator to calculate Int(mh_ggh)\n",
      "[#1] INFO:NumericIntegration -- RooRealIntegral::init([Exponential_over_Exponential_Int[mh_ggh]_X_erfc_over_erfc_Int[mh_ggh]]_Norm[mh_ggh]_denominator_Int[mh_ggh]) using numeric integrator RooRombergIntegrator to calculate Int(mh_ggh)\n",
      "[#1] INFO:NumericIntegration -- RooRealIntegral::init(Exponential_Int[mh_ggh]) using numeric integrator RooRombergIntegrator to calculate Int(mh_ggh)\n",
      "[#1] INFO:NumericIntegration -- RooRealIntegral::init(erfc_Int[mh_ggh]) using numeric integrator RooRombergIntegrator to calculate Int(mh_ggh)\n",
      "[#1] INFO:NumericIntegration -- RooRealIntegral::init(Voigtian_Int[mh_ggh]) using numeric integrator RooRombergIntegrator to calculate Int(mh_ggh)\n",
      "Minuit2Minimizer : Invalid Minimum - status = 3\n",
      "FVAL  = 1.03366e+06\n",
      "Edm   = 609420\n",
      "Nfcn  = 791\n",
      "[#1] INFO:Minimization -- RooAbsMinimizerFcn::setOptimizeConst: deactivating const optimization\n"
     ]
    },
    {
     "name": "stderr",
     "output_type": "stream",
     "text": [
      "Warning in <RTaskArenaWrapper>: CPU Bandwith Control Active. Proceeding with 64 threads accordingly\n",
      "Info in <Minuit2>: MnSeedGenerator Computing seed using NumericalGradient calculator\n",
      "Info in <Minuit2>: MnSeedGenerator Initial state: FCN =       1045243.559 Edm =      -329.4754361 NCalls =     25\n",
      "Info in <Minuit2>: NegativeG2LineSearch Doing a NegativeG2LineSearch since one of the G2 component is negative\n",
      "Info in <Minuit2>: MnSeedGenerator Negative G2 found - new state: \n",
      "  Minimum value : 1035041.089\n",
      "  Edm           : 96.5731662\n",
      "  Internal parameters:\t[     -1.606284826     -1.479273257    -0.8425029781    -0.3398369095      0.927295218    -0.2013579208]\t\n",
      "  Internal gradient  :\t[  -9.25649656e-05     -14.32758664     -16.51818072                0      1395.029769     -4974.960805]\t\n",
      "  Internal covariance matrix:\n",
      "[[      1059.8383              0              0              0              0              0]\n",
      " [              0   0.0010177373              0              0              0              0]\n",
      " [              0              0  5.3259289e-05              0              0              0]\n",
      " [              0              0              0              2              0              0]\n",
      " [              0              0              0              0  2.4724085e-05              0]\n",
      " [              0              0              0              0              0  1.3654556e-05]]]\n",
      "Info in <Minuit2>: MnSeedGenerator Initial state  \n",
      "  Minimum value : 1035041.089\n",
      "  Edm           : 96.5731662\n",
      "  Internal parameters:\t[     -1.606284826     -1.479273257    -0.8425029781    -0.3398369095      0.927295218    -0.2013579208]\t\n",
      "  Internal gradient  :\t[  -9.25649656e-05     -14.32758664     -16.51818072                0      1395.029769     -4974.960805]\t\n",
      "  Internal covariance matrix:\n",
      "[[      1059.8383              0              0              0              0              0]\n",
      " [              0   0.0010177373              0              0              0              0]\n",
      " [              0              0  5.3259289e-05              0              0              0]\n",
      " [              0              0              0              2              0              0]\n",
      " [              0              0              0              0  2.4724085e-05              0]\n",
      " [              0              0              0              0              0  1.3654556e-05]]]\n",
      "Info in <Minuit2>: VariableMetricBuilder Start iterating until Edm is < 0.001 with call limit = 3000\n",
      "Info in <Minuit2>: VariableMetricBuilder    0 - FCN =       1035041.089 Edm =        96.5731662 NCalls =    105\n",
      "Info in <Minuit2>: VariableMetricBuilder    1 - FCN =       1034965.609 Edm =       17.19865246 NCalls =    123\n",
      "Info in <Minuit2>: VariableMetricBuilder    2 - FCN =       1034958.925 Edm =       1.412750118 NCalls =    139\n",
      "Info in <Minuit2>: VariableMetricBuilder    3 - FCN =       1034955.011 Edm =       362.9476248 NCalls =    165\n",
      "Info in <Minuit2>: VariableMetricBuilder    4 - FCN =       1034954.769 Edm =       7.737596588 NCalls =    181\n",
      "Info in <Minuit2>: VariableMetricBuilder    5 - FCN =       1034951.478 Edm =       1.548243059 NCalls =    197\n",
      "Warning in <Minuit2>: DavidonErrorUpdator delgam < 0 : first derivatives increasing along search line (details in info log)\n",
      "Info in <Minuit2>: DavidonErrorUpdator Explanation:\n",
      "   The distance from the minimum cannot be estimated, since the minimized\n",
      "   function seems not to be strictly convex in the space probed by the fit.\n",
      "   That is expected if the starting parameters are e.g. close to a local maximum\n",
      "   of the minimized function. If this function is expected to be fully convex\n",
      "   in the probed range or Minuit is already close to the function minimum, this\n",
      "   may hint to numerical or analytical issues with the minimized function.\n",
      "   This was found by projecting the difference of gradients at two points, s0 and p1,\n",
      "   onto the direction given by the difference of s0 and p1, where:\n",
      " * s0:  \t[     -11.12152179     -1.401651382     -0.829398479    -0.3398369095     0.9285987879     -0.165898378]\t \n",
      " * p1:  \t[     -10.90924307     -1.094077322    -0.7614095936    -0.3398369095     0.9214945472    -0.1705025914]\t \n",
      " * gradient at s0:  \t[    -0.1404470658     -50.46938389     -240.4088771                0      57.64432385      71.43914427]\t \n",
      " * gradient at p1:  \t[     -35.44929106      -391.616411      1003.324753                0     -645.4849908     -198.6636267]\t \n",
      "   To understand whether this hints to an issue in the minimized function,\n",
      "   the minimized function can be plotted along points between s0 and p1 to\n",
      "   look for unexpected behavior.\n",
      "Info in <Minuit2>: VariableMetricBuilder    6 - FCN =       1034813.093 Edm =       167.8249337 NCalls =    222\n",
      "Warning in <Minuit2>: VariableMetricBuilder Matrix not pos.def, gdel = 133.984 > 0\n",
      "Warning in <Minuit2>: MnPosDef non-positive diagonal element in covariance matrix[ 1 ] = -0.00411182\n",
      "Warning in <Minuit2>: MnPosDef non-positive diagonal element in covariance matrix[ 2 ] = -0.000197747\n",
      "Warning in <Minuit2>: MnPosDef Added to diagonal of Error matrix a value 0.504112\n",
      "Warning in <Minuit2>: VariableMetricBuilder gdel = -815216\n",
      "Info in <Minuit2>: VariableMetricBuilder    7 - FCN =       1034806.027 Edm =       520864.9038 NCalls =    242\n",
      "Info in <Minuit2>: VariableMetricBuilder    8 - FCN =         1034800.5 Edm =       359794.0738 NCalls =    259\n",
      "Info in <Minuit2>: VariableMetricBuilder    9 - FCN =       1034784.435 Edm =       63076.09826 NCalls =    277\n",
      "Info in <Minuit2>: VariableMetricBuilder   10 - FCN =       1034783.245 Edm =       4819.910359 NCalls =    293\n",
      "Warning in <Minuit2>: DavidonErrorUpdator delgam < 0 : first derivatives increasing along search line (details in info log)\n",
      "Info in <Minuit2>: DavidonErrorUpdator Explanation:\n",
      "   The distance from the minimum cannot be estimated, since the minimized\n",
      "   function seems not to be strictly convex in the space probed by the fit.\n",
      "   That is expected if the starting parameters are e.g. close to a local maximum\n",
      "   of the minimized function. If this function is expected to be fully convex\n",
      "   in the probed range or Minuit is already close to the function minimum, this\n",
      "   may hint to numerical or analytical issues with the minimized function.\n",
      "   This was found by projecting the difference of gradients at two points, s0 and p1,\n",
      "   onto the direction given by the difference of s0 and p1, where:\n",
      " * s0:  \t[     -10.89389967    -0.9370598764    -0.8451887333    -0.3398369095     0.8993938971    -0.1758511713]\t \n",
      " * p1:  \t[     -10.82326272    -0.9321953996     -0.844428741    -0.3398369095     0.8995159854     -0.175799896]\t \n",
      " * gradient at s0:  \t[     -72.41411926      291.5344668     -293.5472899                0     -27.92884398      106.3425576]\t \n",
      " * gradient at p1:  \t[     -126.2001528      282.6325112     -314.8279157                0      14.07149347      112.6248373]\t \n",
      "   To understand whether this hints to an issue in the minimized function,\n",
      "   the minimized function can be plotted along points between s0 and p1 to\n",
      "   look for unexpected behavior.\n",
      "Info in <Minuit2>: VariableMetricBuilder   11 - FCN =       1034777.425 Edm =       3096.522335 NCalls =    308\n",
      "Warning in <Minuit2>: VariableMetricBuilder Matrix not pos.def., try to make pos.def.\n",
      "Warning in <Minuit2>: MnPosDef non-positive diagonal element in covariance matrix[ 0 ] = -0.00128286\n",
      "Warning in <Minuit2>: MnPosDef Added to diagonal of Error matrix a value 0.501283\n",
      "Info in <Minuit2>: VariableMetricBuilder   12 - FCN =       1034772.183 Edm =       12750.58915 NCalls =    323\n",
      "Info in <Minuit2>: VariableMetricBuilder   13 - FCN =       1034771.968 Edm =       1073.872146 NCalls =    340\n",
      "Info in <Minuit2>: VariableMetricBuilder   14 - FCN =       1034771.944 Edm =       98.13580906 NCalls =    357\n",
      "Warning in <Minuit2>: DavidonErrorUpdator delgam < 0 : first derivatives increasing along search line (details in info log)\n",
      "Info in <Minuit2>: DavidonErrorUpdator Explanation:\n",
      "   The distance from the minimum cannot be estimated, since the minimized\n",
      "   function seems not to be strictly convex in the space probed by the fit.\n",
      "   That is expected if the starting parameters are e.g. close to a local maximum\n",
      "   of the minimized function. If this function is expected to be fully convex\n",
      "   in the probed range or Minuit is already close to the function minimum, this\n",
      "   may hint to numerical or analytical issues with the minimized function.\n",
      "   This was found by projecting the difference of gradients at two points, s0 and p1,\n",
      "   onto the direction given by the difference of s0 and p1, where:\n",
      " * s0:  \t[     -10.92009961    -0.9871106827    -0.8252636381    -0.3398369095     0.9035822398    -0.1747802233]\t \n",
      " * p1:  \t[     -10.48807567    -0.8046946148     -0.797598866    -0.3398369095     0.9536067217    -0.1571941478]\t \n",
      " * gradient at s0:  \t[     -45.18498014      73.09976558     -47.10753041                0     -40.18416443      30.90653283]\t \n",
      " * gradient at p1:  \t[     -449.5863354      196.5670898     -833.6131474                0      2012.658146      431.3452827]\t \n",
      "   To understand whether this hints to an issue in the minimized function,\n",
      "   the minimized function can be plotted along points between s0 and p1 to\n",
      "   look for unexpected behavior.\n",
      "Info in <Minuit2>: VariableMetricBuilder   15 - FCN =       1034748.139 Edm =       224786.2542 NCalls =    375\n",
      "Warning in <Minuit2>: VariableMetricBuilder Matrix not pos.def., try to make pos.def.\n",
      "Warning in <Minuit2>: MnPosDef Matrix forced pos-def by adding to diagonal 0.00564244\n",
      "Info in <Minuit2>: VariableMetricBuilder   16 - FCN =       1034747.894 Edm =        473.288382 NCalls =    390\n",
      "Info in <Minuit2>: VariableMetricBuilder   17 - FCN =       1034741.589 Edm =       392.7007257 NCalls =    405\n",
      "Info in <Minuit2>: VariableMetricBuilder   18 - FCN =        1034683.38 Edm =       56.83808786 NCalls =    421\n",
      "Info in <Minuit2>: VariableMetricBuilder   19 - FCN =       1034678.352 Edm =       38.13914558 NCalls =    435\n",
      "Info in <Minuit2>: VariableMetricBuilder   20 - FCN =       1034633.412 Edm =       35.46605368 NCalls =    452\n",
      "Info in <Minuit2>: VariableMetricBuilder   21 - FCN =       1034590.706 Edm =        93.3180552 NCalls =    469\n",
      "Info in <Minuit2>: VariableMetricBuilder   22 - FCN =       1034432.189 Edm =       622.8875592 NCalls =    487\n",
      "Info in <Minuit2>: VariableMetricBuilder   23 - FCN =       1034201.405 Edm =       135.0137977 NCalls =    507\n",
      "Info in <Minuit2>: VariableMetricBuilder   24 - FCN =        1034185.47 Edm =       22.95434221 NCalls =    521\n",
      "Info in <Minuit2>: VariableMetricBuilder   25 - FCN =       1034079.491 Edm =       66.02207304 NCalls =    539\n",
      "Info in <Minuit2>: VariableMetricBuilder   26 - FCN =       1034041.662 Edm =       113.9816294 NCalls =    553\n",
      "Info in <Minuit2>: VariableMetricBuilder   27 - FCN =       1033962.437 Edm =       48.75601678 NCalls =    575\n",
      "Info in <Minuit2>: VariableMetricBuilder   28 - FCN =       1033956.211 Edm =        7.67869309 NCalls =    591\n",
      "Info in <Minuit2>: VariableMetricBuilder   29 - FCN =       1033915.615 Edm =        13.7374151 NCalls =    610\n",
      "Info in <Minuit2>: VariableMetricBuilder   30 - FCN =       1033893.755 Edm =       12.46029526 NCalls =    627\n",
      "Info in <Minuit2>: VariableMetricBuilder   31 - FCN =       1033875.746 Edm =       20.21927484 NCalls =    644\n",
      "Info in <Minuit2>: VariableMetricBuilder   32 - FCN =       1033797.647 Edm =       64.05165879 NCalls =    661\n",
      "Info in <Minuit2>: VariableMetricBuilder   33 - FCN =       1033731.247 Edm =       48.95198255 NCalls =    679\n",
      "Info in <Minuit2>: VariableMetricBuilder   34 - FCN =       1033671.989 Edm =       12.03471305 NCalls =    696\n",
      "Info in <Minuit2>: VariableMetricBuilder   35 - FCN =       1033666.759 Edm =       5.513617371 NCalls =    710\n",
      "Warning in <Minuit2>: DavidonErrorUpdator delgam < 0 : first derivatives increasing along search line (details in info log)\n",
      "Info in <Minuit2>: DavidonErrorUpdator Explanation:\n",
      "   The distance from the minimum cannot be estimated, since the minimized\n",
      "   function seems not to be strictly convex in the space probed by the fit.\n",
      "   That is expected if the starting parameters are e.g. close to a local maximum\n",
      "   of the minimized function. If this function is expected to be fully convex\n",
      "   in the probed range or Minuit is already close to the function minimum, this\n",
      "   may hint to numerical or analytical issues with the minimized function.\n",
      "   This was found by projecting the difference of gradients at two points, s0 and p1,\n",
      "   onto the direction given by the difference of s0 and p1, where:\n",
      " * s0:  \t[     -9.737819973    -0.8246624011    -0.5389112994    -0.3398369095     0.5819837888    -0.2675207651]\t \n",
      " * p1:  \t[     -9.697924053    -0.8331985866    -0.5010986194    -0.3398369095     0.5662409446    -0.2676679171]\t \n",
      " * gradient at s0:  \t[     -423.4782969     -591.2447069      25.68556748                0      41.38032141     -478.8733154]\t \n",
      " * gradient at p1:  \t[     -923.7357754     -1018.122405      17.37467903                0     -215.4182742     -289.9945218]\t \n",
      "   To understand whether this hints to an issue in the minimized function,\n",
      "   the minimized function can be plotted along points between s0 and p1 to\n",
      "   look for unexpected behavior.\n",
      "Info in <Minuit2>: VariableMetricBuilder   36 - FCN =        1033658.98 Edm =       27.79113911 NCalls =    740\n",
      "Warning in <Minuit2>: VariableMetricBuilder Matrix not pos.def, gdel = 42.8988 > 0\n",
      "Warning in <Minuit2>: MnPosDef non-positive diagonal element in covariance matrix[ 0 ] = -3.80361e-05\n",
      "Warning in <Minuit2>: MnPosDef non-positive diagonal element in covariance matrix[ 2 ] = -0.00010429\n",
      "Warning in <Minuit2>: MnPosDef Added to diagonal of Error matrix a value 0.500104\n",
      "Warning in <Minuit2>: VariableMetricBuilder gdel = -1.0105e+06\n",
      "Info in <Minuit2>: VariableMetricBuilder   37 - FCN =       1033658.121 Edm =       609420.1169 NCalls =    769\n",
      "Warning in <Minuit2>: VariableMetricBuilder No improvement in line search\n",
      "Info in <Minuit2>: VariableMetricBuilder   38 - FCN =       1033658.121 Edm =       609420.1169 NCalls =    780\n",
      "Warning in <Minuit2>: VariableMetricBuilder Iterations finish without convergence; Edm 785954 Requested 0.001\n",
      "Warning in <Minuit2>: MnHesse 2nd derivative zero for parameter shift ; MnHesse fails and will return diagonal matrix\n",
      "Info in <Minuit2>: VariableMetricBuilder After Hessian\n",
      "Info in <Minuit2>: VariableMetricBuilder   39 - FCN =       1033658.121 Edm =       609420.1169 NCalls =    791\n",
      "Warning in <Minuit2>: VariableMetricBuilder Invalid Hessian - exit the minimization\n",
      "Warning in <Minuit2>: VariableMetricBuilder No convergence; Edm 609420 is above tolerance 0.01\n",
      "Warning in <Minuit2>: Minuit2Minimizer::Minimize Minimization did NOT converge, Edm is above max\n",
      "Info in <Minuit2>: Minuit2Minimizer::Hesse Using max-calls 3000\n",
      "Warning in <Minuit2>: MnHesse 2nd derivative zero for parameter shift ; MnHesse fails and will return diagonal matrix\n",
      "Warning in <Minuit2>: Minuit2Minimizer::Hesse Hesse failed - matrix is full but not positive defined\n",
      "Warning in <Minuit2>: Minuit2Minimizer::Hesse 3\n",
      "Warning in <ROOT::Math::Fitter::CalculateHessErrors>: Error when calculating Hessian\n"
     ]
    }
   ],
   "source": [
    "import time\n",
    "\n",
    "start = time.time()\n",
    "roo_dataset = file.w.data(\"data_Zfit_no_e_cut_UL_calib_cat20\")\n",
    "roo_hist = rt.RooDataHist(\"data_hist\",\"binned version of roo_dataset\", rt.RooArgSet(mass), roo_dataset)  # copies binning from mass variable\n",
    "\n",
    "rt.EnableImplicitMT()\n",
    "model3.fitTo(roo_hist, EvalBackend =\"cpu\")\n",
    "\n",
    "\n",
    "end = time.time()\n",
    "print(f\"fitting elapsed time: {end - start}\")"
   ]
  },
  {
   "cell_type": "code",
   "execution_count": 8,
   "id": "0b9a9664-2cea-46eb-9494-a2b95d73618d",
   "metadata": {},
   "outputs": [
    {
     "name": "stdout",
     "output_type": "stream",
     "text": [
      "[#1] INFO:NumericIntegration -- RooRealIntegral::init(Voigtian_Int[mh_ggh]) using numeric integrator RooRombergIntegrator to calculate Int(mh_ggh)\n",
      "[#1] INFO:NumericIntegration -- RooRealIntegral::init([Exponential_X_erfc]_Norm[mh_ggh]_denominator_Int[mh_ggh]) using numeric integrator RooRombergIntegrator to calculate Int(mh_ggh)\n",
      "[#1] INFO:NumericIntegration -- RooRealIntegral::init(Voigtian_Int[mh_ggh]) using numeric integrator RooRombergIntegrator to calculate Int(mh_ggh)\n",
      "[#1] INFO:NumericIntegration -- RooRealIntegral::init([Exponential_X_erfc]_Norm[mh_ggh]_denominator_Int[mh_ggh]) using numeric integrator RooRombergIntegrator to calculate Int(mh_ggh)\n",
      "[#1] INFO:NumericIntegration -- RooRealIntegral::init(erfc_Int[mh_ggh]) using numeric integrator RooRombergIntegrator to calculate Int(mh_ggh)\n"
     ]
    },
    {
     "data": {
      "image/png": "[encoded data removed]",
      "text/plain": [
       "<IPython.core.display.Image object>"
      ]
     },
     "metadata": {},
     "output_type": "display_data"
    }
   ],
   "source": [
    "# file.w.pdf(\"Voigtian_ggh_All\").plotOn(frame)\n",
    "\n",
    "file.w.data(\"data_Zfit_no_e_cut_UL_calib_cat20\").plotOn(frame)\n",
    "model3.plotOn(frame, rt.RooFit.LineColor(rt.kGreen))\n",
    "model1.plotOn(frame, rt.RooFit.LineColor(rt.kRed))\n",
    "model2.plotOn(frame, rt.RooFit.LineColor(rt.kBlue))\n",
    "model2_2.plotOn(frame, rt.RooFit.LineColor(rt.kBlack))\n",
    "\n",
    "# dummy_bkg_var.plotOn(frame, rt.RooFit.LineColor(rt.kBlue))\n",
    "\n",
    "frame.Draw()\n",
    "canvas.Update()\n",
    "canvas.Draw()\n"
   ]
  },
  {
   "cell_type": "code",
   "execution_count": null,
   "id": "641d21d5-9909-484f-b941-5972e1a11990",
   "metadata": {},
   "outputs": [],
   "source": []
  }
 ],
 "metadata": {
  "kernelspec": {
   "display_name": "Python [conda env:ROOT_test]",
   "language": "python",
   "name": "conda-env-ROOT_test-py"
  },
  "language_info": {
   "codemirror_mode": {
    "name": "ipython",
    "version": 3
   },
   "file_extension": ".py",
   "mimetype": "text/x-python",
   "name": "python",
   "nbconvert_exporter": "python",
   "pygments_lexer": "ipython3",
   "version": "3.10.14"
  }
 },
 "nbformat": 4,
 "nbformat_minor": 5
}
