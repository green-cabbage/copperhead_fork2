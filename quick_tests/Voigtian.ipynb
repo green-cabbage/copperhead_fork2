{
 "cells": [
  {
   "cell_type": "code",
   "execution_count": 1,
   "id": "660534a0-db38-436b-930f-15429e2c404d",
   "metadata": {},
   "outputs": [
    {
     "name": "stdout",
     "output_type": "stream",
     "text": [
      "Welcome to JupyROOT 6.28/00\n"
     ]
    }
   ],
   "source": [
    "import ROOT as rt"
   ]
  },
  {
   "cell_type": "code",
   "execution_count": 2,
   "id": "3ab50b81-4b43-4fc8-8b1c-69adfec7acb3",
   "metadata": {},
   "outputs": [],
   "source": [
    "load_path = \"workspace/workspace_ggh_All_Zfit_no_e_cut_UL_calib_cat20.root\""
   ]
  },
  {
   "cell_type": "code",
   "execution_count": 3,
   "id": "bc3da023-e6f6-436c-9546-f9b7903c0d44",
   "metadata": {},
   "outputs": [],
   "source": [
    "file = rt.TFile.Open(load_path)"
   ]
  },
  {
   "cell_type": "code",
   "execution_count": 4,
   "id": "9d88e673-f2b1-40fa-bed6-1bbd1d95848b",
   "metadata": {},
   "outputs": [],
   "source": [
    "canvas = rt.TCanvas()\n",
    "canvas.cd()\n",
    "mass =  rt.RooRealVar(\"mh_ggh\",\"mass (GeV)\",100,81,101)\n",
    "mass.setBins(100) # set bins to make fitting quicker \n",
    "frame = mass.frame()"
   ]
  },
  {
   "cell_type": "code",
   "execution_count": 5,
   "id": "dbcb5682-d860-46c5-9bf7-da4aa6646603",
   "metadata": {},
   "outputs": [],
   "source": [
    "\n",
    "bwWidth = rt.RooRealVar(\"bwz_Width\" , \"widthZ\", 2.5, 0, 30)\n",
    "bwmZ = rt.RooRealVar(\"bwz_mZ\" , \"mZ\", 91.2, 90, 92)\n",
    "sigma = rt.RooRealVar(\"sigma\" , \"sigma\", 2, 0.0, 5.0)\n",
    "\n",
    "bwWidth.setConstant(True)\n",
    "# bwmZ.setConstant(True)\n",
    "# sigma.setConstant(True)\n",
    "#bwmZ.setConstant(True)\n",
    "\n",
    "model1 = rt.RooVoigtian(\"Voigtian\" , \"Voigtian\",mass, bwmZ, bwWidth, sigma)\n",
    "\n",
    "exp_coeff = rt.RooRealVar(\"exp_coeff\", \"exp_coeff\", 0.01, 0.00000001, 1) # positve coeff to get the peak shape we want \n",
    "# exp_coeff = rt.RooRealVar(\"exp_coeff\", \"exp_coeff\", -0.01, -1, -0.00000001)\n",
    "shift = rt.RooRealVar(\"shift\", \"Offset\", 85, 75, 105)\n",
    "shifted_mass = rt.RooFormulaVar(\"shifted_mass\", \"@0-@1\", rt.RooArgList(mass, shift))\n",
    "model2_1 = rt.RooExponential(\"Exponential\", \"Exponential\", shifted_mass,exp_coeff)\n",
    "\n",
    "center = rt.RooRealVar(\"center\" , \"center\", 91.2, 75, 105)\n",
    "erfc_coeff = rt.RooRealVar(\"erfc_coeff\" , \"erfc_coeff\", 0.01, 0, 1.5)\n",
    "erfc_in = rt.RooFormulaVar(\"erfc_in\", \"(@0 - @2) * @1\", rt.RooArgList(mass, erfc_coeff, center)) \n",
    "model2_2 = rt.RooFit.bindPdf(\"erfc\", rt.TMath.Erfc, erfc_in)\n",
    "\n",
    "\n",
    "model2 = rt.RooProdPdf(\"erfc_exp\", \"erfc_exp\", rt.RooArgList(model2_1, model2_2))\n",
    "sigfrac = rt.RooRealVar(\"sigfrac\", \"sigfrac\", 0.9, 0, 1.0)\n",
    "model3 = rt.RooAddPdf(\"model3\", \"model3\", rt.RooArgList(model1, model2),rt.RooArgList(sigfrac))\n",
    "\n",
    "# bkgfrac = rt.RooFormulaVar(\"bkgfrac\", \"(1 - @0)\", rt.RooArgList(sigfrac)) \n",
    "# dummy_bkg_var = rt.RooProdPdf(\"dummy_bkg_var\", \"dummy_bkg_var\", rt.RooArgList(bkgfrac, model2))  # pdf model just for plotting bkg on the plot with bkgfrac\n",
    "dummy_bkg_var = rt.RooGenericPdf(\"dummy_bkg_var\", \"dummy_bkg_var\", \"(1 - @0) * @1\", rt.RooArgList(sigfrac,model2))"
   ]
  },
  {
   "cell_type": "code",
   "execution_count": 6,
   "id": "fc9d7cec-1a97-4cff-9903-5fb84f27d608",
   "metadata": {
    "scrolled": true
   },
   "outputs": [
    {
     "name": "stdout",
     "output_type": "stream",
     "text": [
      "fitting elapsed time: 1.1603357791900635\n",
      "[#1] INFO:Fitting -- RooAbsPdf::fitTo(model3) fixing normalization set for coefficient determination to observables in data\n",
      "[#1] INFO:Fitting -- using CPU computation library compiled with -mavx2\n",
      "[#1] INFO:Fitting -- RooAddition::defaultErrorLevel(nll_model3_data_hist) Summation contains a RooNLLVar, using its error level\n",
      "[#1] INFO:Minimization -- RooAbsMinimizerFcn::setOptimizeConst: activating const optimization\n",
      " **********\n",
      " **    1 **SET PRINT           1\n",
      " **********\n",
      " **********\n",
      " **    2 **SET NOGRAD\n",
      " **********\n",
      " PARAMETER DEFINITIONS:\n",
      "    NO.   NAME         VALUE      STEP SIZE      LIMITS\n",
      "     1 bwz_mZ       9.12000e+01  2.00000e-01    9.00000e+01  9.20000e+01\n",
      "     2 center       9.12000e+01  3.00000e+00    7.50000e+01  1.05000e+02\n",
      "     3 erfc_coeff   1.00000e-02  5.00000e-03    0.00000e+00  1.50000e+00\n",
      "     4 exp_coeff    1.00000e-02  5.00000e-03    1.00000e-08  1.00000e+00\n",
      "     5 shift        8.50000e+01  3.00000e+00    7.50000e+01  1.05000e+02\n",
      "     6 sigfrac      9.00000e-01  5.00000e-02    0.00000e+00  1.00000e+00\n",
      "     7 sigma        2.00000e+00  5.00000e-01    0.00000e+00  5.00000e+00\n",
      " **********\n",
      " **    3 **SET ERR         0.5\n",
      " **********\n",
      " **********\n",
      " **    4 **SET PRINT           1\n",
      " **********\n",
      " **********\n",
      " **    5 **SET STR           1\n",
      " **********\n",
      " NOW USING STRATEGY  1: TRY TO BALANCE SPEED AGAINST RELIABILITY\n",
      " **********\n",
      " **    6 **MIGRAD        3500           1\n",
      " **********\n",
      " FIRST CALL TO USER FUNCTION AT NEW START POINT, WITH IFLAG=4.\n",
      "[#1] INFO:NumericIntegration -- RooRealIntegral::init(erfc_Int[mh_ggh]) using numeric integrator RooIntegrator1D to calculate Int(mh_ggh)\n",
      "[#1] INFO:NumericIntegration -- RooRealIntegral::init(Exponential_Int[mh_ggh]) using numeric integrator RooIntegrator1D to calculate Int(mh_ggh)\n",
      "[#1] INFO:NumericIntegration -- RooRealIntegral::init([Exponential_over_Exponential_Int[mh_ggh]_X_erfc_over_erfc_Int[mh_ggh]]_Norm[mh_ggh]_denominator_Int[mh_ggh]) using numeric integrator RooIntegrator1D to calculate Int(mh_ggh)\n",
      "[#1] INFO:NumericIntegration -- RooRealIntegral::init(Exponential_Int[mh_ggh]) using numeric integrator RooIntegrator1D to calculate Int(mh_ggh)\n",
      "[#1] INFO:NumericIntegration -- RooRealIntegral::init(erfc_Int[mh_ggh]) using numeric integrator RooIntegrator1D to calculate Int(mh_ggh)\n",
      "[#1] INFO:NumericIntegration -- RooRealIntegral::init(Voigtian_Int[mh_ggh]) using numeric integrator RooIntegrator1D to calculate Int(mh_ggh)\n",
      " START MIGRAD MINIMIZATION.  STRATEGY  1.  CONVERGENCE WHEN EDM .LT. 1.00e-03\n",
      " FCN=1.03504e+06 FROM MIGRAD    STATUS=INITIATE      357 CALLS         358 TOTAL\n",
      "                     EDM= unknown      STRATEGY= 1      NO ERROR MATRIX       \n",
      "  EXT PARAMETER               CURRENT GUESS       STEP         FIRST   \n",
      "  NO.   NAME      VALUE            ERROR          SIZE      DERIVATIVE \n",
      "   1  bwz_mZ       9.12000e+01   2.00000e-01   0.00000e+00  -8.23076e+03\n",
      "   2  center       9.12000e+01   3.00000e+00   0.00000e+00  -2.28260e+00\n",
      "   3  erfc_coeff   1.00000e-02   5.00000e-03   0.00000e+00   8.21150e+01\n",
      "   4  exp_coeff    1.30719e-01   5.00000e-03   0.00000e+00  -4.74132e+02\n",
      "   5  shift        8.50000e+01   3.00000e+00   0.00000e+00   0.00000e+00\n",
      "   6  sigfrac      9.00000e-01   5.00000e-02   0.00000e+00   1.86974e+03\n",
      "   7  sigma        2.00000e+00   5.00000e-01   0.00000e+00  -5.00405e+03\n",
      "                               ERR DEF= 0.5\n",
      " MINUIT WARNING IN MIGRAD  \n",
      " ============== Negative diagonal element 2 in Error Matrix\n",
      " MINUIT WARNING IN MIGRAD  \n",
      " ============== 1.06346 added to diagonal of error matrix\n",
      " MINUIT WARNING IN MIGRAD  \n",
      " ============== Negative diagonal element 3 in Error Matrix\n",
      " MINUIT WARNING IN MIGRAD  \n",
      " ============== 1.00017 added to diagonal of error matrix\n",
      " EIGENVALUES OF SECOND-DERIVATIVE MATRIX:\n",
      "        -2.6581e-02  3.9185e-04  6.3000e-03  1.3216e-02  2.1473e-02  1.0000e+00  5.9852e+00\n",
      " MINUIT WARNING IN MIGRAD  \n",
      " ============== MATRIX FORCED POS-DEF BY ADDING 0.032566 TO DIAGONAL.\n",
      " MIGRAD FAILS TO FIND IMPROVEMENT\n",
      " MIGRAD MINIMIZATION HAS CONVERGED.\n",
      " FCN=1.03348e+06 FROM MIGRAD    STATUS=CONVERGED    1406 CALLS        1407 TOTAL\n",
      "                     EDM=0.000407974    STRATEGY= 1  ERROR MATRIX UNCERTAINTY   0.3 per cent\n",
      "  EXT PARAMETER                                   STEP         FIRST   \n",
      "  NO.   NAME      VALUE            ERROR          SIZE      DERIVATIVE \n",
      "   1  bwz_mZ       9.14183e+01   1.09082e-02  -0.00000e+00  -8.26868e-01\n",
      "   2  center       9.17756e+01   2.86190e+00   0.00000e+00  -4.33602e+00\n",
      "   3  erfc_coeff   1.41966e-01   1.04677e-02   0.00000e+00   9.84114e+00\n",
      "   4  exp_coeff    2.60885e-01   5.09532e-02  -0.00000e+00  -4.54110e+00\n",
      "   5  shift        8.50000e+01   1.98233e+01  -0.00000e+00   1.16415e-10\n",
      "   6  sigfrac      8.31413e-01   1.17679e-02   0.00000e+00   2.47422e+00\n",
      "   7  sigma        1.97125e+00   1.88550e-02   0.00000e+00   1.66579e-01\n",
      "                               ERR DEF= 0.5\n",
      " EXTERNAL ERROR MATRIX.    NDIM=  25    NPAR=  7    ERR DEF=0.5\n",
      "  1.190e-04 -7.967e-03 -5.427e-05  1.048e-04  2.044e-09  2.185e-05  5.722e-05 \n",
      " -7.967e-03  8.293e+00  2.844e-02 -1.464e-01 -2.610e-06  2.782e-02  3.611e-02 \n",
      " -5.427e-05  2.844e-02  1.096e-04 -4.873e-04 -8.799e-09  7.584e-05  9.005e-05 \n",
      "  1.048e-04 -1.464e-01 -4.873e-04  2.608e-03  4.632e-08 -5.081e-04 -6.645e-04 \n",
      "  2.044e-09 -2.610e-06 -8.799e-09  4.632e-08  4.196e+02 -8.461e-09 -1.140e-08 \n",
      "  2.185e-05  2.782e-02  7.584e-05 -5.081e-04 -8.461e-09  1.385e-04  2.046e-04 \n",
      "  5.722e-05  3.611e-02  9.005e-05 -6.645e-04 -1.140e-08  2.046e-04  3.555e-04 \n",
      " PARAMETER  CORRELATION COEFFICIENTS  \n",
      "       NO.  GLOBAL      1      2      3      4      5      6      7\n",
      "        1  0.82301   1.000 -0.254 -0.475  0.188  0.000  0.170  0.278\n",
      "        2  0.99982  -0.254  1.000  0.943 -0.995 -0.000  0.821  0.665\n",
      "        3  0.99783  -0.475  0.943  1.000 -0.911 -0.000  0.615  0.456\n",
      "        4  0.99960   0.188 -0.995 -0.911  1.000  0.000 -0.845 -0.690\n",
      "        5  0.00000   0.000 -0.000 -0.000  0.000  1.000 -0.000 -0.000\n",
      "        6  0.98933   0.170  0.821  0.615 -0.845 -0.000  1.000  0.922\n",
      "        7  0.93939   0.278  0.665  0.456 -0.690 -0.000  0.922  1.000\n",
      " **********\n",
      " **    7 **SET ERR         0.5\n",
      " **********\n",
      " **********\n",
      " **    8 **SET PRINT           1\n",
      " **********\n",
      " **********\n",
      " **    9 **HESSE        3500\n",
      " **********\n",
      " COVARIANCE MATRIX CALCULATED SUCCESSFULLY\n",
      " FCN=1.03348e+06 FROM HESSE     STATUS=OK             56 CALLS        1463 TOTAL\n",
      "                     EDM=0.000252434    STRATEGY= 1      ERROR MATRIX ACCURATE \n",
      "  EXT PARAMETER                                INTERNAL      INTERNAL  \n",
      "  NO.   NAME      VALUE            ERROR       STEP SIZE       VALUE   \n",
      "   1  bwz_mZ       9.14183e+01   9.98595e-03   4.83163e-03   4.31587e-01\n",
      "   2  center       9.17756e+01   7.72889e-01   2.55096e-03   1.18653e-01\n",
      "   3  erfc_coeff   1.41966e-01   4.17058e-03   1.09885e-03  -9.45368e-01\n",
      "   4  exp_coeff    2.60885e-01   1.38088e-02   2.30319e-03  -4.98637e-01\n",
      "   5  shift        8.50000e+01   1.99935e+01   5.00000e-01  -3.39837e-01\n",
      "   6  sigfrac      8.31413e-01   6.54237e-03   3.19044e-03   7.24586e-01\n",
      "   7  sigma        1.97125e+00   1.36715e-02   2.00900e-03  -2.13108e-01\n",
      "                               ERR DEF= 0.5\n",
      " EXTERNAL ERROR MATRIX.    NDIM=  25    NPAR=  7    ERR DEF=0.5\n",
      "  9.972e-05 -9.524e-04 -2.352e-05 -1.469e-05  3.382e-02  2.841e-05  5.325e-05 \n",
      " -9.524e-04  5.979e-01  2.235e-03 -1.003e-02  6.409e+01  2.121e-03  3.021e-03 \n",
      " -2.352e-05  2.235e-03  1.739e-05 -2.601e-05  1.840e-01 -5.587e-06 -1.031e-05 \n",
      " -1.469e-05 -1.003e-02 -2.601e-05  1.907e-04 -1.107e+00 -4.400e-05 -6.060e-05 \n",
      "  3.382e-02  6.409e+01  1.840e-01 -1.107e+00  2.147e+11  3.785e-01  6.394e-01 \n",
      "  2.841e-05  2.121e-03 -5.587e-06 -4.400e-05  3.785e-01  4.281e-05  7.556e-05 \n",
      "  5.325e-05  3.021e-03 -1.031e-05 -6.060e-05  6.394e-01  7.556e-05  1.869e-04 \n",
      " PARAMETER  CORRELATION COEFFICIENTS  \n",
      "       NO.  GLOBAL      1      2      3      4      5      6      7\n",
      "        1  0.77984   1.000 -0.123 -0.565 -0.107  0.000  0.435  0.390\n",
      "        2  0.99754  -0.123  1.000  0.693 -0.939  0.000  0.419  0.286\n",
      "        3  0.98624  -0.565  0.693  1.000 -0.452  0.000 -0.205 -0.181\n",
      "        4  0.99454  -0.107 -0.939 -0.452  1.000 -0.000 -0.487 -0.321\n",
      "        5  0.00019   0.000  0.000  0.000 -0.000  1.000  0.000  0.000\n",
      "        6  0.96560   0.435  0.419 -0.205 -0.487  0.000  1.000  0.845\n",
      "        7  0.85932   0.390  0.286 -0.181 -0.321  0.000  0.845  1.000\n",
      "[#1] INFO:Minimization -- RooAbsMinimizerFcn::setOptimizeConst: deactivating const optimization\n"
     ]
    },
    {
     "name": "stderr",
     "output_type": "stream",
     "text": [
      "Warning in <RTaskArenaWrapper>: CPU Bandwith Control Active. Proceeding with 64 threads accordingly\n"
     ]
    }
   ],
   "source": [
    "import time\n",
    "\n",
    "start = time.time()\n",
    "roo_dataset = file.w.data(\"data_Zfit_no_e_cut_UL_calib_cat20\")\n",
    "roo_hist = rt.RooDataHist(\"data_hist\",\"binned version of roo_dataset\", rt.RooArgSet(mass), roo_dataset)  # copies binning from mass variable\n",
    "\n",
    "rt.EnableImplicitMT()\n",
    "model3.fitTo(roo_hist, rt.RooFit.BatchMode(\"cpu\"))\n",
    "\n",
    "\n",
    "end = time.time()\n",
    "print(f\"fitting elapsed time: {end - start}\")"
   ]
  },
  {
   "cell_type": "code",
   "execution_count": 7,
   "id": "0b9a9664-2cea-46eb-9494-a2b95d73618d",
   "metadata": {},
   "outputs": [
    {
     "name": "stdout",
     "output_type": "stream",
     "text": [
      "[#1] INFO:NumericIntegration -- RooRealIntegral::init(Voigtian_Int[mh_ggh]) using numeric integrator RooIntegrator1D to calculate Int(mh_ggh)\n",
      "[#1] INFO:NumericIntegration -- RooRealIntegral::init([Exponential_X_erfc]_Norm[mh_ggh]_denominator_Int[mh_ggh]) using numeric integrator RooIntegrator1D to calculate Int(mh_ggh)\n",
      "[#1] INFO:NumericIntegration -- RooRealIntegral::init(Voigtian_Int[mh_ggh]) using numeric integrator RooIntegrator1D to calculate Int(mh_ggh)\n",
      "[#1] INFO:NumericIntegration -- RooRealIntegral::init([Exponential_X_erfc]_Norm[mh_ggh]_denominator_Int[mh_ggh]) using numeric integrator RooIntegrator1D to calculate Int(mh_ggh)\n",
      "[#1] INFO:NumericIntegration -- RooRealIntegral::init(dummy_bkg_var_Int[mh_ggh]) using numeric integrator RooIntegrator1D to calculate Int(mh_ggh)\n",
      "[#1] INFO:NumericIntegration -- RooRealIntegral::init([Exponential_X_erfc]_Norm[mh_ggh]_denominator_Int[mh_ggh]) using numeric integrator RooIntegrator1D to calculate Int(mh_ggh)\n"
     ]
    },
    {
     "data": {
      "image/png": "[encoded data removed]",
      "text/plain": [
       "<IPython.core.display.Image object>"
      ]
     },
     "metadata": {},
     "output_type": "display_data"
    }
   ],
   "source": [
    "# file.w.pdf(\"Voigtian_ggh_All\").plotOn(frame)\n",
    "\n",
    "file.w.data(\"data_Zfit_no_e_cut_UL_calib_cat20\").plotOn(frame)\n",
    "model3.plotOn(frame, rt.RooFit.LineColor(rt.kGreen))\n",
    "model1.plotOn(frame, rt.RooFit.LineColor(rt.kRed))\n",
    "model2.plotOn(frame, rt.RooFit.LineColor(rt.kBlack))\n",
    "dummy_bkg_var.plotOn(frame, rt.RooFit.LineColor(rt.kBlue))\n",
    "\n",
    "frame.Draw()\n",
    "canvas.Update()\n",
    "canvas.Draw()\n"
   ]
  },
  {
   "cell_type": "code",
   "execution_count": null,
   "id": "641d21d5-9909-484f-b941-5972e1a11990",
   "metadata": {},
   "outputs": [],
   "source": []
  }
 ],
 "metadata": {
  "kernelspec": {
   "display_name": "Python3 kernel (default)",
   "language": "python",
   "name": "python3"
  },
  "language_info": {
   "codemirror_mode": {
    "name": "ipython",
    "version": 3
   },
   "file_extension": ".py",
   "mimetype": "text/x-python",
   "name": "python",
   "nbconvert_exporter": "python",
   "pygments_lexer": "ipython3",
   "version": "3.10.10"
  }
 },
 "nbformat": 4,
 "nbformat_minor": 5
}
