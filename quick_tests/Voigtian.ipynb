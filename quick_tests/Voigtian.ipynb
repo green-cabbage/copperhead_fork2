{
 "cells": [
  {
   "cell_type": "code",
   "execution_count": 1,
   "id": "660534a0-db38-436b-930f-15429e2c404d",
   "metadata": {},
   "outputs": [
    {
     "name": "stdout",
     "output_type": "stream",
     "text": [
      "Welcome to JupyROOT 6.28/00\n"
     ]
    }
   ],
   "source": [
    "import ROOT as rt"
   ]
  },
  {
   "cell_type": "code",
   "execution_count": 2,
   "id": "3ab50b81-4b43-4fc8-8b1c-69adfec7acb3",
   "metadata": {},
   "outputs": [],
   "source": [
    "load_path = \"workspace/workspace_ggh_All_Zfit_no_e_cut_UL_calib_cat20.root\""
   ]
  },
  {
   "cell_type": "code",
   "execution_count": 3,
   "id": "bc3da023-e6f6-436c-9546-f9b7903c0d44",
   "metadata": {},
   "outputs": [],
   "source": [
    "file = rt.TFile.Open(load_path)"
   ]
  },
  {
   "cell_type": "code",
   "execution_count": 4,
   "id": "9d88e673-f2b1-40fa-bed6-1bbd1d95848b",
   "metadata": {},
   "outputs": [],
   "source": [
    "canvas = rt.TCanvas()\n",
    "canvas.cd()\n",
    "mass =  rt.RooRealVar(\"mh_ggh\",\"mass (GeV)\",100,81,101)\n",
    "mass.setBins(50) \n",
    "frame = mass.frame()"
   ]
  },
  {
   "cell_type": "code",
   "execution_count": 5,
   "id": "dbcb5682-d860-46c5-9bf7-da4aa6646603",
   "metadata": {},
   "outputs": [],
   "source": [
    "\n",
    "bwWidth = rt.RooRealVar(\"bwz_Width\" , \"widthZ\", 2.5, 0, 30)\n",
    "bwmZ = rt.RooRealVar(\"bwz_mZ\" , \"mZ\", 91.2, 90, 92)\n",
    "sigma = rt.RooRealVar(\"sigma\" , \"sigma\", 2, 0.0, 5.0)\n",
    "\n",
    "bwWidth.setConstant(True)\n",
    "# bwmZ.setConstant(True)\n",
    "# sigma.setConstant(True)\n",
    "#bwmZ.setConstant(True)\n",
    "\n",
    "model1 = rt.RooVoigtian(\"Voigtian\" , \"Voigtian\",mass, bwmZ, bwWidth, sigma)\n",
    "\n",
    "exp_coeff = rt.RooRealVar(\"exp_coeff\", \"exp_coeff\", 0.01, 0.00000001, 1) # positve coeff to get the peak shape we want \n",
    "# exp_coeff = rt.RooRealVar(\"exp_coeff\", \"exp_coeff\", -0.01, -1, -0.00000001)\n",
    "shift = rt.RooRealVar(\"shift\", \"Offset\", 85, 75, 105)\n",
    "shifted_mass = rt.RooFormulaVar(\"shifted_mass\", \"@0-@1\", rt.RooArgList(mass, shift))\n",
    "model2_1 = rt.RooExponential(\"Exponential\", \"Exponential\", shifted_mass,exp_coeff)\n",
    "\n",
    "center = rt.RooRealVar(\"center\" , \"center\", 91.2, 75, 105)\n",
    "erfc_coeff = rt.RooRealVar(\"erfc_coeff\" , \"erfc_coeff\", 0.01, 0, 1.5)\n",
    "erfc_in = rt.RooFormulaVar(\"erfc_in\", \"(@0 - @2) * @1\", rt.RooArgList(mass, erfc_coeff, center)) \n",
    "model2_2 = rt.RooFit.bindPdf(\"erfc\", rt.TMath.Erfc, erfc_in)\n",
    "\n",
    "\n",
    "model2 = rt.RooProdPdf(\"erfc_exp\", \"erfc_exp\", rt.RooArgList(model2_1, model2_2))\n",
    "sigfrac = rt.RooRealVar(\"sigfrac\", \"sigfrac\", 0.9, 0, 1.0)\n",
    "model3 = rt.RooAddPdf(\"model3\", \"model3\", rt.RooArgList(model1, model2),rt.RooArgList(sigfrac))\n",
    "\n",
    "# bkgfrac = rt.RooFormulaVar(\"bkgfrac\", \"(1 - @0)\", rt.RooArgList(sigfrac)) \n",
    "# dummy_bkg_var = rt.RooProdPdf(\"dummy_bkg_var\", \"dummy_bkg_var\", rt.RooArgList(bkgfrac, model2))  # pdf model just for plotting bkg on the plot with bkgfrac\n",
    "dummy_bkg_var = rt.RooGenericPdf(\"dummy_bkg_var\", \"dummy_bkg_var\", \"(1 - @0) * @1\", rt.RooArgList(sigfrac,model2))"
   ]
  },
  {
   "cell_type": "code",
   "execution_count": 6,
   "id": "fc9d7cec-1a97-4cff-9903-5fb84f27d608",
   "metadata": {
    "scrolled": true
   },
   "outputs": [
    {
     "name": "stdout",
     "output_type": "stream",
     "text": [
      "fitting elapsed time: 64.53381085395813\n",
      "[#1] INFO:Fitting -- RooAbsPdf::fitTo(model3) fixing normalization set for coefficient determination to observables in data\n",
      "[#1] INFO:Fitting -- using CPU computation library compiled with -mavx2\n",
      "[#1] INFO:Fitting -- RooAddition::defaultErrorLevel(nll_model3_data_Zfit_no_e_cut_UL_calib_cat20) Summation contains a RooNLLVar, using its error level\n",
      "[#1] INFO:Minimization -- RooAbsMinimizerFcn::setOptimizeConst: activating const optimization\n",
      " **********\n",
      " **    1 **SET PRINT           1\n",
      " **********\n",
      " **********\n",
      " **    2 **SET NOGRAD\n",
      " **********\n",
      " PARAMETER DEFINITIONS:\n",
      "    NO.   NAME         VALUE      STEP SIZE      LIMITS\n",
      "     1 bwz_mZ       9.12000e+01  2.00000e-01    9.00000e+01  9.20000e+01\n",
      "     2 center       9.12000e+01  3.00000e+00    7.50000e+01  1.05000e+02\n",
      "     3 erfc_coeff   1.00000e-02  5.00000e-03    0.00000e+00  1.50000e+00\n",
      "     4 exp_coeff    1.00000e-02  5.00000e-03    1.00000e-08  1.00000e+00\n",
      "     5 shift        8.50000e+01  3.00000e+00    7.50000e+01  1.05000e+02\n",
      "     6 sigfrac      9.00000e-01  5.00000e-02    0.00000e+00  1.00000e+00\n",
      "     7 sigma        2.00000e+00  5.00000e-01    0.00000e+00  5.00000e+00\n",
      " **********\n",
      " **    3 **SET ERR         0.5\n",
      " **********\n",
      " **********\n",
      " **    4 **SET PRINT           1\n",
      " **********\n",
      " **********\n",
      " **    5 **SET STR           1\n",
      " **********\n",
      " NOW USING STRATEGY  1: TRY TO BALANCE SPEED AGAINST RELIABILITY\n",
      " **********\n",
      " **    6 **MIGRAD        3500           1\n",
      " **********\n",
      " FIRST CALL TO USER FUNCTION AT NEW START POINT, WITH IFLAG=4.\n",
      "[#1] INFO:NumericIntegration -- RooRealIntegral::init(erfc_Int[mh_ggh]) using numeric integrator RooIntegrator1D to calculate Int(mh_ggh)\n",
      "[#1] INFO:NumericIntegration -- RooRealIntegral::init(Exponential_Int[mh_ggh]) using numeric integrator RooIntegrator1D to calculate Int(mh_ggh)\n",
      "[#1] INFO:NumericIntegration -- RooRealIntegral::init([Exponential_over_Exponential_Int[mh_ggh]_X_erfc_over_erfc_Int[mh_ggh]]_Norm[mh_ggh]_denominator_Int[mh_ggh]) using numeric integrator RooIntegrator1D to calculate Int(mh_ggh)\n",
      "[#1] INFO:NumericIntegration -- RooRealIntegral::init(Exponential_Int[mh_ggh]) using numeric integrator RooIntegrator1D to calculate Int(mh_ggh)\n",
      "[#1] INFO:NumericIntegration -- RooRealIntegral::init(erfc_Int[mh_ggh]) using numeric integrator RooIntegrator1D to calculate Int(mh_ggh)\n",
      "[#1] INFO:NumericIntegration -- RooRealIntegral::init(Voigtian_Int[mh_ggh]) using numeric integrator RooIntegrator1D to calculate Int(mh_ggh)\n",
      " START MIGRAD MINIMIZATION.  STRATEGY  1.  CONVERGENCE WHEN EDM .LT. 1.00e-03\n",
      " FCN=1.03501e+06 FROM MIGRAD    STATUS=INITIATE      357 CALLS         358 TOTAL\n",
      "                     EDM= unknown      STRATEGY= 1      NO ERROR MATRIX       \n",
      "  EXT PARAMETER               CURRENT GUESS       STEP         FIRST   \n",
      "  NO.   NAME      VALUE            ERROR          SIZE      DERIVATIVE \n",
      "   1  bwz_mZ       9.12000e+01   2.00000e-01   0.00000e+00  -8.23971e+03\n",
      "   2  center       9.12000e+01   3.00000e+00   0.00000e+00  -2.28166e+00\n",
      "   3  erfc_coeff   1.00000e-02   5.00000e-03   0.00000e+00   8.20802e+01\n",
      "   4  exp_coeff    1.30732e-01   5.00000e-03   0.00000e+00  -4.73960e+02\n",
      "   5  shift        8.50000e+01   3.00000e+00   0.00000e+00   0.00000e+00\n",
      "   6  sigfrac      9.00000e-01   5.00000e-02   0.00000e+00   1.85896e+03\n",
      "   7  sigma        2.00000e+00   5.00000e-01   0.00000e+00  -4.98404e+03\n",
      "                               ERR DEF= 0.5\n",
      " MINUIT WARNING IN MIGRAD  \n",
      " ============== Negative diagonal element 2 in Error Matrix\n",
      " MINUIT WARNING IN MIGRAD  \n",
      " ============== 1.03548 added to diagonal of error matrix\n",
      " MINUIT WARNING IN MIGRAD  \n",
      " ============== Negative diagonal element 2 in Error Matrix\n",
      " MINUIT WARNING IN MIGRAD  \n",
      " ============== 1.00477 added to diagonal of error matrix\n",
      " MINUIT WARNING IN MIGRAD  \n",
      " ============== Negative diagonal element 2 in Error Matrix\n",
      " MINUIT WARNING IN MIGRAD  \n",
      " ============== 1.00444 added to diagonal of error matrix\n",
      " MIGRAD MINIMIZATION HAS CONVERGED.\n",
      " FCN=1.03345e+06 FROM MIGRAD    STATUS=CONVERGED    1401 CALLS        1402 TOTAL\n",
      "                     EDM=8.80114e-05    STRATEGY= 1  ERROR MATRIX UNCERTAINTY   0.1 per cent\n",
      "  EXT PARAMETER                                   STEP         FIRST   \n",
      "  NO.   NAME      VALUE            ERROR          SIZE      DERIVATIVE \n",
      "   1  bwz_mZ       9.14196e+01   1.08535e-02  -8.48415e-06  -3.64919e-02\n",
      "   2  center       9.17774e+01   2.63060e+00  -9.66175e-05   9.48402e-01\n",
      "   3  erfc_coeff   1.41588e-01   9.80711e-03   1.67847e-05   1.84464e+00\n",
      "   4  exp_coeff    2.60456e-01   4.64180e-02  -5.19212e-05  -9.35358e-01\n",
      "   5  shift        8.50000e+01   1.95265e+01  -1.70660e-10   0.00000e+00\n",
      "   6  sigfrac      8.32176e-01   1.08565e-02  -1.79075e-06   1.16541e+00\n",
      "   7  sigma        1.97219e+00   1.74973e-02  -1.14529e-06  -5.97512e-01\n",
      "                               ERR DEF= 0.5\n",
      " EXTERNAL ERROR MATRIX.    NDIM=  25    NPAR=  7    ERR DEF=0.5\n",
      "  1.178e-04  7.486e-03 -5.398e-05  9.287e-05 -1.470e-08  2.279e-05  5.784e-05 \n",
      "  7.486e-03  6.993e+00 -2.422e-02  1.223e-01 -2.169e-06 -2.245e-02 -2.864e-02 \n",
      " -5.398e-05 -2.422e-02  9.620e-05 -4.090e-04  1.183e-08  5.797e-05  6.547e-05 \n",
      "  9.287e-05  1.223e-01 -4.090e-04  2.163e-03 -3.371e-08 -4.079e-04 -5.277e-04 \n",
      " -1.470e-08 -2.169e-06  1.183e-08 -3.371e-08  5.045e+02 -2.985e-09 -7.664e-09 \n",
      "  2.279e-05 -2.245e-02  5.797e-05 -4.079e-04 -2.985e-09  1.179e-04  1.723e-04 \n",
      "  5.784e-05 -2.864e-02  6.547e-05 -5.277e-04 -7.664e-09  1.723e-04  3.062e-04 \n",
      " PARAMETER  CORRELATION COEFFICIENTS  \n",
      "       NO.  GLOBAL      1      2      3      4      5      6      7\n",
      "        1  0.84168   1.000  0.261 -0.507  0.184 -0.000  0.193  0.305\n",
      "        2  0.99977   0.261  1.000 -0.934  0.994 -0.000 -0.782 -0.619\n",
      "        3  0.99735  -0.507 -0.934  1.000 -0.897  0.000  0.544  0.381\n",
      "        4  0.99948   0.184  0.994 -0.897  1.000 -0.000 -0.808 -0.648\n",
      "        5  0.00000  -0.000 -0.000  0.000 -0.000  1.000 -0.000 -0.000\n",
      "        6  0.98734   0.193 -0.782  0.544 -0.808 -0.000  1.000  0.907\n",
      "        7  0.92260   0.305 -0.619  0.381 -0.648 -0.000  0.907  1.000\n",
      " **********\n",
      " **    7 **SET ERR         0.5\n",
      " **********\n",
      " **********\n",
      " **    8 **SET PRINT           1\n",
      " **********\n",
      " **********\n",
      " **    9 **HESSE        3500\n",
      " **********\n",
      " MINUIT WARNING IN HESSE\n",
      " ============== Second derivative enters zero, param 5\n",
      " MINUIT WARNING IN HESSE\n",
      " ============== Second derivative zero for parameter5\n",
      "  MNHESS FAILS AND WILL RETURN DIAGONAL MATRIX. \n",
      " FCN=1.03345e+06 FROM HESSE     STATUS=FAILED         11 CALLS        1413 TOTAL\n",
      "                     EDM=8.80114e-05    STRATEGY= 1  ERROR MATRIX UNCERTAINTY 100.0 per cent\n",
      "  EXT PARAMETER                APPROXIMATE     INTERNAL      INTERNAL  \n",
      "  NO.   NAME      VALUE            ERROR       STEP SIZE       VALUE   \n",
      "   1  bwz_mZ       9.14196e+01   6.24701e-03   4.83120e-03   4.32976e-01\n",
      "   2  center       9.17774e+01   5.45844e-02   2.57267e-03   3.02282e+00\n",
      "   3  erfc_coeff   1.41588e-01   6.92233e-04   1.10782e-03  -9.46229e-01\n",
      "   4  exp_coeff    2.60456e-01   1.44549e-03   2.31198e-03  -4.99616e-01\n",
      "   5  shift        7.88320e+01   1.50462e+01  -1.70660e-10  -3.39837e-01\n",
      "   6  sigfrac      8.32176e-01   1.69707e-03  -1.79075e-06   7.26626e-01\n",
      "   7  sigma        1.97219e+00   6.98703e-03  -1.14529e-06  -2.12726e-01\n",
      "                               ERR DEF= 0.5\n",
      " EXTERNAL ERROR MATRIX.    NDIM=  25    NPAR=  7    ERR DEF=0.5\n",
      "  3.903e-05  0.000e+00  0.000e+00  0.000e+00  0.000e+00  0.000e+00  0.000e+00 \n",
      "  0.000e+00  2.979e-03  0.000e+00  0.000e+00  0.000e+00  0.000e+00  0.000e+00 \n",
      "  0.000e+00  0.000e+00  4.792e-07  0.000e+00  0.000e+00  0.000e+00  0.000e+00 \n",
      "  0.000e+00  0.000e+00  0.000e+00  2.089e-06  0.000e+00  0.000e+00  0.000e+00 \n",
      "  0.000e+00  0.000e+00  0.000e+00  0.000e+00  7.626e+02  0.000e+00  0.000e+00 \n",
      "  0.000e+00  0.000e+00  0.000e+00  0.000e+00  0.000e+00  2.880e-06  0.000e+00 \n",
      "  0.000e+00  0.000e+00  0.000e+00  0.000e+00  0.000e+00  0.000e+00  4.882e-05 \n",
      "ERR MATRIX APPROXIMATE\n",
      " PARAMETER  CORRELATION COEFFICIENTS  \n",
      "       NO.  GLOBAL      1      2      3      4      5      6      7\n",
      "        1  0.00000   1.000  0.000  0.000  0.000  0.000  0.000  0.000\n",
      "        2  0.00000   0.000  1.000  0.000  0.000  0.000  0.000  0.000\n",
      "        3  0.00000   0.000  0.000  1.000  0.000  0.000  0.000  0.000\n",
      "        4  0.00000   0.000  0.000  0.000  1.000  0.000  0.000  0.000\n",
      "        5  0.00000   0.000  0.000  0.000  0.000  1.000  0.000  0.000\n",
      "        6  0.00000   0.000  0.000  0.000  0.000  0.000  1.000  0.000\n",
      "        7  0.00000   0.000  0.000  0.000  0.000  0.000  0.000  1.000\n",
      " ERR MATRIX APPROXIMATE\n",
      "[#1] INFO:Minimization -- RooAbsMinimizerFcn::setOptimizeConst: deactivating const optimization\n"
     ]
    },
    {
     "name": "stderr",
     "output_type": "stream",
     "text": [
      "Warning in <RTaskArenaWrapper>: CPU Bandwith Control Active. Proceeding with 64 threads accordingly\n"
     ]
    }
   ],
   "source": [
    "import time\n",
    "\n",
    "start = time.time()\n",
    "roo_dataset = file.w.data(\"data_Zfit_no_e_cut_UL_calib_cat20\")\n",
    "rt.EnableImplicitMT()\n",
    "# model2_1.fitTo(roo_dataset, rt.RooFit.BatchMode(\"cpu\"), Minos=True)\n",
    "model3.fitTo(roo_dataset, rt.RooFit.BatchMode(\"cpu\"))\n",
    "# model3.fitTo(roo_dataset)\n",
    "# model2.fitTo(roo_dataset, rt.RooFit.BatchMode(\"cpu\"))\n",
    "\n",
    "\n",
    "end = time.time()\n",
    "print(f\"fitting elapsed time: {end - start}\")"
   ]
  },
  {
   "cell_type": "code",
   "execution_count": 7,
   "id": "0b9a9664-2cea-46eb-9494-a2b95d73618d",
   "metadata": {},
   "outputs": [
    {
     "name": "stdout",
     "output_type": "stream",
     "text": [
      "[#1] INFO:NumericIntegration -- RooRealIntegral::init(Voigtian_Int[mh_ggh]) using numeric integrator RooIntegrator1D to calculate Int(mh_ggh)\n",
      "[#1] INFO:NumericIntegration -- RooRealIntegral::init([Exponential_X_erfc]_Norm[mh_ggh]_denominator_Int[mh_ggh]) using numeric integrator RooIntegrator1D to calculate Int(mh_ggh)\n",
      "[#1] INFO:NumericIntegration -- RooRealIntegral::init(Voigtian_Int[mh_ggh]) using numeric integrator RooIntegrator1D to calculate Int(mh_ggh)\n",
      "[#1] INFO:NumericIntegration -- RooRealIntegral::init([Exponential_X_erfc]_Norm[mh_ggh]_denominator_Int[mh_ggh]) using numeric integrator RooIntegrator1D to calculate Int(mh_ggh)\n",
      "[#1] INFO:NumericIntegration -- RooRealIntegral::init(dummy_bkg_var_Int[mh_ggh]) using numeric integrator RooIntegrator1D to calculate Int(mh_ggh)\n",
      "[#1] INFO:NumericIntegration -- RooRealIntegral::init([Exponential_X_erfc]_Norm[mh_ggh]_denominator_Int[mh_ggh]) using numeric integrator RooIntegrator1D to calculate Int(mh_ggh)\n"
     ]
    },
    {
     "data": {
      "image/png": "[encoded data removed]",
      "text/plain": [
       "<IPython.core.display.Image object>"
      ]
     },
     "metadata": {},
     "output_type": "display_data"
    }
   ],
   "source": [
    "# file.w.pdf(\"Voigtian_ggh_All\").plotOn(frame)\n",
    "\n",
    "file.w.data(\"data_Zfit_no_e_cut_UL_calib_cat20\").plotOn(frame)\n",
    "model3.plotOn(frame, rt.RooFit.LineColor(rt.kGreen))\n",
    "model1.plotOn(frame, rt.RooFit.LineColor(rt.kRed))\n",
    "model2.plotOn(frame, rt.RooFit.LineColor(rt.kBlack))\n",
    "dummy_bkg_var.plotOn(frame, rt.RooFit.LineColor(rt.kBlue))\n",
    "# model2_2.plotOn(frame, rt.RooFit.LineColor(rt.kRed))\n",
    "frame.Draw()\n",
    "canvas.Update()\n",
    "canvas.Draw()\n"
   ]
  },
  {
   "cell_type": "code",
   "execution_count": null,
   "id": "641d21d5-9909-484f-b941-5972e1a11990",
   "metadata": {},
   "outputs": [],
   "source": []
  }
 ],
 "metadata": {
  "kernelspec": {
   "display_name": "Python3 kernel (default)",
   "language": "python",
   "name": "python3"
  },
  "language_info": {
   "codemirror_mode": {
    "name": "ipython",
    "version": 3
   },
   "file_extension": ".py",
   "mimetype": "text/x-python",
   "name": "python",
   "nbconvert_exporter": "python",
   "pygments_lexer": "ipython3",
   "version": "3.10.10"
  }
 },
 "nbformat": 4,
 "nbformat_minor": 5
}
