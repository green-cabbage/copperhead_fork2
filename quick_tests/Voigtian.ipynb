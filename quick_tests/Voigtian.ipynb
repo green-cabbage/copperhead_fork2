{
 "cells": [
  {
   "cell_type": "code",
   "execution_count": 1,
   "id": "660534a0-db38-436b-930f-15429e2c404d",
   "metadata": {},
   "outputs": [
    {
     "name": "stdout",
     "output_type": "stream",
     "text": [
      "Welcome to JupyROOT 6.30/04\n"
     ]
    }
   ],
   "source": [
    "import ROOT as rt"
   ]
  },
  {
   "cell_type": "code",
   "execution_count": 2,
   "id": "3ab50b81-4b43-4fc8-8b1c-69adfec7acb3",
   "metadata": {},
   "outputs": [],
   "source": [
    "load_path = \"workspace/workspace_ggh_All_Zfit_no_e_cut_UL_calib_cat20.root\""
   ]
  },
  {
   "cell_type": "code",
   "execution_count": 3,
   "id": "bc3da023-e6f6-436c-9546-f9b7903c0d44",
   "metadata": {},
   "outputs": [],
   "source": [
    "file = rt.TFile.Open(load_path)"
   ]
  },
  {
   "cell_type": "code",
   "execution_count": 4,
   "id": "9d88e673-f2b1-40fa-bed6-1bbd1d95848b",
   "metadata": {},
   "outputs": [],
   "source": [
    "canvas = rt.TCanvas()\n",
    "canvas.cd()\n",
    "mass =  rt.RooRealVar(\"mh_ggh\",\"mass (GeV)\",100,81,101)\n",
    "mass.setBins(100) # set bins to make fitting quicker \n",
    "frame = mass.frame()"
   ]
  },
  {
   "cell_type": "code",
   "execution_count": 5,
   "id": "dbcb5682-d860-46c5-9bf7-da4aa6646603",
   "metadata": {},
   "outputs": [],
   "source": [
    "\n",
    "bwWidth = rt.RooRealVar(\"bwz_Width\" , \"widthZ\", 2.5, 0, 30)\n",
    "bwmZ = rt.RooRealVar(\"bwz_mZ\" , \"mZ\", 91.2, 90, 92)\n",
    "sigma = rt.RooRealVar(\"sigma\" , \"sigma\", 2, 0.0, 5.0)\n",
    "\n",
    "bwWidth.setConstant(True)\n",
    "# bwmZ.setConstant(True)\n",
    "# sigma.setConstant(True)\n",
    "#bwmZ.setConstant(True)\n",
    "\n",
    "model1 = rt.RooVoigtian(\"Voigtian\" , \"Voigtian\",mass, bwmZ, bwWidth, sigma)\n",
    "\n",
    "exp_coeff = rt.RooRealVar(\"exp_coeff\", \"exp_coeff\", 0.01, 0.00000001, 1) # positve coeff to get the peak shape we want \n",
    "shift = rt.RooRealVar(\"shift\", \"Offset\", 85, 75, 105)\n",
    "shifted_mass = rt.RooFormulaVar(\"shifted_mass\", \"@0-@1\", rt.RooArgList(mass, shift))\n",
    "model2_1 = rt.RooExponential(\"Exponential\", \"Exponential\", shifted_mass,exp_coeff)\n",
    "\n",
    "center = rt.RooRealVar(\"center\" , \"center\", 91.2, 75, 105)\n",
    "erfc_coeff = rt.RooRealVar(\"erfc_coeff\" , \"erfc_coeff\", 0.01, 0, 1.5)\n",
    "erfc_in = rt.RooFormulaVar(\"erfc_in\", \"(@0 - @2) * @1\", rt.RooArgList(mass, erfc_coeff, center)) \n",
    "model2_2 = rt.RooFit.bindPdf(\"erfc\", rt.TMath.Erfc, erfc_in)\n",
    "\n",
    "\n",
    "model2 = rt.RooProdPdf(\"erfc_exp\", \"erfc_exp\", rt.RooArgList(model2_1, model2_2))\n",
    "sigfrac = rt.RooRealVar(\"sigfrac\", \"sigfrac\", 0.9, 0, 1.0)\n",
    "model3 = rt.RooAddPdf(\"model3\", \"model3\", rt.RooArgList(model1, model2),rt.RooArgList(sigfrac))\n",
    "\n",
    "# For Val: ignore this dummy_bkg_var. This is just so I could plot bkg plot proportional to its fraction, which doesn't work\n",
    "# bkgfrac = rt.RooFormulaVar(\"bkgfrac\", \"(1 - @0)\", rt.RooArgList(sigfrac)) \n",
    "# dummy_bkg_var = rt.RooProdPdf(\"dummy_bkg_var\", \"dummy_bkg_var\", rt.RooArgList(bkgfrac, model2))  # pdf model just for plotting bkg on the plot with bkgfrac\n",
    "dummy_bkg_var = rt.RooGenericPdf(\"dummy_bkg_var\", \"dummy_bkg_var\", \"(1 - @0) * @1\", rt.RooArgList(sigfrac,model2))"
   ]
  },
  {
   "cell_type": "code",
   "execution_count": 7,
   "id": "fc9d7cec-1a97-4cff-9903-5fb84f27d608",
   "metadata": {
    "scrolled": true
   },
   "outputs": [
    {
     "name": "stdout",
     "output_type": "stream",
     "text": [
      "fitting elapsed time: 0.04930233955383301\n",
      "[#1] INFO:Fitting -- RooAbsPdf::fitTo(model3) fixing normalization set for coefficient determination to observables in data\n",
      "[#1] INFO:Fitting -- RooAddition::defaultErrorLevel(nll_model3_data_hist) Summation contains a RooNLLVar, using its error level\n",
      "[#1] INFO:Minimization -- RooAbsMinimizerFcn::setOptimizeConst: activating const optimization\n",
      "Minuit2Minimizer: Minimize with max-calls 3500 convergence for edm < 1 strategy 1\n",
      "[#1] INFO:NumericIntegration -- RooRealIntegral::init(erfc_Int[mh_ggh]) using numeric integrator RooRombergIntegrator to calculate Int(mh_ggh)\n",
      "[#1] INFO:NumericIntegration -- RooRealIntegral::init(Exponential_Int[mh_ggh]) using numeric integrator RooRombergIntegrator to calculate Int(mh_ggh)\n",
      "[#1] INFO:NumericIntegration -- RooRealIntegral::init([Exponential_over_Exponential_Int[mh_ggh]_X_erfc_over_erfc_Int[mh_ggh]]_Norm[mh_ggh]_denominator_Int[mh_ggh]) using numeric integrator RooRombergIntegrator to calculate Int(mh_ggh)\n",
      "[#1] INFO:NumericIntegration -- RooRealIntegral::init(Exponential_Int[mh_ggh]) using numeric integrator RooRombergIntegrator to calculate Int(mh_ggh)\n",
      "[#1] INFO:NumericIntegration -- RooRealIntegral::init(erfc_Int[mh_ggh]) using numeric integrator RooRombergIntegrator to calculate Int(mh_ggh)\n",
      "[#1] INFO:NumericIntegration -- RooRealIntegral::init(Voigtian_Int[mh_ggh]) using numeric integrator RooRombergIntegrator to calculate Int(mh_ggh)\n",
      "Minuit2Minimizer : Invalid Minimum - status = 2\n",
      "FVAL  = 1.03348e+06\n",
      "Edm   = 0.00018886\n",
      "Nfcn  = 70\n",
      "[#1] INFO:Minimization -- RooAbsMinimizerFcn::setOptimizeConst: deactivating const optimization\n"
     ]
    },
    {
     "name": "stderr",
     "output_type": "stream",
     "text": [
      "Info in <Minuit2>: MnSeedGenerator Computing seed using NumericalGradient calculator\n",
      "Info in <Minuit2>: MnSeedGenerator Initial state: FCN =       1033475.152 Edm =    0.001226589975 NCalls =     41\n",
      "Info in <Minuit2>: NegativeG2LineSearch Doing a NegativeG2LineSearch since one of the G2 component is negative\n",
      "Info in <Minuit2>: MnSeedGenerator Negative G2 found - new state: \n",
      "  Minimum value : 1033475.152\n",
      "  Edm           : 0.001226589975\n",
      "  Internal parameters:\t[     0.4315594564     0.1160633315    -0.9454752832     -0.496898248    -0.3398370091     0.7239024455    -0.2132451199]\t\n",
      "  Internal gradient  :\t[     0.7263219326     -7.143971826      20.05379607     -6.899753969                0      3.535118056      1.083748048]\t\n",
      "  Internal covariance matrix:\n",
      "[[  9.4774225e-05              0              0              0              0              0              0]\n",
      " [              0  2.6302219e-05              0              0              0              0              0]\n",
      " [              0              0   4.862663e-06              0              0              0              0]\n",
      " [              0              0              0  2.1479088e-05              0              0              0]\n",
      " [              0              0              0              0              2              0              0]\n",
      " [              0              0              0              0              0  4.1342282e-05              0]\n",
      " [              0              0              0              0              0              0   1.638741e-05]]]\n",
      "Info in <Minuit2>: MnSeedGenerator Initial state  \n",
      "  Minimum value : 1033475.152\n",
      "  Edm           : 0.001226589975\n",
      "  Internal parameters:\t[     0.4315594564     0.1160633315    -0.9454752832     -0.496898248    -0.3398370091     0.7239024455    -0.2132451199]\t\n",
      "  Internal gradient  :\t[     0.7263219326     -7.143971826      20.05379607     -6.899753969                0      3.535118056      1.083748048]\t\n",
      "  Internal covariance matrix:\n",
      "[[  9.4774225e-05              0              0              0              0              0              0]\n",
      " [              0  2.6302219e-05              0              0              0              0              0]\n",
      " [              0              0   4.862663e-06              0              0              0              0]\n",
      " [              0              0              0  2.1479088e-05              0              0              0]\n",
      " [              0              0              0              0              2              0              0]\n",
      " [              0              0              0              0              0  4.1342282e-05              0]\n",
      " [              0              0              0              0              0              0   1.638741e-05]]]\n",
      "Info in <Minuit2>: VariableMetricBuilder Start iterating until Edm is < 0.001 with call limit = 3500\n",
      "Info in <Minuit2>: VariableMetricBuilder    0 - FCN =       1033475.152 Edm =    0.001226589975 NCalls =     41\n",
      "Info in <Minuit2>: VariableMetricBuilder    1 - FCN =       1033475.151 Edm =   0.0001888598123 NCalls =     57\n",
      "Warning in <Minuit2>: MnHesse 2nd derivative zero for parameter shift ; MnHesse fails and will return diagonal matrix\n",
      "Info in <Minuit2>: VariableMetricBuilder After Hessian\n",
      "Info in <Minuit2>: VariableMetricBuilder    2 - FCN =       1033475.151 Edm =   0.0001888598123 NCalls =     70\n",
      "Warning in <Minuit2>: VariableMetricBuilder Invalid Hessian - exit the minimization\n",
      "Warning in <Minuit2>: Minuit2Minimizer::Minimize Minimization did NOT converge, Hesse is not valid\n",
      "Info in <Minuit2>: Minuit2Minimizer::Hesse Using max-calls 3500\n",
      "Warning in <Minuit2>: MnHesse 2nd derivative zero for parameter shift ; MnHesse fails and will return diagonal matrix\n",
      "Warning in <Minuit2>: Minuit2Minimizer::Hesse Hesse failed - matrix is full but not positive defined\n",
      "Warning in <Minuit2>: Minuit2Minimizer::Hesse 3\n",
      "Warning in <ROOT::Math::Fitter::CalculateHessErrors>: Error when calculating Hessian\n"
     ]
    }
   ],
   "source": [
    "import time\n",
    "\n",
    "start = time.time()\n",
    "roo_dataset = file.w.data(\"data_Zfit_no_e_cut_UL_calib_cat20\")\n",
    "roo_hist = rt.RooDataHist(\"data_hist\",\"binned version of roo_dataset\", rt.RooArgSet(mass), roo_dataset)  # copies binning from mass variable\n",
    "\n",
    "rt.EnableImplicitMT()\n",
    "model3.fitTo(roo_hist, EvalBackend =\"cpu\")\n",
    "\n",
    "\n",
    "end = time.time()\n",
    "print(f\"fitting elapsed time: {end - start}\")"
   ]
  },
  {
   "cell_type": "code",
   "execution_count": 8,
   "id": "0b9a9664-2cea-46eb-9494-a2b95d73618d",
   "metadata": {},
   "outputs": [
    {
     "name": "stdout",
     "output_type": "stream",
     "text": [
      "[#1] INFO:NumericIntegration -- RooRealIntegral::init(Voigtian_Int[mh_ggh]) using numeric integrator RooRombergIntegrator to calculate Int(mh_ggh)\n",
      "[#1] INFO:NumericIntegration -- RooRealIntegral::init([Exponential_X_erfc]_Norm[mh_ggh]_denominator_Int[mh_ggh]) using numeric integrator RooRombergIntegrator to calculate Int(mh_ggh)\n",
      "[#1] INFO:NumericIntegration -- RooRealIntegral::init(Voigtian_Int[mh_ggh]) using numeric integrator RooRombergIntegrator to calculate Int(mh_ggh)\n",
      "[#1] INFO:NumericIntegration -- RooRealIntegral::init([Exponential_X_erfc]_Norm[mh_ggh]_denominator_Int[mh_ggh]) using numeric integrator RooRombergIntegrator to calculate Int(mh_ggh)\n",
      "[#1] INFO:NumericIntegration -- RooRealIntegral::init(dummy_bkg_var_Int[mh_ggh]) using numeric integrator RooRombergIntegrator to calculate Int(mh_ggh)\n",
      "[#1] INFO:NumericIntegration -- RooRealIntegral::init([Exponential_X_erfc]_Norm[mh_ggh]_denominator_Int[mh_ggh]) using numeric integrator RooRombergIntegrator to calculate Int(mh_ggh)\n"
     ]
    },
    {
     "data": {
      "image/png": "[encoded data removed]",
      "text/plain": [
       "<IPython.core.display.Image object>"
      ]
     },
     "metadata": {},
     "output_type": "display_data"
    }
   ],
   "source": [
    "# file.w.pdf(\"Voigtian_ggh_All\").plotOn(frame)\n",
    "\n",
    "file.w.data(\"data_Zfit_no_e_cut_UL_calib_cat20\").plotOn(frame)\n",
    "model3.plotOn(frame, rt.RooFit.LineColor(rt.kGreen))\n",
    "model1.plotOn(frame, rt.RooFit.LineColor(rt.kRed))\n",
    "model2.plotOn(frame, rt.RooFit.LineColor(rt.kBlack))\n",
    "dummy_bkg_var.plotOn(frame, rt.RooFit.LineColor(rt.kBlue))\n",
    "\n",
    "frame.Draw()\n",
    "canvas.Update()\n",
    "canvas.Draw()\n"
   ]
  },
  {
   "cell_type": "code",
   "execution_count": null,
   "id": "641d21d5-9909-484f-b941-5972e1a11990",
   "metadata": {},
   "outputs": [],
   "source": []
  }
 ],
 "metadata": {
  "kernelspec": {
   "display_name": "Python [conda env:ROOT_test]",
   "language": "python",
   "name": "conda-env-ROOT_test-py"
  },
  "language_info": {
   "codemirror_mode": {
    "name": "ipython",
    "version": 3
   },
   "file_extension": ".py",
   "mimetype": "text/x-python",
   "name": "python",
   "nbconvert_exporter": "python",
   "pygments_lexer": "ipython3",
   "version": "3.10.14"
  }
 },
 "nbformat": 4,
 "nbformat_minor": 5
}
