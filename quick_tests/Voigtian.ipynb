{
 "cells": [
  {
   "cell_type": "code",
   "execution_count": 1,
   "id": "660534a0-db38-436b-930f-15429e2c404d",
   "metadata": {},
   "outputs": [
    {
     "name": "stdout",
     "output_type": "stream",
     "text": [
      "Welcome to JupyROOT 6.28/00\n"
     ]
    }
   ],
   "source": [
    "import ROOT as rt"
   ]
  },
  {
   "cell_type": "code",
   "execution_count": 2,
   "id": "3ab50b81-4b43-4fc8-8b1c-69adfec7acb3",
   "metadata": {},
   "outputs": [],
   "source": [
    "load_path = \"./fits/calib_fits/Voigtian/workspace_ggh_All_Zfit_no_e_cut_UL_calib_cat12.root\""
   ]
  },
  {
   "cell_type": "code",
   "execution_count": 3,
   "id": "bc3da023-e6f6-436c-9546-f9b7903c0d44",
   "metadata": {},
   "outputs": [],
   "source": [
    "file = rt.TFile.Open(load_path)"
   ]
  },
  {
   "cell_type": "code",
   "execution_count": 4,
   "id": "9d88e673-f2b1-40fa-bed6-1bbd1d95848b",
   "metadata": {},
   "outputs": [],
   "source": [
    "canvas = rt.TCanvas()\n",
    "canvas.cd()\n",
    "mass =  rt.RooRealVar(\"mh_ggh\",\"mass (GeV)\",100,81,101)\n",
    "frame = mass.frame()"
   ]
  },
  {
   "cell_type": "code",
   "execution_count": 5,
   "id": "dbcb5682-d860-46c5-9bf7-da4aa6646603",
   "metadata": {},
   "outputs": [],
   "source": [
    "\n",
    "bwWidth = rt.RooRealVar(\"bwz_Width\" , \"widthZ\", 2.5, 0, 30)\n",
    "bwmZ = rt.RooRealVar(\"bwz_mZ\" , \"mZ\", 91.2, 90, 92)\n",
    "sigma = rt.RooRealVar(\"sigma\" , \"sigma\", 2, 0.0, 5.0)\n",
    "\n",
    "bwWidth.setConstant(True)\n",
    "# bwmZ.setConstant(True)\n",
    "# sigma.setConstant(True)\n",
    "#bwmZ.setConstant(True)\n",
    "model1 = rt.RooVoigtian(\"Voigtian\" , \"Voigtian\",mass, bwmZ, bwWidth, sigma)\n",
    "\n",
    "c = rt.RooRealVar(\"c\", \"c\", -1.0, -10, -0.1)\n",
    "shift = rt.RooRealVar(\"shift\" , \"shift\", 91.2, 80, 105)\n",
    "shifted_mass = rt.RooFormulaVar(\"shifted_mass\", \"@0-@1\", rt.RooArgList(mass, shift))\n",
    "model2_1 = rt.RooExponential(\"Exponential\", \"Exponential\", shifted_mass,c)\n",
    "\n",
    "center = rt.RooRealVar(\"center\" , \"center\", 91.2, 80, 105)\n",
    "coeff = rt.RooRealVar(\"coeff\" , \"coeff\", 0.9, 0, 1)\n",
    "erfc_in = rt.RooFormulaVar(\"erfc_in\", \"(@2 - @0) * @1\", rt.RooArgList(mass, coeff, center)) \n",
    "# model2_2 = rt.RooFit.bindFunction(\"erfc\", rt.TMath.Erfc, (center-mass)*coeff)\n",
    "model2_2 = rt.RooFit.bindPdf(\"erfc\", rt.TMath.Erfc, erfc_in)\n",
    "model2 = rt.RooProdPdf(\"erfc_exp\", \"erfc_exp\", rt.RooArgList(model2_1, model2_2))\n",
    "sigfrac = rt.RooRealVar(\"sigfrac\", \"sigfrac\", 0.9, 0, 1.0)\n",
    "model3 = rt.RooAddPdf(\"model3\", \"model3\", rt.RooArgList(model1, model2),sigfrac)\n"
   ]
  },
  {
   "cell_type": "code",
   "execution_count": 6,
   "id": "bf427117-1393-4c02-af32-e62cd66b7284",
   "metadata": {},
   "outputs": [
    {
     "name": "stdout",
     "output_type": "stream",
     "text": [
      "RooProdPdf::erfc_exp[ Exponential * erfc ] = 0.000301466\n"
     ]
    }
   ],
   "source": [
    "model2.Print()"
   ]
  },
  {
   "cell_type": "code",
   "execution_count": null,
   "id": "fc9d7cec-1a97-4cff-9903-5fb84f27d608",
   "metadata": {},
   "outputs": [],
   "source": [
    "# minim = rt.RooMinimizer (model1)\n",
    "# minim.minimize(\"Minuit2\",\"migrad\");  \n",
    "model2_1.fitTo(file.w.data(\"data_Zfit_no_e_cut_UL_calib_cat20\"))\n"
   ]
  },
  {
   "cell_type": "code",
   "execution_count": 7,
   "id": "0b9a9664-2cea-46eb-9494-a2b95d73618d",
   "metadata": {},
   "outputs": [
    {
     "name": "stdout",
     "output_type": "stream",
     "text": [
      "[#1] INFO:NumericIntegration -- RooRealIntegral::init(Exponential_Int[mh_ggh]) using numeric integrator RooIntegrator1D to calculate Int(mh_ggh)\n"
     ]
    },
    {
     "data": {
      "image/png": "[encoded data removed]",
      "text/plain": [
       "<IPython.core.display.Image object>"
      ]
     },
     "metadata": {},
     "output_type": "display_data"
    }
   ],
   "source": [
    "\n",
    "# file.w.pdf(\"Voigtian_ggh_All\").plotOn(frame)\n",
    "# file.w.data(\"data_Zfit_no_e_cut_UL_calib_cat20\").plotOn(frame)\n",
    "# model3.plotOn(frame, rt.RooFit.LineColor(rt.kGreen))\n",
    "# model1.plotOn(frame, rt.RooFit.LineColor(rt.kRed))\n",
    "model2_1.plotOn(frame, rt.RooFit.LineColor(rt.kBlue))\n",
    "frame.Draw()\n",
    "canvas.Update()\n",
    "canvas.Draw()\n"
   ]
  },
  {
   "cell_type": "code",
   "execution_count": null,
   "id": "641d21d5-9909-484f-b941-5972e1a11990",
   "metadata": {},
   "outputs": [],
   "source": []
  }
 ],
 "metadata": {
  "kernelspec": {
   "display_name": "Python3 kernel (default)",
   "language": "python",
   "name": "python3"
  },
  "language_info": {
   "codemirror_mode": {
    "name": "ipython",
    "version": 3
   },
   "file_extension": ".py",
   "mimetype": "text/x-python",
   "name": "python",
   "nbconvert_exporter": "python",
   "pygments_lexer": "ipython3",
   "version": "3.10.10"
  }
 },
 "nbformat": 4,
 "nbformat_minor": 5
}
