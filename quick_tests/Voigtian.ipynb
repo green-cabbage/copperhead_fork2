{
 "cells": [
  {
   "cell_type": "code",
   "execution_count": 1,
   "id": "660534a0-db38-436b-930f-15429e2c404d",
   "metadata": {},
   "outputs": [
    {
     "name": "stdout",
     "output_type": "stream",
     "text": [
      "Welcome to JupyROOT 6.28/00\n"
     ]
    }
   ],
   "source": [
    "import ROOT as rt"
   ]
  },
  {
   "cell_type": "code",
   "execution_count": 2,
   "id": "3ab50b81-4b43-4fc8-8b1c-69adfec7acb3",
   "metadata": {},
   "outputs": [],
   "source": [
    "load_path = \"workspace/workspace_ggh_All_Zfit_no_e_cut_UL_calib_cat20.root\""
   ]
  },
  {
   "cell_type": "code",
   "execution_count": 3,
   "id": "bc3da023-e6f6-436c-9546-f9b7903c0d44",
   "metadata": {},
   "outputs": [],
   "source": [
    "file = rt.TFile.Open(load_path)"
   ]
  },
  {
   "cell_type": "code",
   "execution_count": 4,
   "id": "9d88e673-f2b1-40fa-bed6-1bbd1d95848b",
   "metadata": {},
   "outputs": [],
   "source": [
    "canvas = rt.TCanvas()\n",
    "canvas.cd()\n",
    "mass =  rt.RooRealVar(\"mh_ggh\",\"mass (GeV)\",100,81,101)\n",
    "mass.setBins(50) \n",
    "frame = mass.frame()"
   ]
  },
  {
   "cell_type": "code",
   "execution_count": 5,
   "id": "dbcb5682-d860-46c5-9bf7-da4aa6646603",
   "metadata": {},
   "outputs": [
    {
     "name": "stdout",
     "output_type": "stream",
     "text": [
      "[#0] WARNING:InputArguments -- RooProdPdf::addPdfs(dummy_bkg_var) list arg bkgfrac is not a PDF, ignored\n"
     ]
    }
   ],
   "source": [
    "\n",
    "bwWidth = rt.RooRealVar(\"bwz_Width\" , \"widthZ\", 2.5, 0, 30)\n",
    "bwmZ = rt.RooRealVar(\"bwz_mZ\" , \"mZ\", 91.2, 90, 92)\n",
    "sigma = rt.RooRealVar(\"sigma\" , \"sigma\", 2, 0.0, 5.0)\n",
    "\n",
    "bwWidth.setConstant(True)\n",
    "# bwmZ.setConstant(True)\n",
    "# sigma.setConstant(True)\n",
    "#bwmZ.setConstant(True)\n",
    "\n",
    "model1 = rt.RooVoigtian(\"Voigtian\" , \"Voigtian\",mass, bwmZ, bwWidth, sigma)\n",
    "\n",
    "exp_coeff = rt.RooRealVar(\"exp_coeff\", \"exp_coeff\", 0.01, 0.00000001, 1) # positve coeff to get the peak shape we want \n",
    "# exp_coeff = rt.RooRealVar(\"exp_coeff\", \"exp_coeff\", -0.01, -1, -0.00000001)\n",
    "shift = rt.RooRealVar(\"shift\", \"Offset\", 85, 75, 105)\n",
    "shifted_mass = rt.RooFormulaVar(\"shifted_mass\", \"@0-@1\", rt.RooArgList(mass, shift))\n",
    "model2_1 = rt.RooExponential(\"Exponential\", \"Exponential\", shifted_mass,exp_coeff)\n",
    "\n",
    "center = rt.RooRealVar(\"center\" , \"center\", 91.2, 75, 105)\n",
    "erfc_coeff = rt.RooRealVar(\"erfc_coeff\" , \"erfc_coeff\", 0.01, 0, 1.5)\n",
    "erfc_in = rt.RooFormulaVar(\"erfc_in\", \"(@0 - @2) * @1\", rt.RooArgList(mass, erfc_coeff, center)) \n",
    "model2_2 = rt.RooFit.bindPdf(\"erfc\", rt.TMath.Erfc, erfc_in)\n",
    "\n",
    "\n",
    "model2 = rt.RooProdPdf(\"erfc_exp\", \"erfc_exp\", rt.RooArgList(model2_1, model2_2))\n",
    "sigfrac = rt.RooRealVar(\"sigfrac\", \"sigfrac\", 0.9, 0, 1.0)\n",
    "model3 = rt.RooAddPdf(\"model3\", \"model3\", rt.RooArgList(model1, model2),sigfrac)\n",
    "\n",
    "bkgfrac = rt.RooFormulaVar(\"bkgfrac\", \"(1 - @0)\", rt.RooArgList(sigfrac)) \n",
    "dummy_bkg_var = rt.RooProdPdf(\"dummy_bkg_var\", \"dummy_bkg_var\", rt.RooArgList(bkgfrac, model2))  # pdf model just for plotting bkg on the plot with bkgfrac\n"
   ]
  },
  {
   "cell_type": "code",
   "execution_count": null,
   "id": "fc9d7cec-1a97-4cff-9903-5fb84f27d608",
   "metadata": {
    "scrolled": true
   },
   "outputs": [],
   "source": [
    "import time\n",
    "\n",
    "start = time.time()\n",
    "roo_dataset = file.w.data(\"data_Zfit_no_e_cut_UL_calib_cat20\")\n",
    "rt.EnableImplicitMT()\n",
    "# model2_1.fitTo(roo_dataset, rt.RooFit.BatchMode(\"cpu\"), Minos=True)\n",
    "model3.fitTo(roo_dataset, rt.RooFit.BatchMode(\"cpu\"))\n",
    "# model2.fitTo(roo_dataset, rt.RooFit.BatchMode(\"cpu\"))\n",
    "\n",
    "\n",
    "end = time.time()\n",
    "print(f\"fitting elapsed time: {end - start}\")"
   ]
  },
  {
   "cell_type": "code",
   "execution_count": null,
   "id": "0b9a9664-2cea-46eb-9494-a2b95d73618d",
   "metadata": {},
   "outputs": [],
   "source": [
    "# file.w.pdf(\"Voigtian_ggh_All\").plotOn(frame)\n",
    "\n",
    "file.w.data(\"data_Zfit_no_e_cut_UL_calib_cat20\").plotOn(frame)\n",
    "model3.plotOn(frame, rt.RooFit.LineColor(rt.kGreen))\n",
    "model1.plotOn(frame, rt.RooFit.LineColor(rt.kRed))\n",
    "model2.plotOn(frame, rt.RooFit.LineColor(rt.kBlack))\n",
    "dummy_bkg_var.plotOn(frame, rt.RooFit.LineColor(rt.kBlue))\n",
    "# model2_2.plotOn(frame, rt.RooFit.LineColor(rt.kRed))\n",
    "frame.Draw()\n",
    "canvas.Update()\n",
    "canvas.Draw()\n"
   ]
  },
  {
   "cell_type": "code",
   "execution_count": null,
   "id": "641d21d5-9909-484f-b941-5972e1a11990",
   "metadata": {},
   "outputs": [],
   "source": []
  }
 ],
 "metadata": {
  "kernelspec": {
   "display_name": "Python3 kernel (default)",
   "language": "python",
   "name": "python3"
  },
  "language_info": {
   "codemirror_mode": {
    "name": "ipython",
    "version": 3
   },
   "file_extension": ".py",
   "mimetype": "text/x-python",
   "name": "python",
   "nbconvert_exporter": "python",
   "pygments_lexer": "ipython3",
   "version": "3.10.10"
  }
 },
 "nbformat": 4,
 "nbformat_minor": 5
}
