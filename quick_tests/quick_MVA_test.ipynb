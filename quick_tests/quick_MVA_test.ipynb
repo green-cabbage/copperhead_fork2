{
 "cells": [
  {
   "cell_type": "code",
   "execution_count": 1,
   "id": "9a6b4707-b840-4aa4-a822-13cf58351977",
   "metadata": {},
   "outputs": [],
   "source": [
    "import numpy as np\n",
    "import pickle\n",
    "import awkward as ak\n",
    "import dask_awkward as dak\n",
    "from distributed import Client"
   ]
  },
  {
   "cell_type": "code",
   "execution_count": 2,
   "id": "95d0296e-2a98-479f-9abd-b42d6994caa7",
   "metadata": {},
   "outputs": [
    {
     "name": "stderr",
     "output_type": "stream",
     "text": [
      "/depot/cms/kernels/coffea2024/lib/python3.10/site-packages/distributed/node.py:182: UserWarning: Port 8787 is already in use.\n",
      "Perhaps you already have a cluster running?\n",
      "Hosting the HTTP server on port 39715 instead\n",
      "  warnings.warn(\n"
     ]
    }
   ],
   "source": [
    "client =  Client(n_workers=31,  threads_per_worker=1, processes=True, memory_limit='4 GiB') "
   ]
  },
  {
   "cell_type": "code",
   "execution_count": 73,
   "id": "37dbc41d-8eff-456a-a3f6-eb0c7f18f844",
   "metadata": {},
   "outputs": [],
   "source": [
    "load_path = \"/depot/cms/users/yun79/results/stage1/test_VBF-filter_JECon_07June2024/2018/f1_0/\"\n",
    "full_load_path = load_path+f\"/data_C/*/*.parquet\"\n",
    "events = dak.from_parquet(full_load_path)\n",
    "# print(events.fields)\n",
    "# only select specific fields to load to save run time\n",
    "events[\"dimuon_dEta\"] = np.abs(events.mu1_pt -events.mu2_pt)\n",
    "events[\"dimuon_pt_log\"] = np.log(events.dimuon_pt)\n",
    "events[\"jj_mass_log\"] = np.log(events.jj_mass)\n",
    "events[\"ll_zstar_log\"] = np.log(events.ll_zstar)\n",
    "events[\"mu1_pt_over_mass\"] = events.mu1_pt / events.dimuon_mass\n",
    "events[\"mu2_pt_over_mass\"] = events.mu2_pt / events.dimuon_mass\n",
    "\n",
    "\n",
    "training_features = [\n",
    "    'dimuon_cos_theta_cs', 'dimuon_dEta', 'dimuon_dPhi', 'dimuon_dR', 'dimuon_eta', 'dimuon_phi', 'dimuon_phi_cs', 'dimuon_pt', \n",
    "    'dimuon_pt_log', 'jet1_eta', 'jet1_phi', 'jet1_pt', 'jet1_qgl', 'jet2_eta', 'jet2_phi', \n",
    "    'jet2_pt', 'jet2_qgl', 'jj_dEta', 'jj_dPhi', 'jj_eta', 'jj_mass', 'jj_mass_log', \n",
    "    'jj_phi', 'jj_pt', 'll_zstar_log', 'mmj1_dEta', 'mmj1_dPhi', 'mmj2_dEta', 'mmj2_dPhi', \n",
    "    'mmj_min_dEta', 'mmj_min_dPhi', 'mmjj_eta', 'mmjj_mass', 'mmjj_phi', 'mmjj_pt', 'mu1_eta', 'mu1_iso', \n",
    "    'mu1_phi', 'mu1_pt_over_mass', 'mu2_eta', 'mu2_iso', 'mu2_phi', 'mu2_pt_over_mass', 'zeppenfeld'\n",
    "]\n",
    "for training_feature in training_features:\n",
    "    if training_feature not in events.fields:\n",
    "        print(f\"mssing feature: {training_feature}\")\n",
    "\n",
    "fields2load = training_features + [\"h_peak\", \"h_sidebands\", \"dimuon_mass\"]\n",
    "events = events[fields2load]\n",
    "# load data to memory using compute()\n",
    "events = ak.zip({\n",
    "    field : events[field] for field in events.fields\n",
    "}).compute()"
   ]
  },
  {
   "cell_type": "code",
   "execution_count": 150,
   "id": "029bf1fd-e9a3-4cd3-a383-40408ae97701",
   "metadata": {},
   "outputs": [],
   "source": [
    "def prepare_features(df, training_features, variation=\"nominal\", add_year=False):\n",
    "    #global training_features\n",
    "    if add_year:\n",
    "        features = training_features + [\"year\"]\n",
    "    else:\n",
    "        features = training_features\n",
    "    features_var = []\n",
    "    #print(features)\n",
    "    for trf in features:\n",
    "        if f\"{trf}_{variation}\" in df.fields:\n",
    "            features_var.append(f\"{trf}_{variation}\")\n",
    "        elif trf in df.fields:\n",
    "            features_var.append(trf)\n",
    "        else:\n",
    "            print(f\"Variable {trf} not found in training dataframe!\")\n",
    "    return features_var\n",
    "\n",
    "    \n",
    "\n",
    "def evaluate_bdt(df, variation, model, parameters):\n",
    "\n",
    "    # filter out events neither h_peak nor h_sidebands\n",
    "    row_filter = (df.h_peak != 0) | (df.h_sidebands != 0)\n",
    "    df = df[row_filter]\n",
    "    \n",
    "    # training_features = ['dimuon_cos_theta_cs', 'dimuon_dEta', 'dimuon_dPhi', 'dimuon_dR', 'dimuon_eta', 'dimuon_phi', 'dimuon_phi_cs', 'dimuon_pt', 'dimuon_pt_log', 'jet1_eta_nominal', 'jet1_phi_nominal', 'jet1_pt_nominal', 'jet1_qgl_nominal', 'jet2_eta_nominal', 'jet2_phi_nominal', 'jet2_pt_nominal', 'jet2_qgl_nominal', 'jj_dEta_nominal', 'jj_dPhi_nominal', 'jj_eta_nominal', 'jj_mass_nominal', 'jj_mass_log_nominal', 'jj_phi_nominal', 'jj_pt_nominal', 'll_zstar_log_nominal', 'mmj1_dEta_nominal', 'mmj1_dPhi_nominal', 'mmj2_dEta_nominal', 'mmj2_dPhi_nominal', 'mmj_min_dEta_nominal', 'mmj_min_dPhi_nominal', 'mmjj_eta_nominal', 'mmjj_mass_nominal', 'mmjj_phi_nominal', 'mmjj_pt_nominal', 'mu1_eta', 'mu1_iso', 'mu1_phi', 'mu1_pt_over_mass', 'mu2_eta', 'mu2_iso', 'mu2_phi', 'mu2_pt_over_mass', 'zeppenfeld_nominal']\n",
    "    training_features = [\n",
    "        'dimuon_cos_theta_cs', 'dimuon_dEta', 'dimuon_dPhi', 'dimuon_dR', 'dimuon_eta', 'dimuon_phi', 'dimuon_phi_cs', 'dimuon_pt', \n",
    "        'dimuon_pt_log', 'jet1_eta', 'jet1_phi', 'jet1_pt', 'jet1_qgl', 'jet2_eta', 'jet2_phi', \n",
    "        'jet2_pt', 'jet2_qgl', 'jj_dEta', 'jj_dPhi', 'jj_eta', 'jj_mass', 'jj_mass_log', \n",
    "        'jj_phi', 'jj_pt', 'll_zstar_log', 'mmj1_dEta', 'mmj1_dPhi', 'mmj2_dEta', 'mmj2_dPhi', \n",
    "        'mmj_min_dEta', 'mmj_min_dPhi', 'mmjj_eta', 'mmjj_mass', 'mmjj_phi', 'mmjj_pt', 'mu1_eta', 'mu1_iso', \n",
    "        'mu1_phi', 'mu1_pt_over_mass', 'mu2_eta', 'mu2_iso', 'mu2_phi', 'mu2_pt_over_mass', 'zeppenfeld'\n",
    "    ]\n",
    "\n",
    "    \n",
    "    # df['mu1_pt_over_mass'] = df['mu1_pt']/df['dimuon_mass']\n",
    "    # df['mu2_pt_over_mass'] = df['mu2_pt']/df['dimuon_mass']\n",
    "    # df['njets'] = ak.fill_none(df['njets'], value=0)\n",
    "\n",
    "    #df[df['njets_nominal']<2]['jj_dPhi_nominal'] = -1\n",
    "    none_val = -99.0\n",
    "    for field in df.fields:\n",
    "        df[field] = ak.fill_none(df[field], value= none_val)\n",
    "        inf_cond = (np.inf == df[field]) | (-np.inf == df[field]) \n",
    "        df[field] = ak.where(inf_cond, none_val, df[field])\n",
    "        \n",
    "    # print(f\"df.h_peak: {df.h_peak}\")\n",
    "    print(f\"sum df.h_peak: {ak.sum(df.h_peak)}\")\n",
    "    # overwrite dimuon mass for regions not in h_peak\n",
    "    not_h_peak = (df.h_peak ==0)\n",
    "    df[\"dimuon_mass\"] = ak.where(not_h_peak, 125.0,  df[\"dimuon_mass\"])\n",
    "    \n",
    "\n",
    "\n",
    "    # idk why mmj variables are overwritten something to double chekc later\n",
    "    df['mmj_min_dEta'] = df[\"mmj2_dEta\"]\n",
    "    df['mmj_min_dPhi'] = df[\"mmj2_dPhi\"]\n",
    "\n",
    "    # temporary definition of even bc I don't have it\n",
    "    if \"event\" not in df.fields:\n",
    "        df[\"event\"] = np.arange(len(df.dimuon_pt))\n",
    "    \n",
    "    features = prepare_features(df,training_features, variation=variation, add_year=False)\n",
    "    # features = training_features\n",
    "    #model = f\"{model}_{parameters['years'][0]}\"\n",
    "    score_name = f\"score_{model}_{variation}\"\n",
    "\n",
    "    # df.loc[:, score_name] = 0\n",
    "    score_total = np.zeros(len(df['dimuon_pt']))\n",
    "    \n",
    "    nfolds = 4\n",
    "    \n",
    "    for i in range(nfolds):\n",
    "        # eval_folds are the list of test dataset chunks that each bdt is trained to evaluate\n",
    "        eval_folds = [(i + f) % nfolds for f in [3]]\n",
    "        # eval_filter = df.event.mod(nfolds).isin(eval_folds)\n",
    "        eval_filter = (df.event % nfolds ) == (np.array(eval_folds) * ak.ones_like(df.event))\n",
    "        scalers_path = f\"{parameters['models_path']}/{model}/scalers_{model}_{i}.npy\"\n",
    "        scalers = np.load(scalers_path, allow_pickle=True)\n",
    "        model_path = f\"{parameters['models_path']}/{model}/{model}_{i}.pkl\"\n",
    "\n",
    "        bdt_model = pickle.load(open(model_path, \"rb\"))\n",
    "        df_i = df[eval_filter]\n",
    "        # print(f\"df_i: {len(df_i)}\")\n",
    "        # print(len\n",
    "        if len(df_i) == 0:\n",
    "            continue\n",
    "        # df_i.loc[df_i.region != \"h-peak\", \"dimuon_mass\"] = 125.0\n",
    "        print(f\"scalers: {scalers.shape}\")\n",
    "        print(f\"df_i: {df_i}\")\n",
    "        df_i_feat = df_i[features]\n",
    "        df_i_feat = np.transpose(np.array(ak.unzip(df_i_feat)))\n",
    "        print(f\"df_i_feat[:,0]: {df_i_feat[:,0]}\")\n",
    "        print(f'df_i.dimuon_cos_theta_cs: {df_i.dimuon_cos_theta_cs}')\n",
    "        # print(f\"type df_i_feat: {type(df_i_feat)}\")\n",
    "        # print(f\"df_i_feat: {df_i_feat.shape}\")\n",
    "        df_i_feat = ak.Array(df_i_feat)\n",
    "        df_i = (df_i_feat - scalers[0]) / scalers[1]\n",
    "        if len(df_i) > 0:\n",
    "            print(f\"model: {model}\")\n",
    "            prediction = np.array(\n",
    "                # bdt_model.predict_proba(df_i.values)[:, 1]\n",
    "                bdt_model.predict_proba(df_i_feat)[:, 1]\n",
    "            ).ravel()\n",
    "            print(f\"prediction: {prediction}\")\n",
    "            # df.loc[eval_filter, score_name] = prediction  # np.arctanh((prediction))\n",
    "            # score_total = ak.where(eval_filter, prediction, score_total)\n",
    "            score_total[eval_filter] = prediction\n",
    "\n",
    "    df[score_name] = score_total\n"
   ]
  },
  {
   "cell_type": "code",
   "execution_count": 151,
   "id": "d50670c9-46d2-4341-845b-2c707792e3c0",
   "metadata": {
    "scrolled": true
   },
   "outputs": [
    {
     "name": "stdout",
     "output_type": "stream",
     "text": [
      "sum df.h_peak: 48189.0\n",
      "scalers: (2, 44)\n",
      "df_i: [{dimuon_cos_theta_cs: 0.354, dimuon_dEta: 4.29, dimuon_dPhi: 3.1, ...}, ...]\n",
      "df_i_feat[:,0]: [ 0.35435563 -0.10842115 -0.54481355 ...  0.08182983  0.42116876\n",
      "  0.62660962]\n",
      "df_i.dimuon_cos_theta_cs: [0.354, -0.108, -0.545, -0.506, -0.508, ..., -0.625, 0.0818, 0.421, 0.627]\n",
      "model: BDTperyear_2018\n",
      "prediction: [0.77363807 0.593635   0.63272965 ... 0.70502794 0.56977725 0.719272  ]\n",
      "scalers: (2, 44)\n",
      "df_i: [{dimuon_cos_theta_cs: -0.737, dimuon_dEta: 1.26, dimuon_dPhi: 2.26, ...}, ...]\n",
      "df_i_feat[:,0]: [-0.7369038   0.82394168  0.68077013 ...  0.03751018 -0.16038117\n",
      " -0.63662468]\n",
      "df_i.dimuon_cos_theta_cs: [-0.737, 0.824, 0.681, -0.24, -0.22, ..., -0.616, -0.457, 0.0375, -0.16, -0.637]\n",
      "model: BDTperyear_2018\n",
      "prediction: [0.8775722  0.9002744  0.9249181  ... 0.20297077 0.8147608  0.95206064]\n",
      "scalers: (2, 44)\n",
      "df_i: [{dimuon_cos_theta_cs: 0.0452, dimuon_dEta: 7.62, dimuon_dPhi: 3.08, ...}, ...]\n",
      "df_i_feat[:,0]: [ 0.04517343  0.5699618  -0.5313955  ...  0.72485389 -0.57832169\n",
      "  0.20993233]\n",
      "df_i.dimuon_cos_theta_cs: [0.0452, 0.57, -0.531, 0.714, 0.599, ..., 0.27, -0.0447, 0.725, -0.578, 0.21]\n",
      "model: BDTperyear_2018\n",
      "prediction: [0.85935944 0.7433051  0.7621328  ... 0.77498484 0.765911   0.86016685]\n",
      "scalers: (2, 44)\n",
      "df_i: [{dimuon_cos_theta_cs: 0.89, dimuon_dEta: 7.96, dimuon_dPhi: 2.58, ...}, ...]\n",
      "df_i_feat[:,0]: [ 0.88981634 -0.67738675  0.81119089 ...  0.56991503 -0.98533076\n",
      " -0.29509242]\n",
      "df_i.dimuon_cos_theta_cs: [0.89, -0.677, 0.811, 0.0911, 0.594, ..., -0.371, -0.118, 0.57, -0.985, -0.295]\n",
      "model: BDTperyear_2018\n",
      "prediction: [0.06089002 0.16283584 0.7177411  ... 0.56104183 0.7090009  0.7664032 ]\n"
     ]
    }
   ],
   "source": [
    "parameters = {\n",
    "    \"models_path\" : \"/depot/cms/hmm/vscheure/data/trained_models/\"\n",
    "}\n",
    "# model_name = \"BDTv12_2018\"\n",
    "# model_name = \"phifixedBDT_2018\"\n",
    "model_name = \"BDTperyear_2018\"\n",
    "\n",
    "evaluate_bdt(events, \"nominal\", model_name, parameters)"
   ]
  },
  {
   "cell_type": "code",
   "execution_count": 2,
   "id": "d0bf9cd8-c8a1-4c7e-8f2a-25cb1cca453d",
   "metadata": {},
   "outputs": [],
   "source": [
    "model_path = \"/depot/cms/hmm/vscheure/data/trained_models/BDTv12_2018/BDTv12_2018_0.pkl\"\n",
    "bdt_model = pickle.load(open(model_path, \"rb\"))"
   ]
  },
  {
   "cell_type": "code",
   "execution_count": null,
   "id": "472cdffb-f3bf-4d68-afdc-2baf7a4d42f3",
   "metadata": {},
   "outputs": [],
   "source": [
    "bdt_model"
   ]
  },
  {
   "cell_type": "code",
   "execution_count": 4,
   "id": "afa62f8c-9fac-4dab-b505-fb500ac01091",
   "metadata": {},
   "outputs": [
    {
     "data": {
      "text/plain": [
       "xgboost.sklearn.XGBClassifier"
      ]
     },
     "execution_count": 4,
     "metadata": {},
     "output_type": "execute_result"
    }
   ],
   "source": [
    "type(bdt_model)"
   ]
  },
  {
   "cell_type": "code",
   "execution_count": 5,
   "id": "ae6ae25f-574c-44f8-9cee-c0fec190f95e",
   "metadata": {},
   "outputs": [],
   "source": [
    "bdt_model.save_model(\"model-0.json\")\n",
    "\n",
    "# dump model with feature map\n",
    "bdt_model.get_booster().dump_model(\"dump.nice.txt\")"
   ]
  },
  {
   "cell_type": "code",
   "execution_count": 4,
   "id": "28020e3e-6be8-4c23-8945-b7f20cd8a7a2",
   "metadata": {},
   "outputs": [],
   "source": [
    "# ! pip list\n"
   ]
  },
  {
   "cell_type": "code",
   "execution_count": 7,
   "id": "20fe3495-616a-42ed-822c-74148c926a19",
   "metadata": {},
   "outputs": [],
   "source": []
  },
  {
   "cell_type": "code",
   "execution_count": 21,
   "id": "39c5cf36-d0dc-4a88-ad63-980676ff4e0b",
   "metadata": {},
   "outputs": [
    {
     "name": "stdout",
     "output_type": "stream",
     "text": [
      "[3]\n",
      "True\n",
      "[0]\n",
      "True\n",
      "[1]\n",
      "True\n",
      "[2]\n",
      "True\n"
     ]
    }
   ],
   "source": [
    "import pandas as pd\n",
    "nfolds = 4\n",
    "test_df = pd.DataFrame(np.arange(100), columns=[\"event\"])\n",
    "for i in range(nfolds):\n",
    "    # eval_folds are the list of test dataset chunks that each bdt is trained to evaluate\n",
    "    eval_folds = [(i + f) % nfolds for f in [3]]\n",
    "    print(eval_folds)\n",
    "    eval_filter = test_df.event.mod(nfolds).isin(eval_folds)\n",
    "    # print(f\"eval_filter : {eval_filter}\")\n",
    "    eval_filter2 = (test_df.event % nfolds ) == (np.array(eval_folds) * np.ones_like(test_df.event))\n",
    "    # print(f\"eval_filter2 : {eval_filter2}\")\n",
    "    print(np.all(eval_filter == eval_filter2))"
   ]
  },
  {
   "cell_type": "code",
   "execution_count": 12,
   "id": "6cddb4ac-d755-45d8-82a0-4bfb55c357b3",
   "metadata": {},
   "outputs": [
    {
     "data": {
      "text/html": [
       "<div>\n",
       "<style scoped>\n",
       "    .dataframe tbody tr th:only-of-type {\n",
       "        vertical-align: middle;\n",
       "    }\n",
       "\n",
       "    .dataframe tbody tr th {\n",
       "        vertical-align: top;\n",
       "    }\n",
       "\n",
       "    .dataframe thead th {\n",
       "        text-align: right;\n",
       "    }\n",
       "</style>\n",
       "<table border=\"1\" class=\"dataframe\">\n",
       "  <thead>\n",
       "    <tr style=\"text-align: right;\">\n",
       "      <th></th>\n",
       "      <th>0</th>\n",
       "    </tr>\n",
       "  </thead>\n",
       "  <tbody>\n",
       "    <tr>\n",
       "      <th>0</th>\n",
       "      <td>0</td>\n",
       "    </tr>\n",
       "    <tr>\n",
       "      <th>1</th>\n",
       "      <td>1</td>\n",
       "    </tr>\n",
       "    <tr>\n",
       "      <th>2</th>\n",
       "      <td>2</td>\n",
       "    </tr>\n",
       "    <tr>\n",
       "      <th>3</th>\n",
       "      <td>3</td>\n",
       "    </tr>\n",
       "    <tr>\n",
       "      <th>4</th>\n",
       "      <td>4</td>\n",
       "    </tr>\n",
       "    <tr>\n",
       "      <th>...</th>\n",
       "      <td>...</td>\n",
       "    </tr>\n",
       "    <tr>\n",
       "      <th>95</th>\n",
       "      <td>95</td>\n",
       "    </tr>\n",
       "    <tr>\n",
       "      <th>96</th>\n",
       "      <td>96</td>\n",
       "    </tr>\n",
       "    <tr>\n",
       "      <th>97</th>\n",
       "      <td>97</td>\n",
       "    </tr>\n",
       "    <tr>\n",
       "      <th>98</th>\n",
       "      <td>98</td>\n",
       "    </tr>\n",
       "    <tr>\n",
       "      <th>99</th>\n",
       "      <td>99</td>\n",
       "    </tr>\n",
       "  </tbody>\n",
       "</table>\n",
       "<p>100 rows × 1 columns</p>\n",
       "</div>"
      ],
      "text/plain": [
       "     0\n",
       "0    0\n",
       "1    1\n",
       "2    2\n",
       "3    3\n",
       "4    4\n",
       "..  ..\n",
       "95  95\n",
       "96  96\n",
       "97  97\n",
       "98  98\n",
       "99  99\n",
       "\n",
       "[100 rows x 1 columns]"
      ]
     },
     "execution_count": 12,
     "metadata": {},
     "output_type": "execute_result"
    }
   ],
   "source": [
    "test_df"
   ]
  },
  {
   "cell_type": "code",
   "execution_count": 16,
   "id": "bd24e968-42c9-45b9-9975-fdd455ac1c1f",
   "metadata": {},
   "outputs": [
    {
     "data": {
      "text/plain": [
       "3"
      ]
     },
     "execution_count": 16,
     "metadata": {},
     "output_type": "execute_result"
    }
   ],
   "source": [
    "95 % 4\n"
   ]
  },
  {
   "cell_type": "code",
   "execution_count": 56,
   "id": "a65cbfeb-5ed7-468c-9746-cc2ce83ba8b5",
   "metadata": {},
   "outputs": [
    {
     "data": {
      "text/plain": [
       "inf"
      ]
     },
     "execution_count": 56,
     "metadata": {},
     "output_type": "execute_result"
    }
   ],
   "source": [
    "np.inf"
   ]
  },
  {
   "cell_type": "code",
   "execution_count": 90,
   "id": "6d4485e6-9da7-4b0a-8e25-eaff70623025",
   "metadata": {},
   "outputs": [
    {
     "data": {
      "text/plain": [
       "awkward.highlevel.Array"
      ]
     },
     "execution_count": 90,
     "metadata": {},
     "output_type": "execute_result"
    }
   ],
   "source": [
    "type(ak.Array([[2,2],[1]]))"
   ]
  },
  {
   "cell_type": "code",
   "execution_count": 89,
   "id": "ebf0fff4-e5b1-48d4-977b-da18498cd98e",
   "metadata": {},
   "outputs": [
    {
     "data": {
      "text/html": [
       "<pre>[[2, 2],\n",
       " [1]]\n",
       "---------------------\n",
       "type: 2 * var * int64</pre>"
      ],
      "text/plain": [
       "<Array [[2, 2], [1]] type='2 * var * int64'>"
      ]
     },
     "execution_count": 89,
     "metadata": {},
     "output_type": "execute_result"
    }
   ],
   "source": [
    "ak.Array([[2,2],[1]])"
   ]
  },
  {
   "cell_type": "code",
   "execution_count": 120,
   "id": "4c5f0ae3-4e84-488c-894b-5d1e826ca7ed",
   "metadata": {
    "scrolled": true
   },
   "outputs": [
    {
     "ename": "ValueError",
     "evalue": "Content.to_nplike cannot convert 'None' values to np.ma.MaskedArray unless the 'allow_missing' parameter is set to True\n\nThis error occurred while calling\n\n    numpy.asarray(\n        <Array [None, None, -0.536, ..., None, None] type='5253810 * ?float32'>\n        dtype = None\n    )",
     "output_type": "error",
     "traceback": [
      "\u001b[0;31m---------------------------------------------------------------------------\u001b[0m",
      "\u001b[0;31mValueError\u001b[0m                                Traceback (most recent call last)",
      "File \u001b[0;32m/depot/cms/kernels/coffea2024/lib/python3.10/site-packages/awkward/highlevel.py:1439\u001b[0m, in \u001b[0;36mArray.__array__\u001b[0;34m(self, dtype)\u001b[0m\n\u001b[1;32m   1437\u001b[0m \u001b[38;5;28;01mfrom\u001b[39;00m \u001b[38;5;21;01mawkward\u001b[39;00m\u001b[38;5;21;01m.\u001b[39;00m\u001b[38;5;21;01m_connect\u001b[39;00m\u001b[38;5;21;01m.\u001b[39;00m\u001b[38;5;21;01mnumpy\u001b[39;00m \u001b[38;5;28;01mimport\u001b[39;00m convert_to_array\n\u001b[0;32m-> 1439\u001b[0m \u001b[38;5;28;01mreturn\u001b[39;00m \u001b[43mconvert_to_array\u001b[49m\u001b[43m(\u001b[49m\u001b[38;5;28;43mself\u001b[39;49m\u001b[38;5;241;43m.\u001b[39;49m\u001b[43m_layout\u001b[49m\u001b[43m,\u001b[49m\u001b[43m \u001b[49m\u001b[43mdtype\u001b[49m\u001b[38;5;241;43m=\u001b[39;49m\u001b[43mdtype\u001b[49m\u001b[43m)\u001b[49m\n",
      "File \u001b[0;32m/depot/cms/kernels/coffea2024/lib/python3.10/site-packages/awkward/_connect/numpy.py:481\u001b[0m, in \u001b[0;36mconvert_to_array\u001b[0;34m(layout, dtype)\u001b[0m\n\u001b[1;32m    480\u001b[0m \u001b[38;5;28;01mdef\u001b[39;00m \u001b[38;5;21mconvert_to_array\u001b[39m(layout, dtype\u001b[38;5;241m=\u001b[39m\u001b[38;5;28;01mNone\u001b[39;00m):\n\u001b[0;32m--> 481\u001b[0m     out \u001b[38;5;241m=\u001b[39m \u001b[43mak\u001b[49m\u001b[38;5;241;43m.\u001b[39;49m\u001b[43moperations\u001b[49m\u001b[38;5;241;43m.\u001b[39;49m\u001b[43mto_numpy\u001b[49m\u001b[43m(\u001b[49m\u001b[43mlayout\u001b[49m\u001b[43m,\u001b[49m\u001b[43m \u001b[49m\u001b[43mallow_missing\u001b[49m\u001b[38;5;241;43m=\u001b[39;49m\u001b[38;5;28;43;01mFalse\u001b[39;49;00m\u001b[43m)\u001b[49m\n\u001b[1;32m    482\u001b[0m     \u001b[38;5;28;01mif\u001b[39;00m dtype \u001b[38;5;129;01mis\u001b[39;00m \u001b[38;5;28;01mNone\u001b[39;00m:\n",
      "File \u001b[0;32m/depot/cms/kernels/coffea2024/lib/python3.10/site-packages/awkward/_dispatch.py:64\u001b[0m, in \u001b[0;36mnamed_high_level_function.<locals>.dispatch\u001b[0;34m(*args, **kwargs)\u001b[0m\n\u001b[1;32m     63\u001b[0m \u001b[38;5;28;01mtry\u001b[39;00m:\n\u001b[0;32m---> 64\u001b[0m     \u001b[38;5;28;43mnext\u001b[39;49m\u001b[43m(\u001b[49m\u001b[43mgen_or_result\u001b[49m\u001b[43m)\u001b[49m\n\u001b[1;32m     65\u001b[0m \u001b[38;5;28;01mexcept\u001b[39;00m \u001b[38;5;167;01mStopIteration\u001b[39;00m \u001b[38;5;28;01mas\u001b[39;00m err:\n",
      "File \u001b[0;32m/depot/cms/kernels/coffea2024/lib/python3.10/site-packages/awkward/operations/ak_to_numpy.py:48\u001b[0m, in \u001b[0;36mto_numpy\u001b[0;34m(array, allow_missing)\u001b[0m\n\u001b[1;32m     47\u001b[0m \u001b[38;5;66;03m# Implementation\u001b[39;00m\n\u001b[0;32m---> 48\u001b[0m \u001b[38;5;28;01mreturn\u001b[39;00m \u001b[43m_impl\u001b[49m\u001b[43m(\u001b[49m\u001b[43marray\u001b[49m\u001b[43m,\u001b[49m\u001b[43m \u001b[49m\u001b[43mallow_missing\u001b[49m\u001b[43m)\u001b[49m\n",
      "File \u001b[0;32m/depot/cms/kernels/coffea2024/lib/python3.10/site-packages/awkward/operations/ak_to_numpy.py:60\u001b[0m, in \u001b[0;36m_impl\u001b[0;34m(array, allow_missing)\u001b[0m\n\u001b[1;32m     58\u001b[0m numpy_layout \u001b[38;5;241m=\u001b[39m layout\u001b[38;5;241m.\u001b[39mto_backend(backend)\n\u001b[0;32m---> 60\u001b[0m \u001b[38;5;28;01mreturn\u001b[39;00m \u001b[43mnumpy_layout\u001b[49m\u001b[38;5;241;43m.\u001b[39;49m\u001b[43mto_backend_array\u001b[49m\u001b[43m(\u001b[49m\u001b[43mallow_missing\u001b[49m\u001b[38;5;241;43m=\u001b[39;49m\u001b[43mallow_missing\u001b[49m\u001b[43m)\u001b[49m\n",
      "File \u001b[0;32m/depot/cms/kernels/coffea2024/lib/python3.10/site-packages/awkward/contents/content.py:1020\u001b[0m, in \u001b[0;36mContent.to_backend_array\u001b[0;34m(self, allow_missing, backend)\u001b[0m\n\u001b[1;32m   1019\u001b[0m     backend \u001b[38;5;241m=\u001b[39m regularize_backend(backend)\n\u001b[0;32m-> 1020\u001b[0m \u001b[38;5;28;01mreturn\u001b[39;00m \u001b[38;5;28;43mself\u001b[39;49m\u001b[38;5;241;43m.\u001b[39;49m\u001b[43m_to_backend_array\u001b[49m\u001b[43m(\u001b[49m\u001b[43mallow_missing\u001b[49m\u001b[43m,\u001b[49m\u001b[43m \u001b[49m\u001b[43mbackend\u001b[49m\u001b[43m)\u001b[49m\n",
      "File \u001b[0;32m/depot/cms/kernels/coffea2024/lib/python3.10/site-packages/awkward/contents/bytemaskedarray.py:1055\u001b[0m, in \u001b[0;36mByteMaskedArray._to_backend_array\u001b[0;34m(self, allow_missing, backend)\u001b[0m\n\u001b[1;32m   1054\u001b[0m \u001b[38;5;28;01mdef\u001b[39;00m \u001b[38;5;21m_to_backend_array\u001b[39m(\u001b[38;5;28mself\u001b[39m, allow_missing, backend):\n\u001b[0;32m-> 1055\u001b[0m     \u001b[38;5;28;01mreturn\u001b[39;00m \u001b[38;5;28;43mself\u001b[39;49m\u001b[38;5;241;43m.\u001b[39;49m\u001b[43mto_IndexedOptionArray64\u001b[49m\u001b[43m(\u001b[49m\u001b[43m)\u001b[49m\u001b[38;5;241;43m.\u001b[39;49m\u001b[43m_to_backend_array\u001b[49m\u001b[43m(\u001b[49m\u001b[43mallow_missing\u001b[49m\u001b[43m,\u001b[49m\u001b[43m \u001b[49m\u001b[43mbackend\u001b[49m\u001b[43m)\u001b[49m\n",
      "File \u001b[0;32m/depot/cms/kernels/coffea2024/lib/python3.10/site-packages/awkward/contents/indexedoptionarray.py:1609\u001b[0m, in \u001b[0;36mIndexedOptionArray._to_backend_array\u001b[0;34m(self, allow_missing, backend)\u001b[0m\n\u001b[1;32m   1608\u001b[0m     \u001b[38;5;28;01melse\u001b[39;00m:\n\u001b[0;32m-> 1609\u001b[0m         \u001b[38;5;28;01mraise\u001b[39;00m \u001b[38;5;167;01mValueError\u001b[39;00m(\n\u001b[1;32m   1610\u001b[0m             \u001b[38;5;124m\"\u001b[39m\u001b[38;5;124mContent.to_nplike cannot convert \u001b[39m\u001b[38;5;124m'\u001b[39m\u001b[38;5;124mNone\u001b[39m\u001b[38;5;124m'\u001b[39m\u001b[38;5;124m values to \u001b[39m\u001b[38;5;124m\"\u001b[39m\n\u001b[1;32m   1611\u001b[0m             \u001b[38;5;124m\"\u001b[39m\u001b[38;5;124mnp.ma.MaskedArray unless the \u001b[39m\u001b[38;5;124m\"\u001b[39m\n\u001b[1;32m   1612\u001b[0m             \u001b[38;5;124m\"\u001b[39m\u001b[38;5;124m'\u001b[39m\u001b[38;5;124mallow_missing\u001b[39m\u001b[38;5;124m'\u001b[39m\u001b[38;5;124m parameter is set to True\u001b[39m\u001b[38;5;124m\"\u001b[39m\n\u001b[1;32m   1613\u001b[0m         )\n\u001b[1;32m   1614\u001b[0m \u001b[38;5;28;01melse\u001b[39;00m:\n",
      "\u001b[0;31mValueError\u001b[0m: Content.to_nplike cannot convert 'None' values to np.ma.MaskedArray unless the 'allow_missing' parameter is set to True",
      "\nThe above exception was the direct cause of the following exception:\n",
      "\u001b[0;31mValueError\u001b[0m                                Traceback (most recent call last)",
      "Cell \u001b[0;32mIn[120], line 4\u001b[0m\n\u001b[1;32m      1\u001b[0m \u001b[38;5;66;03m# (ak.to_arrow(events, categorical_as_dictionary=False))\u001b[39;00m\n\u001b[1;32m      2\u001b[0m \u001b[38;5;66;03m# ak.to_numpy(ak.Array(events))\u001b[39;00m\n\u001b[1;32m      3\u001b[0m \u001b[38;5;66;03m# events.show()\u001b[39;00m\n\u001b[0;32m----> 4\u001b[0m \u001b[43mnp\u001b[49m\u001b[38;5;241;43m.\u001b[39;49m\u001b[43marray\u001b[49m\u001b[43m(\u001b[49m\u001b[43mak\u001b[49m\u001b[38;5;241;43m.\u001b[39;49m\u001b[43munzip\u001b[49m\u001b[43m(\u001b[49m\u001b[43mevents\u001b[49m\u001b[43m)\u001b[49m\u001b[43m)\u001b[49m\n",
      "File \u001b[0;32m/depot/cms/kernels/coffea2024/lib/python3.10/site-packages/awkward/highlevel.py:1434\u001b[0m, in \u001b[0;36mArray.__array__\u001b[0;34m(self, dtype)\u001b[0m\n\u001b[1;32m   1409\u001b[0m \u001b[38;5;28;01mdef\u001b[39;00m \u001b[38;5;21m__array__\u001b[39m(\u001b[38;5;28mself\u001b[39m, dtype\u001b[38;5;241m=\u001b[39m\u001b[38;5;28;01mNone\u001b[39;00m):\n\u001b[1;32m   1410\u001b[0m \u001b[38;5;250m    \u001b[39m\u001b[38;5;124;03m\"\"\"\u001b[39;00m\n\u001b[1;32m   1411\u001b[0m \u001b[38;5;124;03m    Intercepts attempts to convert this Array into a NumPy array and\u001b[39;00m\n\u001b[1;32m   1412\u001b[0m \u001b[38;5;124;03m    either performs a zero-copy conversion or raises an error.\u001b[39;00m\n\u001b[0;32m   (...)\u001b[0m\n\u001b[1;32m   1432\u001b[0m \u001b[38;5;124;03m    cannot be sliced as dimensions.\u001b[39;00m\n\u001b[1;32m   1433\u001b[0m \u001b[38;5;124;03m    \"\"\"\u001b[39;00m\n\u001b[0;32m-> 1434\u001b[0m     \u001b[38;5;28;01mwith\u001b[39;00m ak\u001b[38;5;241m.\u001b[39m_errors\u001b[38;5;241m.\u001b[39mOperationErrorContext(\n\u001b[1;32m   1435\u001b[0m         \u001b[38;5;124m\"\u001b[39m\u001b[38;5;124mnumpy.asarray\u001b[39m\u001b[38;5;124m\"\u001b[39m, (\u001b[38;5;28mself\u001b[39m,), {\u001b[38;5;124m\"\u001b[39m\u001b[38;5;124mdtype\u001b[39m\u001b[38;5;124m\"\u001b[39m: dtype}\n\u001b[1;32m   1436\u001b[0m     ):\n\u001b[1;32m   1437\u001b[0m         \u001b[38;5;28;01mfrom\u001b[39;00m \u001b[38;5;21;01mawkward\u001b[39;00m\u001b[38;5;21;01m.\u001b[39;00m\u001b[38;5;21;01m_connect\u001b[39;00m\u001b[38;5;21;01m.\u001b[39;00m\u001b[38;5;21;01mnumpy\u001b[39;00m \u001b[38;5;28;01mimport\u001b[39;00m convert_to_array\n\u001b[1;32m   1439\u001b[0m         \u001b[38;5;28;01mreturn\u001b[39;00m convert_to_array(\u001b[38;5;28mself\u001b[39m\u001b[38;5;241m.\u001b[39m_layout, dtype\u001b[38;5;241m=\u001b[39mdtype)\n",
      "File \u001b[0;32m/depot/cms/kernels/coffea2024/lib/python3.10/site-packages/awkward/_errors.py:85\u001b[0m, in \u001b[0;36mErrorContext.__exit__\u001b[0;34m(self, exception_type, exception_value, traceback)\u001b[0m\n\u001b[1;32m     78\u001b[0m \u001b[38;5;28;01mtry\u001b[39;00m:\n\u001b[1;32m     79\u001b[0m     \u001b[38;5;66;03m# Handle caught exception\u001b[39;00m\n\u001b[1;32m     80\u001b[0m     \u001b[38;5;28;01mif\u001b[39;00m (\n\u001b[1;32m     81\u001b[0m         exception_type \u001b[38;5;129;01mis\u001b[39;00m \u001b[38;5;129;01mnot\u001b[39;00m \u001b[38;5;28;01mNone\u001b[39;00m\n\u001b[1;32m     82\u001b[0m         \u001b[38;5;129;01mand\u001b[39;00m \u001b[38;5;28missubclass\u001b[39m(exception_type, \u001b[38;5;167;01mException\u001b[39;00m)\n\u001b[1;32m     83\u001b[0m         \u001b[38;5;129;01mand\u001b[39;00m \u001b[38;5;28mself\u001b[39m\u001b[38;5;241m.\u001b[39mprimary() \u001b[38;5;129;01mis\u001b[39;00m \u001b[38;5;28mself\u001b[39m\n\u001b[1;32m     84\u001b[0m     ):\n\u001b[0;32m---> 85\u001b[0m         \u001b[38;5;28;43mself\u001b[39;49m\u001b[38;5;241;43m.\u001b[39;49m\u001b[43mhandle_exception\u001b[49m\u001b[43m(\u001b[49m\u001b[43mexception_type\u001b[49m\u001b[43m,\u001b[49m\u001b[43m \u001b[49m\u001b[43mexception_value\u001b[49m\u001b[43m)\u001b[49m\n\u001b[1;32m     86\u001b[0m \u001b[38;5;28;01mfinally\u001b[39;00m:\n\u001b[1;32m     87\u001b[0m     \u001b[38;5;66;03m# Step out of the way so that another ErrorContext can become primary.\u001b[39;00m\n\u001b[1;32m     88\u001b[0m     \u001b[38;5;28;01mif\u001b[39;00m \u001b[38;5;28mself\u001b[39m\u001b[38;5;241m.\u001b[39mprimary() \u001b[38;5;129;01mis\u001b[39;00m \u001b[38;5;28mself\u001b[39m:\n",
      "File \u001b[0;32m/depot/cms/kernels/coffea2024/lib/python3.10/site-packages/awkward/_errors.py:95\u001b[0m, in \u001b[0;36mErrorContext.handle_exception\u001b[0;34m(self, cls, exception)\u001b[0m\n\u001b[1;32m     93\u001b[0m     \u001b[38;5;28mself\u001b[39m\u001b[38;5;241m.\u001b[39mdecorate_exception(\u001b[38;5;28mcls\u001b[39m, exception)\n\u001b[1;32m     94\u001b[0m \u001b[38;5;28;01melse\u001b[39;00m:\n\u001b[0;32m---> 95\u001b[0m     \u001b[38;5;28;01mraise\u001b[39;00m \u001b[38;5;28mself\u001b[39m\u001b[38;5;241m.\u001b[39mdecorate_exception(\u001b[38;5;28mcls\u001b[39m, exception)\n",
      "\u001b[0;31mValueError\u001b[0m: Content.to_nplike cannot convert 'None' values to np.ma.MaskedArray unless the 'allow_missing' parameter is set to True\n\nThis error occurred while calling\n\n    numpy.asarray(\n        <Array [None, None, -0.536, ..., None, None] type='5253810 * ?float32'>\n        dtype = None\n    )"
     ]
    }
   ],
   "source": [
    "# (ak.to_arrow(events, categorical_as_dictionary=False))\n",
    "# ak.to_numpy(ak.Array(events))\n",
    "# events.show()\n",
    "np.array(ak.unzip(events))"
   ]
  },
  {
   "cell_type": "code",
   "execution_count": null,
   "id": "5f7b181d-6207-45aa-bda9-5b6122e8f72a",
   "metadata": {},
   "outputs": [],
   "source": [
    "ak.unzip(events[0,:])"
   ]
  },
  {
   "cell_type": "code",
   "execution_count": 128,
   "id": "33dc1b37-a06a-412c-92ba-4ebf75096c3f",
   "metadata": {},
   "outputs": [
    {
     "data": {
      "text/plain": [
       "44"
      ]
     },
     "execution_count": 128,
     "metadata": {},
     "output_type": "execute_result"
    }
   ],
   "source": [
    "training_features = [\n",
    "        'dimuon_cos_theta_cs', 'dimuon_dEta', 'dimuon_dPhi', 'dimuon_dR', 'dimuon_eta', 'dimuon_phi', 'dimuon_phi_cs', 'dimuon_pt', \n",
    "        'dimuon_pt_log', 'jet1_eta', 'jet1_phi', 'jet1_pt', 'jet1_qgl', 'jet2_eta', 'jet2_phi', \n",
    "        'jet2_pt', 'jet2_qgl', 'jj_dEta', 'jj_dPhi', 'jj_eta', 'jj_mass', 'jj_mass_log', \n",
    "        'jj_phi', 'jj_pt', 'll_zstar_log', 'mmj1_dEta', 'mmj1_dPhi', 'mmj2_dEta', 'mmj2_dPhi', \n",
    "        'mmj_min_dEta', 'mmj_min_dPhi', 'mmjj_eta', 'mmjj_mass', 'mmjj_phi', 'mmjj_pt', 'mu1_eta', 'mu1_iso', \n",
    "        'mu1_phi', 'mu1_pt_over_mass', 'mu2_eta', 'mu2_iso', 'mu2_phi', 'mu2_pt_over_mass', 'zeppenfeld'\n",
    "    ]\n",
    "len(training_features)"
   ]
  },
  {
   "cell_type": "code",
   "execution_count": 145,
   "id": "fe5e9891-84c3-4b81-a044-a5098adaf0b5",
   "metadata": {},
   "outputs": [
    {
     "name": "stdout",
     "output_type": "stream",
     "text": [
      "[[0 1 2 3 4]\n",
      " [5 6 7 8 9]]\n",
      "[[0 5]\n",
      " [1 6]\n",
      " [2 7]\n",
      " [3 8]\n",
      " [4 9]]\n"
     ]
    }
   ],
   "source": [
    "A = np.arange(10)\n",
    "A = A.reshape((2,5))\n",
    "print(A)\n",
    "print(np.transpose(A))"
   ]
  },
  {
   "cell_type": "code",
   "execution_count": null,
   "id": "caa1ca32-c3ca-4509-809c-5ba717194637",
   "metadata": {},
   "outputs": [],
   "source": []
  }
 ],
 "metadata": {
  "kernelspec": {
   "display_name": "Python [conda env:coffea2024]",
   "language": "python",
   "name": "conda-env-coffea2024-py"
  },
  "language_info": {
   "codemirror_mode": {
    "name": "ipython",
    "version": 3
   },
   "file_extension": ".py",
   "mimetype": "text/x-python",
   "name": "python",
   "nbconvert_exporter": "python",
   "pygments_lexer": "ipython3",
   "version": "3.10.13"
  }
 },
 "nbformat": 4,
 "nbformat_minor": 5
}
