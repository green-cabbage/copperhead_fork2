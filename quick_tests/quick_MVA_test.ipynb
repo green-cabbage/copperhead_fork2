{
 "cells": [
  {
   "cell_type": "code",
   "execution_count": 1,
   "id": "9a6b4707-b840-4aa4-a822-13cf58351977",
   "metadata": {},
   "outputs": [],
   "source": [
    "import numpy as np\n",
    "import pickle"
   ]
  },
  {
   "cell_type": "code",
   "execution_count": null,
   "id": "029bf1fd-e9a3-4cd3-a383-40408ae97701",
   "metadata": {},
   "outputs": [],
   "source": [
    "def prepare_features(df, training_features, variation=\"nominal\", add_year=False):\n",
    "    #global training_features\n",
    "    if add_year:\n",
    "        features = training_features + [\"year\"]\n",
    "    else:\n",
    "        features = training_features\n",
    "    features_var = []\n",
    "    #print(features)\n",
    "    for trf in features:\n",
    "        if f\"{trf}_{variation}\" in df.columns:\n",
    "            features_var.append(f\"{trf}_{variation}\")\n",
    "        elif trf in df.columns:\n",
    "            features_var.append(trf)\n",
    "        else:\n",
    "            print(f\"Variable {trf} not found in training dataframe!\")\n",
    "    return features_var\n",
    "\n",
    "    \n",
    "\n",
    "def evaluate_bdt(df, variation, model, parameters, score_name):\n",
    "    training_features = ['dimuon_cos_theta_cs', 'dimuon_dEta', 'dimuon_dPhi', 'dimuon_dR', 'dimuon_eta', 'dimuon_phi', 'dimuon_phi_cs', 'dimuon_pt', 'dimuon_pt_log', 'jet1_eta_nominal', 'jet1_phi_nominal', 'jet1_pt_nominal', 'jet1_qgl_nominal', 'jet2_eta_nominal', 'jet2_phi_nominal', 'jet2_pt_nominal', 'jet2_qgl_nominal', 'jj_dEta_nominal', 'jj_dPhi_nominal', 'jj_eta_nominal', 'jj_mass_nominal', 'jj_mass_log_nominal', 'jj_phi_nominal', 'jj_pt_nominal', 'll_zstar_log_nominal', 'mmj1_dEta_nominal', 'mmj1_dPhi_nominal', 'mmj2_dEta_nominal', 'mmj2_dPhi_nominal', 'mmj_min_dEta_nominal', 'mmj_min_dPhi_nominal', 'mmjj_eta_nominal', 'mmjj_mass_nominal', 'mmjj_phi_nominal', 'mmjj_pt_nominal', 'mu1_eta', 'mu1_iso', 'mu1_phi', 'mu1_pt_over_mass', 'mu2_eta', 'mu2_iso', 'mu2_phi', 'mu2_pt_over_mass', 'zeppenfeld_nominal']\n",
    "    df = df[training_features].compute()\n",
    "\n",
    "    # df.loc[:,'mu1_pt_over_mass'] = np.divide(df['mu1_pt'], df['dimuon_mass'])\n",
    "    # df.loc[:,'mu2_pt_over_mass'] = np.divide(df['mu2_pt'], df['dimuon_mass'])\n",
    "\n",
    "    # df['njets_nominal'].fillna(0)\n",
    "    df['mu1_pt_over_mass'] = df['mu1_pt']/df['dimuon_mass']\n",
    "    df['mu2_pt_over_mass'] = df['mu2_pt']/df['dimuon_mass']\n",
    "    df['njets'] = ak.fill_none(df['njets_nominal'], value=0)\n",
    "\n",
    "    #df[df['njets_nominal']<2]['jj_dPhi_nominal'] = -1\n",
    "    \n",
    "    df.fillna(-99.0)\n",
    "    df.loc[:,'mmj_min_dEta_nominal'] = df[\"mmj2_dEta_nominal\"]\n",
    "    df.loc[:,'mmj_min_dPhi_nominal'] = df[\"mmj2_dPhi_nominal\"]\n",
    "    features = prepare_features(df,training_features, variation=variation, add_year=False)\n",
    "    #model = f\"{model}_{parameters['years'][0]}\"\n",
    "    score_name = f\"score_{model}_{variation}\"\n",
    "\n",
    "    # df.loc[:, score_name] = 0\n",
    "    score_total = ak.ones_like(df['mu1_pt']) * -999.0\n",
    "    \n",
    "    nfolds = 4\n",
    "    columns_print = ['njets_nominal','jj_dPhi_nominal','jj_mass_log_nominal', 'jj_phi_nominal', 'jj_pt_nominal', 'll_zstar_log_nominal', 'mmj1_dEta_nominal','jet2_pt_nominal']\n",
    "    columns2 = ['mmj1_dEta_nominal', 'mmj1_dPhi_nominal', 'mmj2_dEta_nominal', 'mmj2_dPhi_nominal', 'mmj_min_dEta_nominal', 'mmj_min_dPhi_nominal']\n",
    "\n",
    "    \n",
    "    for i in range(nfolds):\n",
    "        # think eval_folds is the list of test dataset chunks that each bdt is trained to evaluate\n",
    "        eval_folds = [(i + f) % nfolds for f in [3]]\n",
    "\n",
    "        eval_filter = df.event.mod(nfolds).isin(eval_folds)\n",
    "        scalers_path = f\"{parameters['models_path']}/{model}/scalers_{model}_{i}.npy\"\n",
    "        scalers = np.load(scalers_path, allow_pickle=True)\n",
    "        model_path = f\"{parameters['models_path']}/{model}/{model}_{i}.pkl\"\n",
    "\n",
    "        bdt_model = pickle.load(open(model_path, \"rb\"))\n",
    "        df_i = df[eval_filter]\n",
    "        if df_i.shape[0] == 0:\n",
    "            continue\n",
    "        df_i.loc[df_i.region != \"h-peak\", \"dimuon_mass\"] = 125.0\n",
    "\n",
    "        df_i = (df_i[features] - scalers[0]) / scalers[1]\n",
    "        if len(df_i) > 0:\n",
    "            print(f\"model: {model}\")\n",
    "            prediction = np.array(\n",
    "                bdt_model.predict_proba(df_i.values)[:, 1]\n",
    "            ).ravel()\n",
    "            \n",
    "            # df.loc[eval_filter, score_name] = prediction  # np.arctanh((prediction))\n",
    "            df[score_name] = ak.where(eval_filter, prediction, df[score_name])\n"
   ]
  },
  {
   "cell_type": "code",
   "execution_count": 2,
   "id": "d0bf9cd8-c8a1-4c7e-8f2a-25cb1cca453d",
   "metadata": {},
   "outputs": [],
   "source": [
    "model_path = \"/depot/cms/hmm/vscheure/data/trained_models/BDTv12_2018/BDTv12_2018_0.pkl\"\n",
    "bdt_model = pickle.load(open(model_path, \"rb\"))"
   ]
  },
  {
   "cell_type": "code",
   "execution_count": null,
   "id": "472cdffb-f3bf-4d68-afdc-2baf7a4d42f3",
   "metadata": {},
   "outputs": [],
   "source": [
    "bdt_model"
   ]
  },
  {
   "cell_type": "code",
   "execution_count": 4,
   "id": "afa62f8c-9fac-4dab-b505-fb500ac01091",
   "metadata": {},
   "outputs": [
    {
     "data": {
      "text/plain": [
       "xgboost.sklearn.XGBClassifier"
      ]
     },
     "execution_count": 4,
     "metadata": {},
     "output_type": "execute_result"
    }
   ],
   "source": [
    "type(bdt_model)"
   ]
  },
  {
   "cell_type": "code",
   "execution_count": 5,
   "id": "ae6ae25f-574c-44f8-9cee-c0fec190f95e",
   "metadata": {},
   "outputs": [],
   "source": [
    "bdt_model.save_model(\"model-0.json\")\n",
    "\n",
    "# dump model with feature map\n",
    "bdt_model.get_booster().dump_model(\"dump.nice.txt\")"
   ]
  },
  {
   "cell_type": "code",
   "execution_count": 4,
   "id": "28020e3e-6be8-4c23-8945-b7f20cd8a7a2",
   "metadata": {},
   "outputs": [],
   "source": [
    "# ! pip list\n"
   ]
  },
  {
   "cell_type": "code",
   "execution_count": 7,
   "id": "20fe3495-616a-42ed-822c-74148c926a19",
   "metadata": {},
   "outputs": [],
   "source": []
  },
  {
   "cell_type": "code",
   "execution_count": null,
   "id": "39c5cf36-d0dc-4a88-ad63-980676ff4e0b",
   "metadata": {},
   "outputs": [],
   "source": []
  }
 ],
 "metadata": {
  "kernelspec": {
   "display_name": "Python [conda env:coffea2024]",
   "language": "python",
   "name": "conda-env-coffea2024-py"
  },
  "language_info": {
   "codemirror_mode": {
    "name": "ipython",
    "version": 3
   },
   "file_extension": ".py",
   "mimetype": "text/x-python",
   "name": "python",
   "nbconvert_exporter": "python",
   "pygments_lexer": "ipython3",
   "version": "3.10.13"
  }
 },
 "nbformat": 4,
 "nbformat_minor": 5
}
