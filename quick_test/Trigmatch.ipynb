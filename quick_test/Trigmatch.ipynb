{
 "cells": [
  {
   "cell_type": "code",
   "execution_count": 2,
   "id": "d7cdb564-c6c6-494e-92bd-374ce9b5e3a4",
   "metadata": {},
   "outputs": [],
   "source": [
    "import dask_awkward as dak\n",
    "import awkward as ak\n",
    "from coffea.nanoevents import NanoEventsFactory, NanoAODSchema\n",
    "from distributed import LocalCluster, Client\n",
    "import numpy as np\n"
   ]
  },
  {
   "cell_type": "code",
   "execution_count": 3,
   "id": "bfde2d73-5e2b-47ee-84fd-8b7da224137a",
   "metadata": {},
   "outputs": [
    {
     "name": "stderr",
     "output_type": "stream",
     "text": [
      "/depot/cms/kernels/root632/lib/python3.12/site-packages/distributed/node.py:182: UserWarning: Port 8787 is already in use.\n",
      "Perhaps you already have a cluster running?\n",
      "Hosting the HTTP server on port 43139 instead\n",
      "  warnings.warn(\n",
      "/depot/cms/kernels/root632/lib/python3.12/site-packages/coffea/nanoevents/methods/candidate.py:11: FutureWarning: In version 2025.1.0 (target date: 2024-12-31 11:59:59-06:00), this will be an error.\n",
      "To raise these warnings as errors (and get stack traces to find out where they're called), run\n",
      "    import warnings\n",
      "    warnings.filterwarnings(\"error\", module=\"coffea.*\")\n",
      "after the first `import coffea` or use `@pytest.mark.filterwarnings(\"error:::coffea.*\")` in pytest.\n",
      "Issue: coffea.nanoevents.methods.vector will be removed and replaced with scikit-hep vector. Nanoevents schemas internal to coffea will be migrated. Otherwise please consider using that package!.\n",
      "  from coffea.nanoevents.methods import vector\n",
      "/depot/cms/kernels/root632/lib/python3.12/site-packages/coffea/nanoevents/schemas/nanoaod.py:247: RuntimeWarning: Missing cross-reference index for LowPtElectron_electronIdx => Electron\n",
      "  warnings.warn(\n",
      "/depot/cms/kernels/root632/lib/python3.12/site-packages/coffea/nanoevents/schemas/nanoaod.py:247: RuntimeWarning: Missing cross-reference index for LowPtElectron_photonIdx => Photon\n",
      "  warnings.warn(\n"
     ]
    }
   ],
   "source": [
    "fname = \"root://eos.cms.rcac.purdue.edu//store/mc/RunIISummer20UL18NanoAODv9/GluGluHToMuMu_M125_TuneCP5_13TeV-powheg-pythia8/NANOAODSIM/106X_upgrade2018_realistic_v16_L1v1-v1/2810000/C4DAB63C-E2A1-A541-93A8-3F46315E362C.root\"\n",
    "\n",
    "file_dict = {\"root://eos.cms.rcac.purdue.edu:1094///store/mc/RunIISummer20UL18NanoAODv9/DYJetsToLL_M-100to200_TuneCP5_13TeV-amcatnloFXFX-pythia8/NANOAODSIM/106X_upgrade2018_realistic_v16_L1v1-v1/40000/AA6F89B0-EDAA-3942-A3BB-BC3709722EB4.root\": {\"object_path\": \"Events\", \"steps\": [[0, 10], [10, 20]], \"uuid\": \"b16b5dea-fbcd-11ed-bae7-a2a0b8bcbeef\"}}\n",
    "# file_dict = {\"root://eos.cms.rcac.purdue.edu//store/mc/RunIIAutumn18NanoAODv6/DYJetsToLL_M-105To160_TuneCP5_PSweights_13TeV-amcatnloFXFX-pythia8/NANOAODSIM/Nano25Oct2019_102X_upgrade2018_realistic_v20-v1/100000/1E5C1F4B-FE04-624F-82FD-C4273792B1D1.root\": {\"object_path\": \"Events\", \"steps\": [[0, 1000], [1000, 2000]]}}\n",
    "\n",
    "\n",
    "client = Client(n_workers=1,  threads_per_worker=1, processes=True)\n",
    "events = NanoEventsFactory.from_root(\n",
    "    file_dict,\n",
    "    schemaclass=NanoAODSchema,\n",
    ").events()"
   ]
  },
  {
   "cell_type": "code",
   "execution_count": 4,
   "id": "207c2f81-5e31-4650-9420-0ef605ed488e",
   "metadata": {},
   "outputs": [
    {
     "name": "stderr",
     "output_type": "stream",
     "text": [
      "/depot/cms/kernels/root632/lib/python3.12/site-packages/coffea/nanoevents/methods/candidate.py:11: FutureWarning: In version 2025.1.0 (target date: 2024-12-31 11:59:59-06:00), this will be an error.\n",
      "To raise these warnings as errors (and get stack traces to find out where they're called), run\n",
      "    import warnings\n",
      "    warnings.filterwarnings(\"error\", module=\"coffea.*\")\n",
      "after the first `import coffea` or use `@pytest.mark.filterwarnings(\"error:::coffea.*\")` in pytest.\n",
      "Issue: coffea.nanoevents.methods.vector will be removed and replaced with scikit-hep vector. Nanoevents schemas internal to coffea will be migrated. Otherwise please consider using that package!.\n",
      "  from coffea.nanoevents.methods import vector\n"
     ]
    }
   ],
   "source": [
    "events = events.compute()"
   ]
  },
  {
   "cell_type": "code",
   "execution_count": 9,
   "id": "8dcd2daf-37d3-4803-835e-89a0abac132b",
   "metadata": {
    "scrolled": true
   },
   "outputs": [
    {
     "data": {
      "text/html": [
       "<pre>[0,\n",
       " 0,\n",
       " 1,\n",
       " 1,\n",
       " 0,\n",
       " 1,\n",
       " 0,\n",
       " 0,\n",
       " 0,\n",
       " 1,\n",
       " 1,\n",
       " 0,\n",
       " 0,\n",
       " 1,\n",
       " 1,\n",
       " 0,\n",
       " 1,\n",
       " 0,\n",
       " 0,\n",
       " 1]\n",
       "----------------\n",
       "type: 20 * int64</pre>"
      ],
      "text/plain": [
       "<Array [0, 0, 1, 1, 0, 1, 0, 0, ..., 0, 1, 1, 0, 1, 0, 0, 1] type='20 * int64'>"
      ]
     },
     "execution_count": 9,
     "metadata": {},
     "output_type": "execute_result"
    }
   ],
   "source": [
    "numevents = len(events)\n",
    "mu1 = events.Muon[:,:1]\n",
    "mu1[\"pt_raw\"] = mu1.pt\n",
    "pass_leading_pt = np.zeros(numevents, dtype=bool)\n",
    "has_muons = ak.num(mu1.pt, axis=1)\n"
   ]
  },
  {
   "cell_type": "code",
   "execution_count": 10,
   "id": "dca28ae5-e93b-4d62-b3e2-aa796c995875",
   "metadata": {},
   "outputs": [
    {
     "ename": "TypeError",
     "evalue": "NumPy boolean array indexing assignment requires a 0 or 1-dimensional input, input has 2 dimensions",
     "output_type": "error",
     "traceback": [
      "\u001b[0;31m---------------------------------------------------------------------------\u001b[0m",
      "\u001b[0;31mTypeError\u001b[0m                                 Traceback (most recent call last)",
      "Cell \u001b[0;32mIn[10], line 1\u001b[0m\n\u001b[0;32m----> 1\u001b[0m \u001b[43mpass_leading_pt\u001b[49m\u001b[43m[\u001b[49m\u001b[43mhas_muons\u001b[49m\u001b[38;5;241;43m>\u001b[39;49m\u001b[38;5;241;43m0\u001b[39;49m\u001b[43m]\u001b[49m \u001b[38;5;241m=\u001b[39m (mu1\u001b[38;5;241m.\u001b[39mpt_raw\u001b[38;5;241m>\u001b[39m\u001b[38;5;241m26\u001b[39m)[has_muons\u001b[38;5;241m>\u001b[39m\u001b[38;5;241m0\u001b[39m] \n\u001b[1;32m      2\u001b[0m \u001b[38;5;28mprint\u001b[39m(pass_leading_pt)\n\u001b[1;32m      3\u001b[0m \u001b[38;5;66;03m# # All L3 trigger muons\u001b[39;00m\n\u001b[1;32m      4\u001b[0m \u001b[38;5;66;03m# df.TrigObj['mass'] = df.TrigObj.zeros_like()\u001b[39;00m\n\u001b[1;32m      5\u001b[0m \u001b[38;5;66;03m# df.TrigObj = df.TrigObj[(df.TrigObj.id == 13) | (df.TrigObj.id == -13)]\u001b[39;00m\n",
      "\u001b[0;31mTypeError\u001b[0m: NumPy boolean array indexing assignment requires a 0 or 1-dimensional input, input has 2 dimensions"
     ]
    }
   ],
   "source": [
    "pass_leading_pt[has_muons>0] = (mu1.pt_raw>26)[has_muons>0] \n",
    "print(pass_leading_pt)\n",
    "# # All L3 trigger muons\n",
    "# df.TrigObj['mass'] = df.TrigObj.zeros_like()\n",
    "# df.TrigObj = df.TrigObj[(df.TrigObj.id == 13) | (df.TrigObj.id == -13)]"
   ]
  },
  {
   "cell_type": "code",
   "execution_count": 134,
   "id": "e86547df-e498-44b1-95f0-a26053c2e227",
   "metadata": {},
   "outputs": [
    {
     "data": {
      "text/plain": [
       "True"
      ]
     },
     "execution_count": 134,
     "metadata": {},
     "output_type": "execute_result"
    }
   ],
   "source": [
    "ak.all(ak.num(jets.genJetIdx, axis=1) == ak.num(jets.genJetIdxG, axis=1))"
   ]
  },
  {
   "cell_type": "code",
   "execution_count": 6,
   "id": "57463e96-e249-430f-bd22-f0ec68dfce9b",
   "metadata": {},
   "outputs": [],
   "source": [
    "def delta_r(eta1, eta2, phi1, phi2):\n",
    "    deta = abs(eta1 - eta2)\n",
    "    dphi = abs(np.mod(phi1 - phi2 + np.pi, 2 * np.pi) - np.pi)\n",
    "    dr = np.sqrt(deta**2 + dphi**2)\n",
    "    return deta, dphi, dr\n",
    "\n",
    "\n",
    "def checkGenIdxRecommended(events):\n",
    "    delta_rs = events.Jet.delta_r(events.Jet.matched_gen) \n",
    "    delta_rs =  delta_rs.compute()\n",
    "    # print(delta_r_test)\n",
    "    print(f\"checkGenIdxRecommended: {ak.all(delta_rs <= 0.4)}\")\n",
    "\n",
    "\n",
    "def checkGenIdxManual(events):\n",
    "    delta_rs = events.Jet.delta_r(events.GenJet._apply_global_index(events.Jet.genJetIdxG)) \n",
    "    delta_rs =  delta_rs.compute()\n",
    "    # print(delta_r_test)\n",
    "    print(f\"checkGenIdxManual: {ak.all(delta_rs <= 0.4)}\")\n",
    "\n",
    "def checkGenIdxSeparate(jets, genjets):\n",
    "    matched_genjets = genjets._apply_global_index(jets.genJetIdxG)\n",
    "    delta_rs = jets.delta_r(matched_genjets)\n",
    "    # print(delta_rs)\n",
    "    print(f\"checkGenIdxOld: {ak.all(delta_rs <= 0.4)}\")\n",
    "    "
   ]
  },
  {
   "cell_type": "code",
   "execution_count": 8,
   "id": "ebc6ccb2-89d6-43a0-ad9a-103a93d6edb9",
   "metadata": {},
   "outputs": [
    {
     "ename": "KeyError",
     "evalue": "'@events_factory'",
     "output_type": "error",
     "traceback": [
      "\u001b[0;31m---------------------------------------------------------------------------\u001b[0m",
      "\u001b[0;31mKeyError\u001b[0m                                  Traceback (most recent call last)",
      "Cell \u001b[0;32mIn[8], line 1\u001b[0m\n\u001b[0;32m----> 1\u001b[0m \u001b[43mjets\u001b[49m\u001b[38;5;241;43m.\u001b[39;49m\u001b[43mmatched_gen\u001b[49m\n",
      "File \u001b[0;32m/depot/cms/kernels/root632/lib/python3.12/site-packages/coffea/nanoevents/methods/nanoaod.py:548\u001b[0m, in \u001b[0;36mJet.matched_gen\u001b[0;34m(self)\u001b[0m\n\u001b[1;32m    546\u001b[0m \u001b[38;5;129m@dask_property\u001b[39m\n\u001b[1;32m    547\u001b[0m \u001b[38;5;28;01mdef\u001b[39;00m \u001b[38;5;21mmatched_gen\u001b[39m(\u001b[38;5;28mself\u001b[39m):\n\u001b[0;32m--> 548\u001b[0m     \u001b[38;5;28;01mreturn\u001b[39;00m \u001b[38;5;28;43mself\u001b[39;49m\u001b[38;5;241;43m.\u001b[39;49m\u001b[43m_events\u001b[49m\u001b[43m(\u001b[49m\u001b[43m)\u001b[49m\u001b[38;5;241m.\u001b[39mGenJet\u001b[38;5;241m.\u001b[39m_apply_global_index(\u001b[38;5;28mself\u001b[39m\u001b[38;5;241m.\u001b[39mgenJetIdxG)\n",
      "File \u001b[0;32m/depot/cms/kernels/root632/lib/python3.12/site-packages/coffea/nanoevents/methods/base.py:253\u001b[0m, in \u001b[0;36mNanoCollection._events\u001b[0;34m(self)\u001b[0m\n\u001b[1;32m    251\u001b[0m \u001b[38;5;28;01mif\u001b[39;00m \u001b[38;5;124m\"\u001b[39m\u001b[38;5;124m@original_array\u001b[39m\u001b[38;5;124m\"\u001b[39m \u001b[38;5;129;01min\u001b[39;00m \u001b[38;5;28mself\u001b[39m\u001b[38;5;241m.\u001b[39mattrs:\n\u001b[1;32m    252\u001b[0m     \u001b[38;5;28;01mreturn\u001b[39;00m \u001b[38;5;28mself\u001b[39m\u001b[38;5;241m.\u001b[39mattrs[\u001b[38;5;124m\"\u001b[39m\u001b[38;5;124m@original_array\u001b[39m\u001b[38;5;124m\"\u001b[39m]\n\u001b[0;32m--> 253\u001b[0m \u001b[38;5;28;01mreturn\u001b[39;00m \u001b[38;5;28;43mself\u001b[39;49m\u001b[38;5;241;43m.\u001b[39;49m\u001b[43mattrs\u001b[49m\u001b[43m[\u001b[49m\u001b[38;5;124;43m\"\u001b[39;49m\u001b[38;5;124;43m@events_factory\u001b[39;49m\u001b[38;5;124;43m\"\u001b[39;49m\u001b[43m]\u001b[49m\u001b[38;5;241m.\u001b[39mevents()\n",
      "\u001b[0;31mKeyError\u001b[0m: '@events_factory'"
     ]
    }
   ],
   "source": [
    "jets.matched_gen"
   ]
  },
  {
   "cell_type": "code",
   "execution_count": 7,
   "id": "62315d96-4432-4cf7-82b4-350a1341939c",
   "metadata": {
    "scrolled": true
   },
   "outputs": [
    {
     "name": "stdout",
     "output_type": "stream",
     "text": [
      "checkGenIdxRecommended: True\n",
      "checkGenIdxManual: True\n",
      "checkGenIdxOld: False\n"
     ]
    }
   ],
   "source": [
    "\n",
    "\n",
    "checkGenIdxRecommended(events)\n",
    "checkGenIdxManual(events)\n",
    "jets = events.Jet.compute()\n",
    "genjets = events.GenJet.compute()\n",
    "checkGenIdxSeparate(jets, genjets)"
   ]
  },
  {
   "cell_type": "code",
   "execution_count": 11,
   "id": "1836a96e-6407-412f-9ed4-42939913bbd1",
   "metadata": {},
   "outputs": [
    {
     "name": "stderr",
     "output_type": "stream",
     "text": [
      "/depot/cms/kernels/root632/lib/python3.12/site-packages/coffea/nanoevents/methods/candidate.py:11: FutureWarning: In version 2025.1.0 (target date: 2024-12-31 11:59:59-06:00), this will be an error.\n",
      "To raise these warnings as errors (and get stack traces to find out where they're called), run\n",
      "    import warnings\n",
      "    warnings.filterwarnings(\"error\", module=\"coffea.*\")\n",
      "after the first `import coffea` or use `@pytest.mark.filterwarnings(\"error:::coffea.*\")` in pytest.\n",
      "Issue: coffea.nanoevents.methods.vector will be removed and replaced with scikit-hep vector. Nanoevents schemas internal to coffea will be migrated. Otherwise please consider using that package!.\n",
      "  from coffea.nanoevents.methods import vector\n"
     ]
    },
    {
     "name": "stdout",
     "output_type": "stream",
     "text": [
      "prepare_jets matched_jets: [[[], [], [], []], ..., [[{eta: -0.257, mass: 7.52, phi: 2.99, ...}], ...]]\n"
     ]
    }
   ],
   "source": [
    "df = events.compute()\n",
    "gjj = ak.cartesian({\"jet\": df.Jet, \"gjet\": df.GenJet}, axis=1, nested=True)\n",
    "_,_,deltar_gjj = delta_r(gjj[\"jet\"].eta, gjj[\"gjet\"].eta, gjj[\"jet\"].phi, gjj[\"gjet\"].phi)\n",
    "# matched_jets = gjj[(deltar_gjj==deltar_gjj.min())&(deltar_gjj<0.4)].i1\n",
    "mask = deltar_gjj == ak.min(deltar_gjj, axis=2)\n",
    "# gjj_filtered = gjj[mask]\n",
    "matched_jets = gjj[mask&(deltar_gjj<0.4)][\"gjet\"]\n",
    "print(f\"prepare_jets matched_jets: {matched_jets}\")\n"
   ]
  },
  {
   "cell_type": "code",
   "execution_count": 13,
   "id": "085a1d6c-4634-44d6-8c44-13016ec6570e",
   "metadata": {},
   "outputs": [
    {
     "data": {
      "text/html": [
       "<pre>[[[], [], [], []],\n",
       " [[], [], [{eta: -3.23, mass: 0.106, phi: 2.57, pt: 53.2, ...}], []],\n",
       " [[{eta: 1.96, mass: 15.4, phi: -1.55, pt: 62, partonFlavour: -5, ...}], ...],\n",
       " [[{eta: -1.44, mass: 0.812, phi: -1.44, pt: 38.4, ...}], [{...}], ..., [], []],\n",
       " [[{eta: -0.0591, mass: 2.74, phi: 2.33, pt: 29.4, ...}], [{...}], [], []],\n",
       " [[], [{eta: -1.11, mass: 1.64, phi: -1.31, pt: 13.5, ...}]],\n",
       " [[{eta: 2.68, mass: 0.000511, phi: 1.96, pt: 50.1, ...}], [{...}], ..., []],\n",
       " [[{eta: -3.94, mass: 6.41, phi: -0.441, pt: 51, ...}], [{...}], ..., [], []],\n",
       " [[{eta: -0.228, mass: 5.64, phi: -1.71, pt: 32.3, ...}], [{...}], ..., [], []],\n",
       " [[{eta: 0.838, mass: 0.566, phi: -2.4, pt: 68.5, ...}], [{...}]],\n",
       " [[{eta: 0.634, mass: 3.14, phi: -2.92, pt: 48.5, ...}], [{...}], []],\n",
       " [[{eta: -1.86, mass: 1.21, phi: -2.27, pt: 28.1, ...}], [{...}], ..., [{...}]],\n",
       " [[{eta: 1.39, mass: 3.41, phi: 2.74, pt: 54.4, partonFlavour: 0, ...}], ...],\n",
       " [None, None, None],\n",
       " [[{eta: -1.02, mass: 2.85, phi: -1.5, pt: 58.4, ...}], [{...}], ..., [], []],\n",
       " [[{eta: 0.598, mass: 0.000511, phi: -2.29, pt: 48.7, ...}], [], ..., [], []],\n",
       " [[{eta: -0.584, mass: 10.7, phi: 0.543, pt: 55.4, ...}], [{...}], ..., [], []],\n",
       " [[{eta: 2.76, mass: 1.56, phi: -1.49, pt: 26.6, partonFlavour: 0, ...}]],\n",
       " [[{eta: 5.01, mass: 1.65, phi: 3.03, pt: 31.3, partonFlavour: 0, ...}], ...],\n",
       " [[{eta: -0.257, mass: 7.52, phi: 2.99, pt: 56.9, ...}], [{...}], ..., [{...}]]]\n",
       "---------------------------------------------------------------------------------------------------------------------\n",
       "type: 20 * var * option[var * PtEtaPhiMCollection[\n",
       "    eta: float32[parameters={&quot;__doc__&quot;: &quot;eta&quot;}],\n",
       "    mass: float32[parameters={&quot;__doc__&quot;: &quot;mass&quot;}],\n",
       "    phi: float32[parameters={&quot;__doc__&quot;: &quot;phi&quot;}],\n",
       "    pt: float32[parameters={&quot;__doc__&quot;: &quot;pt&quot;}],\n",
       "    partonFlavour: int32[parameters={&quot;__doc__&quot;: &quot;flavour from parton matching&quot;}],\n",
       "    hadronFlavour: uint8[parameters={&quot;__doc__&quot;: &quot;flavour from hadron ghost clustering&quot;}], \n",
       "parameters={&quot;collection_name&quot;: &quot;GenJet&quot;, &quot;__doc__&quot;: &quot;slimmedGenJets, i.e. ak4 Jets made with visible genparticles&quot;}]]</pre>"
      ],
      "text/plain": [
       "<PtEtaPhiMCollectionArray [[[], [], [], []], ..., [[{...}], ...]] type='20 ...'>"
      ]
     },
     "execution_count": 13,
     "metadata": {},
     "output_type": "execute_result"
    }
   ],
   "source": [
    "matched_jets"
   ]
  },
  {
   "cell_type": "code",
   "execution_count": 22,
   "id": "f0750291-66dd-416d-a3c8-5c7a9ea760d9",
   "metadata": {},
   "outputs": [
    {
     "data": {
      "text/html": [
       "<pre>[0,\n",
       " 1,\n",
       " 3,\n",
       " 3,\n",
       " 2,\n",
       " 1,\n",
       " 2,\n",
       " 4,\n",
       " 2,\n",
       " 2,\n",
       " 2,\n",
       " 4,\n",
       " 4,\n",
       " 0,\n",
       " 2,\n",
       " 3,\n",
       " 4,\n",
       " 1,\n",
       " 3,\n",
       " 4]\n",
       "----------------\n",
       "type: 20 * int64</pre>"
      ],
      "text/plain": [
       "<Array [0, 1, 3, 3, 2, 1, 2, 4, ..., 4, 0, 2, 3, 4, 1, 3, 4] type='20 * int64'>"
      ]
     },
     "execution_count": 22,
     "metadata": {},
     "output_type": "execute_result"
    }
   ],
   "source": [
    "# ak.num(matched_jets, axis=1)\n",
    "ak.num(ak.flatten(matched_jets, axis=-1), axis=1)"
   ]
  },
  {
   "cell_type": "code",
   "execution_count": 23,
   "id": "89ed45b3-6417-4f9b-9f3e-47fa38568b37",
   "metadata": {},
   "outputs": [
    {
     "data": {
      "text/html": [
       "<pre>[[],\n",
       " [{eta: -3.23, mass: 0.106, phi: 2.57, pt: 53.2, partonFlavour: 0, ...}],\n",
       " [{eta: 1.96, mass: 15.4, phi: -1.55, pt: 62, partonFlavour: -5, ...}, ...],\n",
       " [{eta: -1.44, mass: 0.812, phi: -1.44, pt: 38.4, ...}, ..., {eta: -1.3, ...}],\n",
       " [{eta: -0.0591, mass: 2.74, phi: 2.33, pt: 29.4, ...}, {eta: 0.722, ...}],\n",
       " [{eta: -1.11, mass: 1.64, phi: -1.31, pt: 13.5, partonFlavour: 0, ...}],\n",
       " [{eta: 2.68, mass: 0.000511, phi: 1.96, pt: 50.1, ...}, {eta: 2.69, ...}],\n",
       " [{eta: -3.94, mass: 6.41, phi: -0.441, pt: 51, partonFlavour: 0, ...}, ...],\n",
       " [{eta: -0.228, mass: 5.64, phi: -1.71, pt: 32.3, ...}, {eta: 0.436, ...}],\n",
       " [{eta: 0.838, mass: 0.566, phi: -2.4, pt: 68.5, partonFlavour: 0, ...}, ...],\n",
       " [{eta: 0.634, mass: 3.14, phi: -2.92, pt: 48.5, partonFlavour: 0, ...}, ...],\n",
       " [{eta: -1.86, mass: 1.21, phi: -2.27, pt: 28.1, partonFlavour: 0, ...}, ...],\n",
       " [{eta: 1.39, mass: 3.41, phi: 2.74, pt: 54.4, partonFlavour: 0, ...}, ...],\n",
       " [],\n",
       " [{eta: -1.02, mass: 2.85, phi: -1.5, pt: 58.4, partonFlavour: 0, ...}, ...],\n",
       " [{eta: 0.598, mass: 0.000511, phi: -2.29, pt: 48.7, ...}, {...}, {...}],\n",
       " [{eta: -0.584, mass: 10.7, phi: 0.543, pt: 55.4, ...}, ..., {eta: ..., ...}],\n",
       " [{eta: 2.76, mass: 1.56, phi: -1.49, pt: 26.6, partonFlavour: 0, ...}],\n",
       " [{eta: 5.01, mass: 1.65, phi: 3.03, pt: 31.3, partonFlavour: 0, ...}, ...],\n",
       " [{eta: -0.257, mass: 7.52, phi: 2.99, pt: 56.9, partonFlavour: 0, ...}, ...]]\n",
       "--------------------------------------------------------------------------------------------------------------------\n",
       "type: 20 * var * PtEtaPhiMCollection[\n",
       "    eta: float32[parameters={&quot;__doc__&quot;: &quot;eta&quot;}],\n",
       "    mass: float32[parameters={&quot;__doc__&quot;: &quot;mass&quot;}],\n",
       "    phi: float32[parameters={&quot;__doc__&quot;: &quot;phi&quot;}],\n",
       "    pt: float32[parameters={&quot;__doc__&quot;: &quot;pt&quot;}],\n",
       "    partonFlavour: int32[parameters={&quot;__doc__&quot;: &quot;flavour from parton matching&quot;}],\n",
       "    hadronFlavour: uint8[parameters={&quot;__doc__&quot;: &quot;flavour from hadron ghost clustering&quot;}], \n",
       "parameters={&quot;collection_name&quot;: &quot;GenJet&quot;, &quot;__doc__&quot;: &quot;slimmedGenJets, i.e. ak4 Jets made with visible genparticles&quot;}]</pre>"
      ],
      "text/plain": [
       "<PtEtaPhiMCollectionArray [[], ..., [{eta: -0.257, ...}, ...]] type='20 * v...'>"
      ]
     },
     "execution_count": 23,
     "metadata": {},
     "output_type": "execute_result"
    }
   ],
   "source": [
    "ak.flatten(matched_jets, axis=-1)"
   ]
  },
  {
   "cell_type": "code",
   "execution_count": 21,
   "id": "cffbd99f-0a91-4ee4-885b-4d15560e6dce",
   "metadata": {},
   "outputs": [
    {
     "data": {
      "text/html": [
       "<pre>[0,\n",
       " 1,\n",
       " 3,\n",
       " 3,\n",
       " 2,\n",
       " 1,\n",
       " 2,\n",
       " 4,\n",
       " 3,\n",
       " 2,\n",
       " 2,\n",
       " 4,\n",
       " 4,\n",
       " 0,\n",
       " 3,\n",
       " 3,\n",
       " 4,\n",
       " 1,\n",
       " 3,\n",
       " 4]\n",
       "----------------\n",
       "type: 20 * int64</pre>"
      ],
      "text/plain": [
       "<Array [0, 1, 3, 3, 2, 1, 2, 4, ..., 4, 0, 3, 3, 4, 1, 3, 4] type='20 * int64'>"
      ]
     },
     "execution_count": 21,
     "metadata": {},
     "output_type": "execute_result"
    }
   ],
   "source": [
    "ak.sum(df.Jet.genJetIdx >= 0, axis=1)"
   ]
  },
  {
   "cell_type": "code",
   "execution_count": 16,
   "id": "68cc718d-1b43-49ec-a8d1-bc99ab8c6f81",
   "metadata": {},
   "outputs": [
    {
     "name": "stdout",
     "output_type": "stream",
     "text": [
      "[4, 4, 5, 6, 4, 2, 5, 6, 6, 2, 3, 4, 4, 3, 5, 10, 6, 1, 5, 4]\n",
      "[3, 2, 3, 4, 3, 2, 2, 4, 6, 3, 2, 5, 4, 0, 3, 3, 4, 2, 4, 6]\n"
     ]
    }
   ],
   "source": [
    "print(ak.num(df.Jet, axis=1))\n",
    "print(ak.num(df.GenJet, axis=1))"
   ]
  },
  {
   "cell_type": "code",
   "execution_count": 34,
   "id": "b6340559-1fea-4e25-8ea6-5bc0941e8ac5",
   "metadata": {},
   "outputs": [
    {
     "name": "stdout",
     "output_type": "stream",
     "text": [
      "prepare_jets matched_jets: [[[], [], [], []], ..., [[{eta: -0.257, mass: 7.52, phi: 2.99, ...}], ...]]\n"
     ]
    }
   ],
   "source": []
  },
  {
   "cell_type": "code",
   "execution_count": 37,
   "id": "f2ba099d-65b8-46c2-9922-6db32dbcf347",
   "metadata": {},
   "outputs": [
    {
     "ename": "AttributeError",
     "evalue": "no field named 'counts'",
     "output_type": "error",
     "traceback": [
      "\u001b[0;31m---------------------------------------------------------------------------\u001b[0m",
      "\u001b[0;31mAttributeError\u001b[0m                            Traceback (most recent call last)",
      "Cell \u001b[0;32mIn[37], line 2\u001b[0m\n\u001b[1;32m      1\u001b[0m \u001b[38;5;66;03m# mask & (deltar_gjj<0.4)\u001b[39;00m\n\u001b[0;32m----> 2\u001b[0m \u001b[43mmatched_jets\u001b[49m\u001b[38;5;241;43m.\u001b[39;49m\u001b[43mcounts\u001b[49m\n",
      "File \u001b[0;32m/depot/cms/kernels/root632/lib/python3.12/site-packages/awkward/highlevel.py:1289\u001b[0m, in \u001b[0;36mArray.__getattr__\u001b[0;34m(self, where)\u001b[0m\n\u001b[1;32m   1284\u001b[0m         \u001b[38;5;28;01mraise\u001b[39;00m \u001b[38;5;167;01mAttributeError\u001b[39;00m(\n\u001b[1;32m   1285\u001b[0m             \u001b[38;5;124mf\u001b[39m\u001b[38;5;124m\"\u001b[39m\u001b[38;5;124mwhile trying to get field \u001b[39m\u001b[38;5;132;01m{\u001b[39;00mwhere\u001b[38;5;132;01m!r}\u001b[39;00m\u001b[38;5;124m, an exception \u001b[39m\u001b[38;5;124m\"\u001b[39m\n\u001b[1;32m   1286\u001b[0m             \u001b[38;5;124mf\u001b[39m\u001b[38;5;124m\"\u001b[39m\u001b[38;5;124moccurred:\u001b[39m\u001b[38;5;130;01m\\n\u001b[39;00m\u001b[38;5;132;01m{\u001b[39;00m\u001b[38;5;28mtype\u001b[39m(err)\u001b[38;5;132;01m}\u001b[39;00m\u001b[38;5;124m: \u001b[39m\u001b[38;5;132;01m{\u001b[39;00merr\u001b[38;5;132;01m!s}\u001b[39;00m\u001b[38;5;124m\"\u001b[39m\n\u001b[1;32m   1287\u001b[0m         ) \u001b[38;5;28;01mfrom\u001b[39;00m \u001b[38;5;21;01merr\u001b[39;00m\n\u001b[1;32m   1288\u001b[0m \u001b[38;5;28;01melse\u001b[39;00m:\n\u001b[0;32m-> 1289\u001b[0m     \u001b[38;5;28;01mraise\u001b[39;00m \u001b[38;5;167;01mAttributeError\u001b[39;00m(\u001b[38;5;124mf\u001b[39m\u001b[38;5;124m\"\u001b[39m\u001b[38;5;124mno field named \u001b[39m\u001b[38;5;132;01m{\u001b[39;00mwhere\u001b[38;5;132;01m!r}\u001b[39;00m\u001b[38;5;124m\"\u001b[39m)\n",
      "\u001b[0;31mAttributeError\u001b[0m: no field named 'counts'"
     ]
    }
   ],
   "source": [
    "# mask & (deltar_gjj<0.4)"
   ]
  },
  {
   "cell_type": "code",
   "execution_count": 39,
   "id": "8af41ddc-a902-4934-be5b-c2a42b5316fc",
   "metadata": {},
   "outputs": [
    {
     "data": {
      "text/html": [
       "<pre>[[],\n",
       " [],\n",
       " [],\n",
       " [],\n",
       " [],\n",
       " [],\n",
       " [{eta: -3.23, mass: 0.106, phi: 2.57, pt: 53.2, partonFlavour: 0, ...}],\n",
       " [],\n",
       " [{eta: 1.96, mass: 15.4, phi: -1.55, pt: 62, partonFlavour: -5, ...}],\n",
       " [{eta: 0.801, mass: 3.31, phi: 1.34, pt: 39.9, partonFlavour: 2, ...}],\n",
       " ...,\n",
       " [{eta: 5.01, mass: 1.65, phi: 3.03, pt: 31.3, partonFlavour: 0, ...}],\n",
       " [{eta: 1.49, mass: 1.88, phi: 1.2, pt: 21.1, partonFlavour: 0, ...}],\n",
       " [{eta: 4.18, mass: 6.1, phi: -0.471, pt: 28.3, partonFlavour: 21, ...}],\n",
       " [],\n",
       " [],\n",
       " [{eta: -0.257, mass: 7.52, phi: 2.99, pt: 56.9, partonFlavour: 0, ...}],\n",
       " [{eta: -0.0547, mass: 3.36, phi: -0.252, pt: 55.5, partonFlavour: 0, ...}],\n",
       " [{eta: -2.21, mass: 3.97, phi: -2.59, pt: 18.4, partonFlavour: -4, ...}],\n",
       " [{eta: 3.14, mass: 3.5, phi: 2.04, pt: 10.8, partonFlavour: 0, ...}]]\n",
       "---------------------------------------------------------------------------------------------------------------------\n",
       "type: 89 * option[var * PtEtaPhiMCollection[\n",
       "    eta: float32[parameters={&quot;__doc__&quot;: &quot;eta&quot;}],\n",
       "    mass: float32[parameters={&quot;__doc__&quot;: &quot;mass&quot;}],\n",
       "    phi: float32[parameters={&quot;__doc__&quot;: &quot;phi&quot;}],\n",
       "    pt: float32[parameters={&quot;__doc__&quot;: &quot;pt&quot;}],\n",
       "    partonFlavour: int32[parameters={&quot;__doc__&quot;: &quot;flavour from parton matching&quot;}],\n",
       "    hadronFlavour: uint8[parameters={&quot;__doc__&quot;: &quot;flavour from hadron ghost clustering&quot;}], \n",
       "parameters={&quot;collection_name&quot;: &quot;GenJet&quot;, &quot;__doc__&quot;: &quot;slimmedGenJets, i.e. ak4 Jets made with visible genparticles&quot;}]]</pre>"
      ],
      "text/plain": [
       "<PtEtaPhiMCollectionArray [[], ..., [{eta: 3.14, mass: 3.5, ...}]] type='89...'>"
      ]
     },
     "execution_count": 39,
     "metadata": {},
     "output_type": "execute_result"
    }
   ],
   "source": [
    "# matched_jets_flat = matched_jets.flatten()[matched_jets.flatten().counts>0,0]\n",
    "matched_jets_flat = ak.flatten(matched_jets, axis=1)\n",
    "matched_jets_flat"
   ]
  },
  {
   "cell_type": "code",
   "execution_count": 19,
   "id": "1ac6f349-2d6b-40b1-9fca-4266547b19cd",
   "metadata": {},
   "outputs": [
    {
     "data": {
      "text/html": [
       "<pre>[[1.59, 3.32, 6.57, 0.832],\n",
       " [4.44, 7.35, 0.203, 2.91],\n",
       " [0.0167, 0.0047, 0.064, 1.86, 4],\n",
       " [0.0353, 0.0278, 0.0113, 2.24, 2.25, 2.72],\n",
       " [0.00629, 0.0643, 2.81, 3.62],\n",
       " [3.89, 0.018],\n",
       " [0.04, 0.00743, 0.655, 0.634, 5.95],\n",
       " [0.0365, 0.0521, 0.0325, 0.0448, 4.33, 2.79],\n",
       " [0.0319, 0.0147, 2.9, 0.864, 1.11, 0.732],\n",
       " [0.00291, 0.059],\n",
       " [0.0222, 0.00284, 1.21],\n",
       " [0.0153, 0.0692, 0.0106, 0.063],\n",
       " [0.000546, 0.0628, 0.0422, 0.0912],\n",
       " [None, None, None],\n",
       " [0.0134, 0.0997, 2.33, 1.33, 2.7],\n",
       " [0.0457, 4.01, 0.015, 0.0413, 2.62, 4.1, 1.87, 2.09, 2.13, 0.614],\n",
       " [0.00208, 0.00809, 0.0172, 0.00589, 3.63, 4.14],\n",
       " [0.0268],\n",
       " [0.122, 0.0698, 0.0657, 3.33, 1.95],\n",
       " [0.0223, 0.00463, 0.062, 0.379]]\n",
       "-------------------------------------------------------------------\n",
       "type: 20 * var * ?float32</pre>"
      ],
      "text/plain": [
       "<Array [[1.59, 3.32, 6.57, 0.832], ..., [...]] type='20 * var * ?float32'>"
      ]
     },
     "execution_count": 19,
     "metadata": {},
     "output_type": "execute_result"
    }
   ],
   "source": [
    "# ak.num(deltar_gjj,axis=2)\n",
    "ak.min(deltar_gjj, axis=2)"
   ]
  },
  {
   "cell_type": "code",
   "execution_count": 26,
   "id": "0adb3e45-58a6-4166-bf0d-484ac81501aa",
   "metadata": {},
   "outputs": [],
   "source": [
    "mask = deltar_gjj == ak.min(deltar_gjj, axis=2)\n",
    "gjj_filtered = gjj[mask]"
   ]
  },
  {
   "cell_type": "code",
   "execution_count": 30,
   "id": "27c06a7a-d169-4a6e-a33c-5b7602ff843c",
   "metadata": {
    "scrolled": true
   },
   "outputs": [
    {
     "data": {
      "text/html": [
       "<pre>[[[1.59], [3.32], [6.57], [0.832]],\n",
       " [[4.44], [7.35], [0.203], [2.91]],\n",
       " [[0.0167], [0.0047], [0.064], [1.86], [4]],\n",
       " [[0.0353], [0.0278], [0.0113], [2.24], [2.25], [2.72]],\n",
       " [[0.00629], [0.0643], [2.81], [3.62]],\n",
       " [[3.89], [0.018]],\n",
       " [[0.04], [0.00743], [0.655], [0.634], [5.95]],\n",
       " [[0.0365], [0.0521], [0.0325], [0.0448], [4.33], [2.79]],\n",
       " [[0.0319], [0.0147], [2.9], [0.864], [1.11], [0.732]],\n",
       " [[0.00291], [0.059]],\n",
       " [[0.0222], [0.00284], [1.21]],\n",
       " [[0.0153], [0.0692], [0.0106], [0.063]],\n",
       " [[0.000546], [0.0628], [0.0422], [0.0912]],\n",
       " [None, None, None],\n",
       " [[0.0134], [0.0997], [2.33], [1.33], [2.7]],\n",
       " [[0.0457], [4.01], [0.015], [0.0413], ..., [1.87], [2.09], [2.13], [0.614]],\n",
       " [[0.00208], [0.00809], [0.0172], [0.00589], [3.63], [4.14]],\n",
       " [[0.0268]],\n",
       " [[0.122], [0.0698], [0.0657], [3.33], [1.95]],\n",
       " [[0.0223], [0.00463], [0.062], [0.379]]]\n",
       "-----------------------------------------------------------------------------\n",
       "type: 20 * var * option[var * float32]</pre>"
      ],
      "text/plain": [
       "<Array [[[1.59], [3.32], ..., [0.832]], ...] type='20 * var * option[var * ...'>"
      ]
     },
     "execution_count": 30,
     "metadata": {},
     "output_type": "execute_result"
    }
   ],
   "source": [
    "_,_,deltar_gjj_masked = delta_r(df.Jet.eta, gjj_filtered[\"gjet\"].eta, df.Jet.phi, gjj_filtered[\"gjet\"].phi)\n",
    "deltar_gjj_masked"
   ]
  },
  {
   "cell_type": "code",
   "execution_count": null,
   "id": "c192d08a-32e5-458b-bf17-ba20ce228bd0",
   "metadata": {},
   "outputs": [],
   "source": []
  },
  {
   "cell_type": "code",
   "execution_count": 21,
   "id": "cdd0ed4e-176b-44fc-8225-38db4a1df546",
   "metadata": {},
   "outputs": [
    {
     "data": {
      "text/html": [
       "<pre>[[3.44, 1.59, 2.11],\n",
       " [3.32, 4.32, 4],\n",
       " [6.85, 6.57, 6.76],\n",
       " [0.832, 2.19, 2.35]]\n",
       "-----------------------\n",
       "type: 4 * var * float32</pre>"
      ],
      "text/plain": [
       "<Array [[3.44, 1.59, 2.11], ..., [0.832, ..., 2.35]] type='4 * var * float32'>"
      ]
     },
     "execution_count": 21,
     "metadata": {},
     "output_type": "execute_result"
    }
   ],
   "source": [
    "# ak.min(deltar_gjj, axis=1)\n",
    "deltar_gjj[0]"
   ]
  },
  {
   "cell_type": "code",
   "execution_count": null,
   "id": "906e6f3b-2a72-4ad0-98a9-db8633d0ad38",
   "metadata": {},
   "outputs": [],
   "source": [
    "matched_jets_flat = matched_jets.flatten()[matched_jets.flatten().counts>0,0]\n",
    "matched_jets_new = awkward.JaggedArray.fromcounts((matched_jets.flatten().counts>0).astype(int), matched_jets_flat)\n",
    "df[\"Jet\",'matched_genjet'] = awkward.JaggedArray.fromcounts(matched_jets.counts,matched_jets_new)"
   ]
  },
  {
   "cell_type": "code",
   "execution_count": 1,
   "id": "802838e0-32cc-40af-aebd-b945072cce5d",
   "metadata": {},
   "outputs": [
    {
     "name": "stdout",
     "output_type": "stream",
     "text": [
      "The history saving thread hit an unexpected error (OperationalError('attempt to write a readonly database')).History will not be written to the database.\n"
     ]
    }
   ],
   "source": [
    "import ROOT as rt"
   ]
  },
  {
   "cell_type": "code",
   "execution_count": 2,
   "id": "47591616-787c-40ee-bfcc-51f7be5aa9e7",
   "metadata": {},
   "outputs": [],
   "source": [
    "file = rt.TFile(\"data2018Snapshot.root\")"
   ]
  },
  {
   "cell_type": "code",
   "execution_count": 3,
   "id": "9870fafc-dd4c-40b7-9804-0461e38130a5",
   "metadata": {},
   "outputs": [
    {
     "name": "stdout",
     "output_type": "stream",
     "text": [
      "TFile**\t\tdata2018Snapshot.root\tout/data2018Snapshot.root\n",
      " TFile*\t\tdata2018Snapshot.root\tout/data2018Snapshot.root\n",
      "  KEY: TTree\tEvents;1\tEvents\n"
     ]
    }
   ],
   "source": [
    "file.ls()"
   ]
  },
  {
   "cell_type": "code",
   "execution_count": 12,
   "id": "834a7bd8-7098-479e-82c6-021db79f44ab",
   "metadata": {
    "scrolled": true
   },
   "outputs": [
    {
     "ename": "AttributeError",
     "evalue": "'TTree' object has no attribute 'get'",
     "output_type": "error",
     "traceback": [
      "\u001b[0;31m---------------------------------------------------------------------------\u001b[0m",
      "\u001b[0;31mAttributeError\u001b[0m                            Traceback (most recent call last)",
      "Cell \u001b[0;32mIn[12], line 1\u001b[0m\n\u001b[0;32m----> 1\u001b[0m \u001b[43mfile\u001b[49m\u001b[43m[\u001b[49m\u001b[38;5;124;43m\"\u001b[39;49m\u001b[38;5;124;43mEvents\u001b[39;49m\u001b[38;5;124;43m\"\u001b[39;49m\u001b[43m]\u001b[49m\u001b[38;5;241;43m.\u001b[39;49m\u001b[43mget\u001b[49m(\u001b[38;5;124m\"\u001b[39m\u001b[38;5;124mDNN18AtanM1250\u001b[39m\u001b[38;5;124m\"\u001b[39m)\n",
      "File \u001b[0;32m/depot/cms/kernels/root632/lib/python3.12/site-packages/ROOT/_pythonization/_ttree.py:241\u001b[0m, in \u001b[0;36m_TTree__getattr__\u001b[0;34m(self, key)\u001b[0m\n\u001b[1;32m    223\u001b[0m \u001b[38;5;250m\u001b[39m\u001b[38;5;124;03m\"\"\"\u001b[39;00m\n\u001b[1;32m    224\u001b[0m \u001b[38;5;124;03mAllow branches to be accessed as attributes of a tree.\u001b[39;00m\n\u001b[1;32m    225\u001b[0m \n\u001b[0;32m   (...)\u001b[0m\n\u001b[1;32m    236\u001b[0m \u001b[38;5;124;03mkey (str): The name of the branch to retrieve from the TTree object.\u001b[39;00m\n\u001b[1;32m    237\u001b[0m \u001b[38;5;124;03m\"\"\"\u001b[39;00m\n\u001b[1;32m    239\u001b[0m \u001b[38;5;28;01mimport\u001b[39;00m \u001b[38;5;21;01mcppyy\u001b[39;00m\u001b[38;5;21;01m.\u001b[39;00m\u001b[38;5;21;01mll\u001b[39;00m\n\u001b[0;32m--> 241\u001b[0m out, cast_type \u001b[38;5;241m=\u001b[39m \u001b[43mGetBranchAttr\u001b[49m\u001b[43m(\u001b[49m\u001b[38;5;28;43mself\u001b[39;49m\u001b[43m,\u001b[49m\u001b[43m \u001b[49m\u001b[43mkey\u001b[49m\u001b[43m)\u001b[49m\n\u001b[1;32m    242\u001b[0m \u001b[38;5;28;01mif\u001b[39;00m cast_type:\n\u001b[1;32m    243\u001b[0m     out \u001b[38;5;241m=\u001b[39m cppyy\u001b[38;5;241m.\u001b[39mll\u001b[38;5;241m.\u001b[39mcast[cast_type](out)\n",
      "\u001b[0;31mAttributeError\u001b[0m: 'TTree' object has no attribute 'get'"
     ]
    }
   ],
   "source": [
    "file[\"Events\"].get(\"DNN18AtanM1250\")"
   ]
  },
  {
   "cell_type": "code",
   "execution_count": 10,
   "id": "f5d91981-6682-4901-a610-0c139070afc0",
   "metadata": {},
   "outputs": [],
   "source": [
    "import uproot\n",
    "uproot_file = uproot.open(\"data2018Snapshot.root\")"
   ]
  },
  {
   "cell_type": "code",
   "execution_count": 18,
   "id": "28a5a685-d528-428d-bed6-b888e515dea4",
   "metadata": {},
   "outputs": [
    {
     "data": {
      "text/html": [
       "<pre>[0.0472,\n",
       " 0.291,\n",
       " 0.0981,\n",
       " 0.0623,\n",
       " 0.678,\n",
       " 1.03,\n",
       " 0.708,\n",
       " 0.323,\n",
       " 0.0361,\n",
       " 1.34,\n",
       " ...,\n",
       " 0.966,\n",
       " 0.831,\n",
       " 0.136,\n",
       " 1.05,\n",
       " 0.662,\n",
       " 0.198,\n",
       " 0.162,\n",
       " 1.24,\n",
       " 1.02]\n",
       "--------------------\n",
       "type: 3950 * float32</pre>"
      ],
      "text/plain": [
       "<Array [0.0472, 0.291, 0.0981, ..., 0.162, 1.24, 1.02] type='3950 * float32'>"
      ]
     },
     "execution_count": 18,
     "metadata": {},
     "output_type": "execute_result"
    }
   ],
   "source": [
    "uproot_file[\"Events\"][\"DNN18AtanM1250\"].array()"
   ]
  },
  {
   "cell_type": "code",
   "execution_count": null,
   "id": "048094bb-16c9-412d-a508-cb8bea0f7917",
   "metadata": {},
   "outputs": [],
   "source": []
  }
 ],
 "metadata": {
  "kernelspec": {
   "display_name": "Python [conda env:root632]",
   "language": "python",
   "name": "conda-env-root632-py"
  },
  "language_info": {
   "codemirror_mode": {
    "name": "ipython",
    "version": 3
   },
   "file_extension": ".py",
   "mimetype": "text/x-python",
   "name": "python",
   "nbconvert_exporter": "python",
   "pygments_lexer": "ipython3",
   "version": "3.12.7"
  }
 },
 "nbformat": 4,
 "nbformat_minor": 5
}
