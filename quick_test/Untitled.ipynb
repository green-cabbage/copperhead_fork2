{
 "cells": [
  {
   "cell_type": "code",
   "execution_count": 1,
   "id": "88f8254a-b07f-4082-9d92-ddda0a537a8f",
   "metadata": {},
   "outputs": [
    {
     "name": "stderr",
     "output_type": "stream",
     "text": [
      "2024-12-03 00:23:45.502824: E external/local_xla/xla/stream_executor/cuda/cuda_dnn.cc:9261] Unable to register cuDNN factory: Attempting to register factory for plugin cuDNN when one has already been registered\n",
      "2024-12-03 00:23:45.502932: E external/local_xla/xla/stream_executor/cuda/cuda_fft.cc:607] Unable to register cuFFT factory: Attempting to register factory for plugin cuFFT when one has already been registered\n",
      "2024-12-03 00:23:45.641277: E external/local_xla/xla/stream_executor/cuda/cuda_blas.cc:1515] Unable to register cuBLAS factory: Attempting to register factory for plugin cuBLAS when one has already been registered\n",
      "2024-12-03 00:23:46.091952: I tensorflow/core/platform/cpu_feature_guard.cc:182] This TensorFlow binary is optimized to use available CPU instructions in performance-critical operations.\n",
      "To enable the following instructions: AVX2 FMA, in other operations, rebuild TensorFlow with the appropriate compiler flags.\n",
      "2024-12-03 00:24:23.693815: W tensorflow/compiler/tf2tensorrt/utils/py_utils.cc:38] TF-TRT Warning: Could not find TensorRT\n"
     ]
    }
   ],
   "source": [
    "import keras"
   ]
  },
  {
   "cell_type": "code",
   "execution_count": 2,
   "id": "ad0b2086-6eb1-4f72-9465-32c093f69dd2",
   "metadata": {},
   "outputs": [
    {
     "name": "stdout",
     "output_type": "stream",
     "text": [
      "dnn_allyears_jul7_0.h5\t\thistory_allyears_jul7_2.coffea\n",
      "dnn_allyears_jul7_1.h5\t\thistory_allyears_jul7_3.coffea\n",
      "dnn_allyears_jul7_2.h5\t\tscalers_allyears_jul7_0.npy\n",
      "dnn_allyears_jul7_3.h5\t\tscalers_allyears_jul7_1.npy\n",
      "history_allyears_jul7_0.coffea\tscalers_allyears_jul7_2.npy\n",
      "history_allyears_jul7_1.coffea\tscalers_allyears_jul7_3.npy\n"
     ]
    }
   ],
   "source": [
    "! ls /depot/cms/hmm/trained_models/dnn_allyears_128_64_32/"
   ]
  },
  {
   "cell_type": "code",
   "execution_count": 1,
   "id": "0b2c6a08-7ee7-478b-9d97-2cd7378cb719",
   "metadata": {},
   "outputs": [
    {
     "name": "stderr",
     "output_type": "stream",
     "text": [
      "2024-12-03 15:31:58.108131: E external/local_xla/xla/stream_executor/cuda/cuda_dnn.cc:9261] Unable to register cuDNN factory: Attempting to register factory for plugin cuDNN when one has already been registered\n",
      "2024-12-03 15:31:58.108200: E external/local_xla/xla/stream_executor/cuda/cuda_fft.cc:607] Unable to register cuFFT factory: Attempting to register factory for plugin cuFFT when one has already been registered\n",
      "2024-12-03 15:31:58.109338: E external/local_xla/xla/stream_executor/cuda/cuda_blas.cc:1515] Unable to register cuBLAS factory: Attempting to register factory for plugin cuBLAS when one has already been registered\n",
      "2024-12-03 15:31:58.116475: I tensorflow/core/platform/cpu_feature_guard.cc:182] This TensorFlow binary is optimized to use available CPU instructions in performance-critical operations.\n",
      "To enable the following instructions: AVX2 FMA, in other operations, rebuild TensorFlow with the appropriate compiler flags.\n",
      "2024-12-03 15:32:17.408108: W tensorflow/compiler/tf2tensorrt/utils/py_utils.cc:38] TF-TRT Warning: Could not find TensorRT\n"
     ]
    }
   ],
   "source": [
    "import tensorflow as tf"
   ]
  },
  {
   "cell_type": "code",
   "execution_count": 2,
   "id": "7c9eba79-25e2-4676-b8f9-1927045e22e2",
   "metadata": {},
   "outputs": [
    {
     "name": "stdout",
     "output_type": "stream",
     "text": [
      "Model: \"model_2\"\n",
      "_________________________________________________________________\n",
      " Layer (type)                Output Shape              Param #   \n",
      "=================================================================\n",
      " allyears_jul7_2_input (Inp  [(None, 25)]              0         \n",
      " utLayer)                                                        \n",
      "                                                                 \n",
      " allyears_jul7_2_layer_1 (D  (None, 128)               3328      \n",
      " ense)                                                           \n",
      "                                                                 \n",
      " dropout_6 (Dropout)         (None, 128)               0         \n",
      "                                                                 \n",
      " batch_normalization_v1_6 (  (None, 128)               512       \n",
      " BatchNormalization)                                             \n",
      "                                                                 \n",
      " allyears_jul7_2_layer_2 (D  (None, 64)                8256      \n",
      " ense)                                                           \n",
      "                                                                 \n",
      " dropout_7 (Dropout)         (None, 64)                0         \n",
      "                                                                 \n",
      " batch_normalization_v1_7 (  (None, 64)                256       \n",
      " BatchNormalization)                                             \n",
      "                                                                 \n",
      " allyears_jul7_2_layer_3 (D  (None, 32)                2080      \n",
      " ense)                                                           \n",
      "                                                                 \n",
      " dropout_8 (Dropout)         (None, 32)                0         \n",
      "                                                                 \n",
      " batch_normalization_v1_8 (  (None, 32)                128       \n",
      " BatchNormalization)                                             \n",
      "                                                                 \n",
      " allyears_jul7_2_output (De  (None, 1)                 33        \n",
      " nse)                                                            \n",
      "                                                                 \n",
      "=================================================================\n",
      "Total params: 14593 (57.00 KB)\n",
      "Trainable params: 14145 (55.25 KB)\n",
      "Non-trainable params: 448 (1.75 KB)\n",
      "_________________________________________________________________\n"
     ]
    }
   ],
   "source": [
    "# Recreate the exact same model, including its weights and the optimizer\n",
    "new_model = tf.keras.models.load_model('/depot/cms/hmm/trained_models/dnn_allyears_128_64_32/dnn_allyears_jul7_2.h5')\n",
    "\n",
    "# Show the model architecture\n",
    "new_model.summary()\n"
   ]
  },
  {
   "cell_type": "code",
   "execution_count": 8,
   "id": "ecca117d-14f7-4273-85f8-8af151056462",
   "metadata": {},
   "outputs": [
    {
     "data": {
      "text/plain": [
       "'2.15.1'"
      ]
     },
     "execution_count": 8,
     "metadata": {},
     "output_type": "execute_result"
    }
   ],
   "source": [
    "tf.__version__"
   ]
  },
  {
   "cell_type": "code",
   "execution_count": 7,
   "id": "ab29546a-d12b-4c70-8e9c-17348ad36771",
   "metadata": {},
   "outputs": [
    {
     "name": "stdout",
     "output_type": "stream",
     "text": [
      "dnn_allyears_jul7_0.h5\t\thistory_allyears_jul7_2.coffea\n",
      "dnn_allyears_jul7_1.h5\t\thistory_allyears_jul7_3.coffea\n",
      "dnn_allyears_jul7_2.h5\t\tscalers_allyears_jul7_0.npy\n",
      "dnn_allyears_jul7_3.h5\t\tscalers_allyears_jul7_1.npy\n",
      "history_allyears_jul7_0.coffea\tscalers_allyears_jul7_2.npy\n",
      "history_allyears_jul7_1.coffea\tscalers_allyears_jul7_3.npy\n"
     ]
    }
   ],
   "source": [
    "! ls /depot/cms/hmm/trained_models/dnn_allyears_128_64_32/scalers_allyears_jul7_0.npy"
   ]
  },
  {
   "cell_type": "code",
   "execution_count": 5,
   "id": "5079eb7d-940d-4e34-a47a-eb4919bf9e60",
   "metadata": {},
   "outputs": [
    {
     "name": "stdout",
     "output_type": "stream",
     "text": [
      "1/1 [==============================] - 0s 48ms/step\n"
     ]
    }
   ],
   "source": [
    "import numpy as np\n",
    "input_test = np.random.random((2,25))\n",
    "out = new_model.predict(input_test).ravel()"
   ]
  },
  {
   "cell_type": "code",
   "execution_count": 6,
   "id": "78dd41f6-10f8-4d57-855d-5d1a44820c34",
   "metadata": {},
   "outputs": [
    {
     "data": {
      "text/plain": [
       "numpy.ndarray"
      ]
     },
     "execution_count": 6,
     "metadata": {},
     "output_type": "execute_result"
    }
   ],
   "source": [
    "type(out)"
   ]
  },
  {
   "cell_type": "code",
   "execution_count": 6,
   "id": "d634537b-3e1b-4e11-8951-e2b6ed980e88",
   "metadata": {},
   "outputs": [
    {
     "data": {
      "text/plain": [
       "24"
      ]
     },
     "execution_count": 6,
     "metadata": {},
     "output_type": "execute_result"
    }
   ],
   "source": [
    "training_features = [\n",
    "    \"dimuon_mass\",\n",
    "    \"dimuon_pt\",\n",
    "    \"dimuon_pt_log\",\n",
    "    \"dimuon_eta\",\n",
    "    # \"dimuon_ebe_mass_res\",\n",
    "    # \"dimuon_ebe_mass_res_rel\",\n",
    "    # \"dimuon_cos_theta_cs\",\n",
    "    # \"dimuon_phi_cs\",\n",
    "    \"dimuon_pisa_mass_res\",\n",
    "    \"dimuon_pisa_mass_res_rel\",\n",
    "    \"dimuon_cos_theta_cs_pisa\",\n",
    "    \"dimuon_phi_cs_pisa\",\n",
    "    \"jet1_pt\",\n",
    "    \"jet1_eta\",\n",
    "    \"jet1_phi\",\n",
    "    \"jet1_qgl\",\n",
    "    \"jet2_pt\",\n",
    "    \"jet2_eta\",\n",
    "    \"jet2_phi\",\n",
    "    \"jet2_qgl\",\n",
    "    \"jj_mass\",\n",
    "    \"jj_mass_log\",\n",
    "    \"jj_dEta\",\n",
    "    \"rpt\",\n",
    "    \"ll_zstar_log\",\n",
    "    \"mmj_min_dEta\",\n",
    "    \"nsoftjets5\",\n",
    "    \"htsoft2\",\n",
    "]\n",
    "len(training_features)"
   ]
  },
  {
   "cell_type": "code",
   "execution_count": 7,
   "id": "6dfa7457-2a94-4fd9-be1a-eebb3fbdb8b3",
   "metadata": {},
   "outputs": [
    {
     "data": {
      "text/plain": [
       "24"
      ]
     },
     "execution_count": 7,
     "metadata": {},
     "output_type": "execute_result"
    }
   ],
   "source": [
    "# from dmitry's old code https://github.com/kondratyevd/hmumu-coffea/blob/1c3de9ffff97137ecdd884595533f4918012d504/python/postprocessing.py#L329\n",
    "training_features = ['dimuon_mass', 'dimuon_pt', 'dimuon_pt_log', 'dimuon_eta', 'dimuon_mass_res', 'dimuon_mass_res_rel',\\\n",
    "                     'dimuon_cos_theta_cs', 'dimuon_phi_cs', # this could be pisa variables, we will see\n",
    "                     'jet1_pt', 'jet1_eta', 'jet1_phi', 'jet1_qgl', 'jet2_pt', 'jet2_eta', 'jet2_phi', 'jet2_qgl',\\\n",
    "                     'jj_mass', 'jj_mass_log', 'jj_dEta', 'rpt', 'll_zstar_log', 'mmj_min_dEta', 'nsoftjets5', 'htsoft2'\n",
    "                    ]\n",
    "len(training_features)"
   ]
  },
  {
   "cell_type": "code",
   "execution_count": null,
   "id": "ae3871b6-e817-48e1-b58f-cbb411384c11",
   "metadata": {},
   "outputs": [],
   "source": []
  }
 ],
 "metadata": {
  "kernelspec": {
   "display_name": "Python3 kernel (default)",
   "language": "python",
   "name": "python3"
  },
  "language_info": {
   "codemirror_mode": {
    "name": "ipython",
    "version": 3
   },
   "file_extension": ".py",
   "mimetype": "text/x-python",
   "name": "python",
   "nbconvert_exporter": "python",
   "pygments_lexer": "ipython3",
   "version": "3.10.10"
  }
 },
 "nbformat": 4,
 "nbformat_minor": 5
}
